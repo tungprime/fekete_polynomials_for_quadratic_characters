{
 "cells": [
  {
   "cell_type": "code",
   "execution_count": 2,
   "metadata": {
    "collapsed": false
   },
   "outputs": [
   ],
   "source": [
    "R.<x> = PolynomialRing(ZZ)\n",
    "from sage.rings.polynomial.cyclotomic import cyclotomic_coeffs\n",
    "S = ZZ['x']"
   ]
  },
  {
   "cell_type": "code",
   "execution_count": 3,
   "metadata": {
    "collapsed": false
   },
   "outputs": [
   ],
   "source": [
    "def raw_fekete(d):\n",
    "    \"Fekete polynomial with Delta odd \"\n",
    "    if d>0: \n",
    "        D=abs(d)\n",
    "        v=[kronecker(d, a+1) for a in range(0,D-1)]\n",
    "        F_D=R(v)\n",
    "        return F_D*x\n",
    "    else:\n",
    "        D=abs(d)\n",
    "        v=[kronecker(d, a+1) for a in range(0,D-1)]\n",
    "        F_D=-R(v)\n",
    "        return F_D*x\n",
    "        \n",
    "    \n",
    "\n",
    "def fekete(p):\n",
    "    #compute f_p(x) \n",
    "    F_D=raw_fekete(-3*p)\n",
    "    phi_1= S(cyclotomic_coeffs(1))\n",
    "    phi_3= S(cyclotomic_coeffs(3))\n",
    "    phi_p= S(cyclotomic_coeffs(p))\n",
    "    \n",
    "    factor = -x* (phi_1) * (phi_3)* phi_p \n",
    "    \n",
    "    f,r =F_D.quo_rem(factor) \n",
    "    return f\n",
    "    \n",
    "    \n",
    "    \n",
    "def reduced_fekete(d):\n",
    "    f=fekete(d)\n",
    "    u=f.trace_polynomial()\n",
    "    g_D=u[0]\n",
    "    return g_D\n",
    "\n",
    "def fekete_reduction(f, q):\n",
    "    f=f.change_ring(GF(q))\n",
    "    return f.factor()        \n",
    "\n",
    "def reduced_fekete_reduction(g,q):\n",
    "    g=g.change_ring(GF(q))\n",
    "    return g.factor()\n",
    "\n",
    "\n",
    "\n",
    "def almost_cycle(f,n):\n",
    "    for q in range(n):\n",
    "        if is_prime(q): \n",
    "            factor=fekete_reduction(f,q)\n",
    "            if len(factor)==3: \n",
    "                factor1=factor[0][0]\n",
    "                factor2=factor[1][0]\n",
    "                degree1=factor1.degree()\n",
    "                degree2=factor2.degree()\n",
    "                if degree1==1 and degree2==1 and factor[0][1]==1 and factor[1][1]==1 and factor[2][1]==1: \n",
    "                    return q\n",
    "    return  -1         \n",
    "                \n",
    "def irreducible(f,n):\n",
    "    for q in range(n):\n",
    "        if is_prime(q): \n",
    "            factor=fekete_reduction(f,q)\n",
    "            if len(factor)==1 and factor[0][1]==1:\n",
    "                    return q\n",
    "    return  -1         \n",
    "                \n",
    "       \n",
    "    \n",
    "def length_test_2(v):\n",
    "    #count the number of even entries in v\n",
    "    count2=0\n",
    "    for item in v:\n",
    "        if item==2:\n",
    "            count2 +=1\n",
    "    count_even=0     \n",
    "    for item in v:        \n",
    "        if item %2 ==0:\n",
    "            count_even +=1\n",
    "    if count2==count_even==1:\n",
    "        return True\n",
    "    return False    \n",
    "\n",
    "def length_test_4(v):\n",
    "    #count the number of even entries in v\n",
    "    count4=0\n",
    "    for item in v:\n",
    "        if item==4:\n",
    "            count4 +=1\n",
    "    count_even=0     \n",
    "    for item in v:        \n",
    "        if item %2 ==0:\n",
    "            count_even +=1\n",
    "    if count4==count_even==1:\n",
    "        return True\n",
    "    return False    \n",
    "\n",
    "    \n",
    "def two_cycle(f,n):\n",
    "    result=[]\n",
    "    for q in range(n):\n",
    "        v=[]\n",
    "        if is_prime(q):\n",
    "            factor=fekete_reduction(f,q)\n",
    "            for item in factor:\n",
    "                v.append(item[0].degree())\n",
    "        if sum(v)==f.degree() and length_test_2(v):\n",
    "            return q\n",
    "    return -1  \n",
    "\n",
    "def two_cycle_2(f,m,n):\n",
    "    result=[]\n",
    "    for q in range(m,n):\n",
    "        v=[]\n",
    "        if is_prime(q):\n",
    "            factor=fekete_reduction(f,q)\n",
    "            for item in factor:\n",
    "                v.append(item[0].degree())\n",
    "        if sum(v)==f.degree() and length_test_2(v):\n",
    "            return q\n",
    "    return -1    \n",
    "\n",
    "def four_cycle(f,n):\n",
    "    result=[]\n",
    "    for q in range(n):\n",
    "        v=[]\n",
    "        if is_prime(q):\n",
    "            factor=fekete_reduction(f,q)\n",
    "            for item in factor:\n",
    "                v.append(item[0].degree())\n",
    "        if sum(v)==f.degree() and length_test_4(v):\n",
    "            return q\n",
    "    return -1  \n",
    "\n",
    "def cycle(g,n):\n",
    "    for q in range(n):\n",
    "        if is_prime(q): \n",
    "            factor=fekete_reduction(g,q)\n",
    "            if len(factor)==2: \n",
    "                factor1=factor[0][0]\n",
    "                coef=factor1.degree()\n",
    "                if coef==1 and factor[0][1]==1 and factor[1][1]==1: \n",
    "                                   return q\n",
    "    return  -1   \n",
    "                    \n",
    "\n",
    "                    \n",
    "def search_quadruple(f,n):\n",
    "    irr=irreducible(f,n)\n",
    "    print(f\"f is irreducible at q= \", irr)\n",
    "    q_cycle=almost_cycle(f,n)\n",
    "    print(f\"f has an (2m-2) cycle at q=\", q_cycle)\n",
    "    q_tranposition=two_cycle(f,n)\n",
    "    print(f\"f has an 2-cycle at q=\", q_tranposition)\n",
    "    q_four_cycle=four_cycle(f,n)\n",
    "    print(f\"f has an 4-cycle at q=\", q_four_cycle)\n",
    "    \n",
    "\n",
    "def quadruple(f,n):\n",
    "    irr=irreducible(f,n)\n",
    "    q_cycle=almost_cycle(f,n)\n",
    "    q_tranposition=two_cycle(f,n)\n",
    "    q_four_cycle=four_cycle(f,n)\n",
    "    result=(irr, q_cycle, q_tranposition, q_four_cycle)\n",
    "    return result\n",
    "    \n",
    "    \n",
    "def triple(g,n):\n",
    "    irr=irreducible(g,n)\n",
    "    q_cycle=cycle(g,n)\n",
    "    q_tranposition=two_cycle(g,n)\n",
    "    result=[irr, q_cycle, q_tranposition]\n",
    "    return result\n",
    "    \n",
    "   \n",
    "    \n",
    "def two_four_cycle(f,q):\n",
    "    factor = fekete_reduction(f,q)\n",
    "    number_of_factor = len(factor)\n",
    "    #check that f is separable modulo q\n",
    "    for i in range(number_of_factor):\n",
    "        if factor[i][1] >1:\n",
    "            return False\n",
    "    number_two_cycle =0 \n",
    "    number_four_cycle =0 \n",
    "    number_even_cycle =0\n",
    "    for i in range(number_of_factor):\n",
    "        if factor[i][0].degree() ==2:\n",
    "            number_two_cycle +=1\n",
    "        if factor[i][0].degree() == 4:\n",
    "            number_four_cycle +=1 \n",
    "        if factor[i][0].degree() % 2 ==0:\n",
    "            number_even_cycle +=1\n",
    "    if number_two_cycle ==1 and number_four_cycle ==1 and number_even_cycle ==2:\n",
    "        return True\n",
    "    return False\n",
    "            \n",
    "    \n",
    "def search_two_four_cycle(f,n):\n",
    "    for q in range(n):\n",
    "        if is_prime(q):\n",
    "            if two_four_cycle(f,q):\n",
    "                return q\n",
    "    return -1           \n",
    "    \n"
   ]
  },
  {
   "cell_type": "markdown",
   "metadata": {
    "collapsed": false
   },
   "source": [
    "# We test the above codes for d. Here we focus on the case $d =-3p$ with $p \\equiv 1 \\pmod{4}$"
   ]
  },
  {
   "cell_type": "markdown",
   "metadata": {
    "collapsed": false
   },
   "source": [
    "### We first consider the case $d= (-3) \\times 5$"
   ]
  },
  {
   "cell_type": "code",
   "execution_count": 9,
   "metadata": {
    "collapsed": false
   },
   "outputs": [
    {
     "data": {
      "text/plain": [
       "(x - 1) * x * (x^2 + x + 1) * (x^4 + x^3 + x^2 + x + 1) * (x^6 - x^4 + 2*x^3 - x^2 + 1)"
      ]
     },
     "execution_count": 9,
     "metadata": {
     },
     "output_type": "execute_result"
    }
   ],
   "source": [
    "#the Fekete polynomial F_D\n",
    "p= 5\n",
    "d=-3*p \n",
    "F=raw_fekete(d)\n",
    "F.factor()"
   ]
  },
  {
   "cell_type": "code",
   "execution_count": 10,
   "metadata": {
    "collapsed": false
   },
   "outputs": [
    {
     "data": {
      "text/plain": [
       "x^6 - x^4 + 2*x^3 - x^2 + 1"
      ]
     },
     "execution_count": 10,
     "metadata": {
     },
     "output_type": "execute_result"
    }
   ],
   "source": [
    "# Fekete polynomial f_D\n",
    "fekete(p)"
   ]
  },
  {
   "cell_type": "code",
   "execution_count": 12,
   "metadata": {
    "collapsed": false
   },
   "outputs": [
    {
     "data": {
      "text/plain": [
       "x^3 - 4*x + 2"
      ]
     },
     "execution_count": 12,
     "metadata": {
     },
     "output_type": "execute_result"
    }
   ],
   "source": [
    "#reduced Fekete polynomial\n",
    "reduced_fekete(p)"
   ]
  },
  {
   "cell_type": "markdown",
   "metadata": {
    "collapsed": false
   },
   "source": [
    "### Next, we consider $d=(-3) \\times 13$"
   ]
  },
  {
   "cell_type": "code",
   "execution_count": 13,
   "metadata": {
    "collapsed": false
   },
   "outputs": [
    {
     "data": {
      "text/plain": [
       "(x - 1) * x * (x^2 + x + 1) * (x^12 + x^11 + x^10 + x^9 + x^8 + x^7 + x^6 + x^5 + x^4 + x^3 + x^2 + x + 1) * (x^22 - x^20 + 2*x^19 - 2*x^17 + x^16 + 2*x^15 - 3*x^14 + 2*x^13 + 2*x^12 - 4*x^11 + 2*x^10 + 2*x^9 - 3*x^8 + 2*x^7 + x^6 - 2*x^5 + 2*x^3 - x^2 + 1)"
      ]
     },
     "execution_count": 13,
     "metadata": {
     },
     "output_type": "execute_result"
    }
   ],
   "source": [
    "#the Fekete polynomial F_D\n",
    "p= 13\n",
    "d=-3*p \n",
    "F=raw_fekete(d)\n",
    "F.factor()"
   ]
  },
  {
   "cell_type": "code",
   "execution_count": 14,
   "metadata": {
    "collapsed": false
   },
   "outputs": [
    {
     "data": {
      "text/plain": [
       "x^22 - x^20 + 2*x^19 - 2*x^17 + x^16 + 2*x^15 - 3*x^14 + 2*x^13 + 2*x^12 - 4*x^11 + 2*x^10 + 2*x^9 - 3*x^8 + 2*x^7 + x^6 - 2*x^5 + 2*x^3 - x^2 + 1"
      ]
     },
     "execution_count": 14,
     "metadata": {
     },
     "output_type": "execute_result"
    }
   ],
   "source": [
    "f  = fekete(p)\n",
    "f"
   ]
  },
  {
   "cell_type": "code",
   "execution_count": 15,
   "metadata": {
    "collapsed": false
   },
   "outputs": [
    {
     "data": {
      "text/plain": [
       "x^11 - 12*x^9 + 2*x^8 + 53*x^7 - 18*x^6 - 103*x^5 + 54*x^4 + 77*x^3 - 56*x^2 - 4*x + 4"
      ]
     },
     "execution_count": 15,
     "metadata": {
     },
     "output_type": "execute_result"
    }
   ],
   "source": [
    "g = reduced_fekete(p)\n",
    "g"
   ]
  },
  {
   "cell_type": "markdown",
   "metadata": {
    "collapsed": false
   },
   "source": [
    "## Next we consider $d= -3 \\times 17$ "
   ]
  },
  {
   "cell_type": "code",
   "execution_count": 16,
   "metadata": {
    "collapsed": false
   },
   "outputs": [
    {
     "data": {
      "text/plain": [
       "(x - 1) * x * (x^2 + x + 1) * (x^16 + x^15 + x^14 + x^13 + x^12 + x^11 + x^10 + x^9 + x^8 + x^7 + x^6 + x^5 + x^4 + x^3 + x^2 + x + 1) * (x^30 - 2*x^29 + x^28 + 2*x^27 - 2*x^26 + x^24 - 2*x^23 + x^22 + x^18 - x^16 + 2*x^15 - x^14 + x^12 + x^8 - 2*x^7 + x^6 - 2*x^4 + 2*x^3 + x^2 - 2*x + 1)"
      ]
     },
     "execution_count": 16,
     "metadata": {
     },
     "output_type": "execute_result"
    }
   ],
   "source": [
    "#the Fekete polynomial F_D\n",
    "p= 17 \n",
    "d=-3*p \n",
    "F=raw_fekete(d)\n",
    "F.factor()"
   ]
  },
  {
   "cell_type": "code",
   "execution_count": 17,
   "metadata": {
    "collapsed": false
   },
   "outputs": [
    {
     "data": {
      "text/plain": [
       "x^30 - 2*x^29 + x^28 + 2*x^27 - 2*x^26 + x^24 - 2*x^23 + x^22 + x^18 - x^16 + 2*x^15 - x^14 + x^12 + x^8 - 2*x^7 + x^6 - 2*x^4 + 2*x^3 + x^2 - 2*x + 1"
      ]
     },
     "execution_count": 17,
     "metadata": {
     },
     "output_type": "execute_result"
    }
   ],
   "source": [
    "f = fekete(p)\n",
    "f"
   ]
  },
  {
   "cell_type": "code",
   "execution_count": 18,
   "metadata": {
    "collapsed": false
   },
   "outputs": [
    {
     "data": {
      "text/plain": [
       "x^15 - 2*x^14 - 14*x^13 + 30*x^12 + 75*x^11 - 178*x^10 - 187*x^9 + 526*x^8 + 198*x^7 - 796*x^6 - 22*x^5 + 562*x^4 - 76*x^3 - 138*x^2 + 18*x + 6"
      ]
     },
     "execution_count": 18,
     "metadata": {
     },
     "output_type": "execute_result"
    }
   ],
   "source": [
    "g = reduced_fekete(p)\n",
    "g"
   ]
  },
  {
   "cell_type": "markdown",
   "metadata": {
    "collapsed": false
   },
   "source": [
    "## Next we consider $d = -3  \\times 29$"
   ]
  },
  {
   "cell_type": "code",
   "execution_count": 19,
   "metadata": {
    "collapsed": false
   },
   "outputs": [
    {
     "data": {
      "text/plain": [
       "(x - 1) * x * (x^2 + x + 1) * (x^28 + x^27 + x^26 + x^25 + x^24 + x^23 + x^22 + x^21 + x^20 + x^19 + x^18 + x^17 + x^16 + x^15 + x^14 + x^13 + x^12 + x^11 + x^10 + x^9 + x^8 + x^7 + x^6 + x^5 + x^4 + x^3 + x^2 + x + 1) * (x^54 - x^52 + 2*x^51 - 2*x^50 + 3*x^48 - 2*x^47 - x^46 + 2*x^45 - 2*x^43 + 3*x^42 - 3*x^40 + 4*x^39 - 4*x^37 + 3*x^36 - 3*x^34 + 4*x^33 - 2*x^32 - 2*x^31 + 5*x^30 - 2*x^29 - 3*x^28 + 6*x^27 - 3*x^26 - 2*x^25 + 5*x^24 - 2*x^23 - 2*x^22 + 4*x^21 - 3*x^20 + 3*x^18 - 4*x^17 + 4*x^15 - 3*x^14 + 3*x^12 - 2*x^11 + 2*x^9 - x^8 - 2*x^7 + 3*x^6 - 2*x^4 + 2*x^3 - x^2 + 1)"
      ]
     },
     "execution_count": 19,
     "metadata": {
     },
     "output_type": "execute_result"
    }
   ],
   "source": [
    "#the Fekete polynomial F_D\n",
    "p= 29\n",
    "d=-3*p \n",
    "F=raw_fekete(d)\n",
    "F.factor()"
   ]
  },
  {
   "cell_type": "code",
   "execution_count": 20,
   "metadata": {
    "collapsed": false
   },
   "outputs": [
    {
     "data": {
      "text/plain": [
       "x^54 - x^52 + 2*x^51 - 2*x^50 + 3*x^48 - 2*x^47 - x^46 + 2*x^45 - 2*x^43 + 3*x^42 - 3*x^40 + 4*x^39 - 4*x^37 + 3*x^36 - 3*x^34 + 4*x^33 - 2*x^32 - 2*x^31 + 5*x^30 - 2*x^29 - 3*x^28 + 6*x^27 - 3*x^26 - 2*x^25 + 5*x^24 - 2*x^23 - 2*x^22 + 4*x^21 - 3*x^20 + 3*x^18 - 4*x^17 + 4*x^15 - 3*x^14 + 3*x^12 - 2*x^11 + 2*x^9 - x^8 - 2*x^7 + 3*x^6 - 2*x^4 + 2*x^3 - x^2 + 1"
      ]
     },
     "execution_count": 20,
     "metadata": {
     },
     "output_type": "execute_result"
    }
   ],
   "source": [
    "f = fekete(p) \n",
    "f"
   ]
  },
  {
   "cell_type": "code",
   "execution_count": 21,
   "metadata": {
    "collapsed": false
   },
   "outputs": [
    {
     "data": {
      "text/plain": [
       "x^27 - 28*x^25 + 2*x^24 + 347*x^23 - 48*x^22 - 2503*x^21 + 502*x^20 + 11621*x^19 - 2998*x^18 - 36236*x^17 + 11250*x^16 + 76759*x^15 - 27474*x^14 - 109019*x^13 + 43658*x^12 + 99499*x^11 - 43678*x^10 - 53069*x^9 + 25402*x^8 + 12865*x^7 - 7204*x^6 + 113*x^5 + 624*x^4 - 407*x^3 + 12*x + 6"
      ]
     },
     "execution_count": 21,
     "metadata": {
     },
     "output_type": "execute_result"
    }
   ],
   "source": [
    "g = reduced_fekete(p)\n",
    "g"
   ]
  },
  {
   "cell_type": "markdown",
   "metadata": {
    "collapsed": false
   },
   "source": [
    "## Next we consider $d = -3 \\times 37$"
   ]
  },
  {
   "cell_type": "code",
   "execution_count": 22,
   "metadata": {
    "collapsed": false
   },
   "outputs": [
    {
     "data": {
      "text/plain": [
       "(x - 1) * x * (x^2 + x + 1) * (x^36 + x^35 + x^34 + x^33 + x^32 + x^31 + x^30 + x^29 + x^28 + x^27 + x^26 + x^25 + x^24 + x^23 + x^22 + x^21 + x^20 + x^19 + x^18 + x^17 + x^16 + x^15 + x^14 + x^13 + x^12 + x^11 + x^10 + x^9 + x^8 + x^7 + x^6 + x^5 + x^4 + x^3 + x^2 + x + 1) * (x^70 - x^68 + 2*x^67 - 2*x^65 + 3*x^64 - 3*x^62 + 4*x^61 - 2*x^60 - 2*x^59 + 3*x^58 - 3*x^56 + 4*x^55 - 4*x^53 + 3*x^52 + 2*x^51 - 5*x^50 + 2*x^49 + 4*x^48 - 6*x^47 + 3*x^46 + 2*x^45 - 5*x^44 + 4*x^43 + 2*x^42 - 6*x^41 + 3*x^40 + 4*x^39 - 7*x^38 + 4*x^37 + 4*x^36 - 8*x^35 + 4*x^34 + 4*x^33 - 7*x^32 + 4*x^31 + 3*x^30 - 6*x^29 + 2*x^28 + 4*x^27 - 5*x^26 + 2*x^25 + 3*x^24 - 6*x^23 + 4*x^22 + 2*x^21 - 5*x^20 + 2*x^19 + 3*x^18 - 4*x^17 + 4*x^15 - 3*x^14 + 3*x^12 - 2*x^11 - 2*x^10 + 4*x^9 - 3*x^8 + 3*x^6 - 2*x^5 + 2*x^3 - x^2 + 1)"
      ]
     },
     "execution_count": 22,
     "metadata": {
     },
     "output_type": "execute_result"
    }
   ],
   "source": [
    "#the Fekete polynomial F_D\n",
    "p= 37\n",
    "d=-3*p \n",
    "F=raw_fekete(d)\n",
    "F.factor()"
   ]
  },
  {
   "cell_type": "code",
   "execution_count": 23,
   "metadata": {
    "collapsed": false
   },
   "outputs": [
    {
     "data": {
      "text/plain": [
       "x^70 - x^68 + 2*x^67 - 2*x^65 + 3*x^64 - 3*x^62 + 4*x^61 - 2*x^60 - 2*x^59 + 3*x^58 - 3*x^56 + 4*x^55 - 4*x^53 + 3*x^52 + 2*x^51 - 5*x^50 + 2*x^49 + 4*x^48 - 6*x^47 + 3*x^46 + 2*x^45 - 5*x^44 + 4*x^43 + 2*x^42 - 6*x^41 + 3*x^40 + 4*x^39 - 7*x^38 + 4*x^37 + 4*x^36 - 8*x^35 + 4*x^34 + 4*x^33 - 7*x^32 + 4*x^31 + 3*x^30 - 6*x^29 + 2*x^28 + 4*x^27 - 5*x^26 + 2*x^25 + 3*x^24 - 6*x^23 + 4*x^22 + 2*x^21 - 5*x^20 + 2*x^19 + 3*x^18 - 4*x^17 + 4*x^15 - 3*x^14 + 3*x^12 - 2*x^11 - 2*x^10 + 4*x^9 - 3*x^8 + 3*x^6 - 2*x^5 + 2*x^3 - x^2 + 1"
      ]
     },
     "execution_count": 23,
     "metadata": {
     },
     "output_type": "execute_result"
    }
   ],
   "source": [
    "f = fekete(p) \n",
    "f"
   ]
  },
  {
   "cell_type": "code",
   "execution_count": 24,
   "metadata": {
    "collapsed": false
   },
   "outputs": [
    {
     "data": {
      "text/plain": [
       "x^35 - 36*x^33 + 2*x^32 + 593*x^31 - 66*x^30 - 5917*x^29 + 988*x^28 + 39901*x^27 - 8870*x^26 - 192074*x^25 + 53194*x^24 + 679511*x^23 - 224616*x^22 - 1791609*x^21 + 685724*x^20 + 3531766*x^19 - 1529546*x^18 - 5173751*x^17 + 2489146*x^16 + 5545990*x^15 - 2918862*x^14 - 4237338*x^13 + 2407098*x^12 + 2216820*x^11 - 1343116*x^10 - 748910*x^9 + 479302*x^8 + 149962*x^7 - 101360*x^6 - 15278*x^5 + 11514*x^4 + 397*x^3 - 616*x^2 + 44*x + 8"
      ]
     },
     "execution_count": 24,
     "metadata": {
     },
     "output_type": "execute_result"
    }
   ],
   "source": [
    "g =reduced_fekete(p)\n",
    "g"
   ]
  },
  {
   "cell_type": "code",
   "execution_count": 7,
   "metadata": {
    "collapsed": false
   },
   "outputs": [
    {
     "data": {
      "text/plain": [
       "(x - 1) * x * (x^2 + x + 1) * (x^52 + x^51 + x^50 + x^49 + x^48 + x^47 + x^46 + x^45 + x^44 + x^43 + x^42 + x^41 + x^40 + x^39 + x^38 + x^37 + x^36 + x^35 + x^34 + x^33 + x^32 + x^31 + x^30 + x^29 + x^28 + x^27 + x^26 + x^25 + x^24 + x^23 + x^22 + x^21 + x^20 + x^19 + x^18 + x^17 + x^16 + x^15 + x^14 + x^13 + x^12 + x^11 + x^10 + x^9 + x^8 + x^7 + x^6 + x^5 + x^4 + x^3 + x^2 + x + 1) * (x^102 - x^100 + 2*x^99 - 2*x^97 + 3*x^96 - 3*x^94 + 4*x^93 - 2*x^92 - 2*x^91 + 5*x^90 - 2*x^89 - 3*x^88 + 6*x^87 - 4*x^86 - 2*x^85 + 5*x^84 - 2*x^83 - 3*x^82 + 4*x^81 - 4*x^79 + 5*x^78 - 5*x^76 + 6*x^75 - 2*x^74 - 4*x^73 + 5*x^72 - 5*x^70 + 4*x^69 + 2*x^68 - 6*x^67 + 5*x^66 - 5*x^64 + 6*x^63 - 6*x^61 + 7*x^60 - 2*x^59 - 5*x^58 + 8*x^57 - 4*x^56 - 4*x^55 + 9*x^54 - 4*x^53 - 5*x^52 + 10*x^51 - 5*x^50 - 4*x^49 + 9*x^48 - 4*x^47 - 4*x^46 + 8*x^45 - 5*x^44 - 2*x^43 + 7*x^42 - 6*x^41 + 6*x^39 - 5*x^38 + 5*x^36 - 6*x^35 + 2*x^34 + 4*x^33 - 5*x^32 + 5*x^30 - 4*x^29 - 2*x^28 + 6*x^27 - 5*x^26 + 5*x^24 - 4*x^23 + 4*x^21 - 3*x^20 - 2*x^19 + 5*x^18 - 2*x^17 - 4*x^16 + 6*x^15 - 3*x^14 - 2*x^13 + 5*x^12 - 2*x^11 - 2*x^10 + 4*x^9 - 3*x^8 + 3*x^6 - 2*x^5 + 2*x^3 - x^2 + 1)"
      ]
     },
     "execution_count": 7,
     "metadata": {
     },
     "output_type": "execute_result"
    }
   ],
   "source": [
    "#the Fekete polynomial F_D\n",
    "p= 53\n",
    "d=-3*p \n",
    "F=raw_fekete(d)\n",
    "F.factor()"
   ]
  },
  {
   "cell_type": "code",
   "execution_count": 8,
   "metadata": {
    "collapsed": false
   },
   "outputs": [
    {
     "data": {
      "text/plain": [
       "x^102 - x^100 + 2*x^99 - 2*x^97 + 3*x^96 - 3*x^94 + 4*x^93 - 2*x^92 - 2*x^91 + 5*x^90 - 2*x^89 - 3*x^88 + 6*x^87 - 4*x^86 - 2*x^85 + 5*x^84 - 2*x^83 - 3*x^82 + 4*x^81 - 4*x^79 + 5*x^78 - 5*x^76 + 6*x^75 - 2*x^74 - 4*x^73 + 5*x^72 - 5*x^70 + 4*x^69 + 2*x^68 - 6*x^67 + 5*x^66 - 5*x^64 + 6*x^63 - 6*x^61 + 7*x^60 - 2*x^59 - 5*x^58 + 8*x^57 - 4*x^56 - 4*x^55 + 9*x^54 - 4*x^53 - 5*x^52 + 10*x^51 - 5*x^50 - 4*x^49 + 9*x^48 - 4*x^47 - 4*x^46 + 8*x^45 - 5*x^44 - 2*x^43 + 7*x^42 - 6*x^41 + 6*x^39 - 5*x^38 + 5*x^36 - 6*x^35 + 2*x^34 + 4*x^33 - 5*x^32 + 5*x^30 - 4*x^29 - 2*x^28 + 6*x^27 - 5*x^26 + 5*x^24 - 4*x^23 + 4*x^21 - 3*x^20 - 2*x^19 + 5*x^18 - 2*x^17 - 4*x^16 + 6*x^15 - 3*x^14 - 2*x^13 + 5*x^12 - 2*x^11 - 2*x^10 + 4*x^9 - 3*x^8 + 3*x^6 - 2*x^5 + 2*x^3 - x^2 + 1"
      ]
     },
     "execution_count": 8,
     "metadata": {
     },
     "output_type": "execute_result"
    }
   ],
   "source": [
    "f = fekete(p)\n",
    "f"
   ]
  },
  {
   "cell_type": "code",
   "execution_count": 11,
   "metadata": {
    "collapsed": false
   },
   "outputs": [
    {
     "data": {
      "text/plain": [
       "x^118 - x^116 + 2*x^115 - 2*x^114 + x^112 - x^110 + 2*x^108 - 2*x^107 + x^106 - x^104 + 2*x^103 - 2*x^101 + 3*x^100 - 2*x^99 - x^98 + 4*x^97 - 2*x^96 - 2*x^95 + 5*x^94 - 2*x^93 - 3*x^92 + 4*x^91 - 4*x^89 + 3*x^88 + 2*x^87 - 5*x^86 + 4*x^85 + 2*x^84 - 6*x^83 + 3*x^82 + 4*x^81 - 7*x^80 + 2*x^79 + 4*x^78 - 6*x^77 + x^76 + 6*x^75 - 7*x^74 + 2*x^73 + 4*x^72 - 6*x^71 + 3*x^70 + 4*x^69 - 7*x^68 + 4*x^67 + 4*x^66 - 8*x^65 + 3*x^64 + 4*x^63 - 7*x^62 + 4*x^61 + 4*x^60 - 8*x^59 + 4*x^58 + 4*x^57 - 7*x^56 + 4*x^55 + 3*x^54 - 8*x^53 + 4*x^52 + 4*x^51 - 7*x^50 + 4*x^49 + 3*x^48 - 6*x^47 + 4*x^46 + 2*x^45 - 7*x^44 + 6*x^43 + x^42 - 6*x^41 + 4*x^40 + 2*x^39 - 7*x^38 + 4*x^37 + 3*x^36 - 6*x^35 + 2*x^34 + 4*x^33 - 5*x^32 + 2*x^31 + 3*x^30 - 4*x^29 + 4*x^27 - 3*x^26 - 2*x^25 + 5*x^24 - 2*x^23 - 2*x^22 + 4*x^21 - x^20 - 2*x^19 + 3*x^18 - 2*x^17 + 2*x^15 - x^14 + x^12 - 2*x^11 + 2*x^10 - x^8 + x^6 - 2*x^4 + 2*x^3 - x^2 + 1"
      ]
     },
     "execution_count": 11,
     "metadata": {
     },
     "output_type": "execute_result"
    }
   ],
   "source": [
    "p=61\n",
    "f = fekete(p)\n",
    "f"
   ]
  },
  {
   "cell_type": "markdown",
   "metadata": {
    "collapsed": false
   },
   "source": [
    "## The Galois groups of $f_{\\Delta}(x)$ and $g_{\\Delta}(x)$. "
   ]
  },
  {
   "cell_type": "code",
   "execution_count": 3,
   "metadata": {
    "collapsed": false
   },
   "outputs": [
    {
     "name": "stdout",
     "output_type": "stream",
     "text": [
      "17 (59, 41, 359, 137)\n"
     ]
    },
    {
     "name": "stdout",
     "output_type": "stream",
     "text": [
      "41 (659, 1433, 173, 1097)\n"
     ]
    },
    {
     "name": "stdout",
     "output_type": "stream",
     "text": [
      "73 (17, 701, 1409, 1709)\n"
     ]
    },
    {
     "name": "stdout",
     "output_type": "stream",
     "text": [
      "89 (509, 12539, 269, 317)\n"
     ]
    },
    {
     "name": "stdout",
     "output_type": "stream",
     "text": [
      "97 (1259, 2063, 1223, 179)\n"
     ]
    }
   ],
   "source": [
    "P=Primes()\n",
    "p = 7\n",
    "n = 10**5 \n",
    "while p < 100: \n",
    "    if p % 8 ==1:\n",
    "        f = fekete(p)\n",
    "        print(p, quadruple(f,n))\n",
    "    p = P.next(p)  "
   ]
  },
  {
   "cell_type": "code",
   "execution_count": 4,
   "metadata": {
    "collapsed": false
   },
   "outputs": [
    {
     "name": "stdout",
     "output_type": "stream",
     "text": [
      "113 (7907, 1307, 251, 2141)\n"
     ]
    },
    {
     "name": "stdout",
     "output_type": "stream",
     "text": [
      "137 (257, 419, 4157, 953)\n"
     ]
    },
    {
     "name": "stdout",
     "output_type": "stream",
     "text": [
      "193 (4973, 9431, 167, 3539)\n"
     ]
    }
   ],
   "source": [
    "P=Primes()\n",
    "p = 100\n",
    "n = 10**5 \n",
    "while p < 200: \n",
    "    if p % 8 ==1:\n",
    "        f = fekete(p)\n",
    "        print(p, quadruple(f,n))\n",
    "    p = P.next(p)  "
   ]
  },
  {
   "cell_type": "code",
   "execution_count": 8,
   "metadata": {
    "collapsed": false
   },
   "outputs": [
    {
     "name": "stdout",
     "output_type": "stream",
     "text": [
      "193 (4973, 9431, 167, 3539)\n",
      "CPU times: user 3min 41s, sys: 655 ms, total: 3min 41s\n",
      "Wall time: 3min 47s\n"
     ]
    }
   ],
   "source": [
    "%%time \n",
    "P=Primes()\n",
    "p = 138\n",
    "n = 10**5 \n",
    "while p < 200: \n",
    "    if p % 8 ==1:\n",
    "        f = fekete(p)\n",
    "        print(p, quadruple(f,n))\n",
    "    p = P.next(p) "
   ]
  },
  {
   "cell_type": "code",
   "execution_count": 4,
   "metadata": {
    "collapsed": false
   },
   "outputs": [
    {
     "name": "stdout",
     "output_type": "stream",
     "text": [
      "233 (83, 3989, 5507, 4049)\n"
     ]
    },
    {
     "name": "stdout",
     "output_type": "stream",
     "text": [
      "241 (3299, 1319, 281, 947)\n"
     ]
    },
    {
     "name": "stdout",
     "output_type": "stream",
     "text": [
      "257 (10487, 21767, 5813, 1709)\n"
     ]
    },
    {
     "name": "stdout",
     "output_type": "stream",
     "text": [
      "281 (719, 6959, 2237, 3701)\n",
      "CPU times: user 27min 20s, sys: 4.59 s, total: 27min 25s\n",
      "Wall time: 28min 39s\n"
     ]
    }
   ],
   "source": [
    "%%time\n",
    "P=Primes()\n",
    "p = 200\n",
    "n = 10**5 \n",
    "while p < 300: \n",
    "    if p % 8 ==1:\n",
    "        f = fekete(p)\n",
    "        print(p, quadruple(f,n))\n",
    "    p = P.next(p) "
   ]
  },
  {
   "cell_type": "code",
   "execution_count": 7,
   "metadata": {
    "collapsed": false
   },
   "outputs": [
    {
     "name": "stdout",
     "output_type": "stream",
     "text": [
      "313 (2207, 4253, 2417, 773)\n"
     ]
    },
    {
     "name": "stdout",
     "output_type": "stream",
     "text": [
      "337 (2039, 257, 2153, 7793)\n"
     ]
    },
    {
     "name": "stdout",
     "output_type": "stream",
     "text": [
      "353 (7349, 10631, 7841, 3329)\n",
      "CPU times: user 38min 38s, sys: 3.18 s, total: 38min 41s\n",
      "Wall time: 40min 22s\n"
     ]
    }
   ],
   "source": [
    "%%time\n",
    "P=Primes()\n",
    "p = 300\n",
    "n = 10**5 \n",
    "while p < 400: \n",
    "    if p % 8 ==1:\n",
    "        f = fekete(p)\n",
    "        print(p, quadruple(f,n))\n",
    "    p = P.next(p) "
   ]
  },
  {
   "cell_type": "code",
   "execution_count": 3,
   "metadata": {
    "collapsed": false
   },
   "outputs": [
    {
     "name": "stdout",
     "output_type": "stream",
     "text": [
      "401 (2393, 17333, 2969, 26627)\n"
     ]
    },
    {
     "name": "stdout",
     "output_type": "stream",
     "text": [
      "409 (653, 1367, 461, 503)\n"
     ]
    },
    {
     "name": "stdout",
     "output_type": "stream",
     "text": [
      "433 (2741, 11177, 4133, 503)\n"
     ]
    },
    {
     "name": "stdout",
     "output_type": "stream",
     "text": [
      "449 (23117, 9419, 977, 3539)\n"
     ]
    },
    {
     "name": "stdout",
     "output_type": "stream",
     "text": [
      "457 (21221, 13859, 5399, 2633)\n",
      "CPU times: user 3h 13min 25s, sys: 14.6 s, total: 3h 13min 40s\n",
      "Wall time: 3h 22min 48s\n"
     ]
    }
   ],
   "source": [
    "%%time\n",
    "P=Primes()\n",
    "p = 400\n",
    "n = 10**5 \n",
    "while p < 500: \n",
    "    if p % 8 ==1:\n",
    "        f = fekete(p)\n",
    "        print(p, quadruple(f,n))\n",
    "    p = P.next(p) "
   ]
  },
  {
   "cell_type": "code",
   "execution_count": 3,
   "metadata": {
    "collapsed": false
   },
   "outputs": [
    {
     "name": "stdout",
     "output_type": "stream",
     "text": [
      "521 (10253, 6311, 2963, 2297)\n",
      "CPU times: user 40min 43s, sys: 3.06 s, total: 40min 46s\n",
      "Wall time: 43min 9s\n"
     ]
    }
   ],
   "source": [
    "%%time\n",
    "P=Primes()\n",
    "p = 500\n",
    "n = 10**5 \n",
    "while p < 530: \n",
    "    if p % 8 ==1:\n",
    "        f = fekete(p)\n",
    "        print(p, quadruple(f,n))\n",
    "    p = P.next(p) "
   ]
  },
  {
   "cell_type": "code",
   "execution_count": 6,
   "metadata": {
    "collapsed": false
   },
   "outputs": [
    {
     "name": "stdout",
     "output_type": "stream",
     "text": [
      "569 (13883, 5573, 443, 10133)\n",
      "CPU times: user 1h 10min 32s, sys: 7.06 s, total: 1h 10min 40s\n",
      "Wall time: 1h 13min 17s\n"
     ]
    }
   ],
   "source": [
    "%%time\n",
    "P=Primes()\n",
    "p = 530\n",
    "n = 10**5 \n",
    "while p < 570: \n",
    "    if p % 8 ==1:\n",
    "        f = fekete(p)\n",
    "        print(p, quadruple(f,n))\n",
    "    p = P.next(p) "
   ]
  },
  {
   "cell_type": "code",
   "execution_count": 3,
   "metadata": {
    "collapsed": false
   },
   "outputs": [
   ],
   "source": [
    "%%time\n",
    "P=Primes()\n",
    "p = 570\n",
    "n = 10**5 \n",
    "while p < 580: \n",
    "    if p % 8 ==1:\n",
    "        f = fekete(p)\n",
    "        print(p, quadruple(f,n))\n",
    "    p = P.next(p) "
   ]
  },
  {
   "cell_type": "markdown",
   "metadata": {
    "collapsed": false
   },
   "source": [
    "## The Galois group of $g_{\\Delta}(x)$ "
   ]
  },
  {
   "cell_type": "code",
   "execution_count": 3,
   "metadata": {
    "collapsed": false
   },
   "outputs": [
    {
     "name": "stdout",
     "output_type": "stream",
     "text": [
      "13 [3, 29, 47]\n",
      "17 [59, 41, 137]\n",
      "29 [41, 67, 13]\n"
     ]
    },
    {
     "name": "stdout",
     "output_type": "stream",
     "text": [
      "37 [379, 269, 71]\n",
      "41 [659, 31, 19]\n",
      "53 [13, 211, 11]\n"
     ]
    },
    {
     "name": "stdout",
     "output_type": "stream",
     "text": [
      "61 [883, 1877, 37]\n",
      "73 [17, 337, 5]\n"
     ]
    },
    {
     "name": "stdout",
     "output_type": "stream",
     "text": [
      "89 [509, 151, 227]\n"
     ]
    },
    {
     "name": "stdout",
     "output_type": "stream",
     "text": [
      "97 [1259, 151, 179]\n"
     ]
    },
    {
     "name": "stdout",
     "output_type": "stream",
     "text": [
      "101 [577, 307, 67]\n"
     ]
    },
    {
     "name": "stdout",
     "output_type": "stream",
     "text": [
      "109 [2383, 229, 97]\n"
     ]
    },
    {
     "name": "stdout",
     "output_type": "stream",
     "text": [
      "113 [13, 1307, 5]\n"
     ]
    },
    {
     "name": "stdout",
     "output_type": "stream",
     "text": [
      "137 [257, 419, 5]\n"
     ]
    },
    {
     "name": "stdout",
     "output_type": "stream",
     "text": [
      "149 [311, 811, 43]\n"
     ]
    },
    {
     "name": "stdout",
     "output_type": "stream",
     "text": [
      "157 [997, 1213, 47]\n"
     ]
    },
    {
     "name": "stdout",
     "output_type": "stream",
     "text": [
      "173 [71, 1723, 47]\n"
     ]
    },
    {
     "name": "stdout",
     "output_type": "stream",
     "text": [
      "181 [2441, 541, 397]\n"
     ]
    },
    {
     "name": "stdout",
     "output_type": "stream",
     "text": [
      "193 [607, 113, 79]\n"
     ]
    },
    {
     "name": "stdout",
     "output_type": "stream",
     "text": [
      "197 [191, 409, 179]\n",
      "CPU times: user 13.7 s, sys: 45.1 ms, total: 13.7 s\n",
      "Wall time: 14.5 s\n"
     ]
    }
   ],
   "source": [
    "%%time\n",
    "P=Primes()\n",
    "p = 13\n",
    "n = 10**5 \n",
    "while p < 200: \n",
    "    if p % 4 ==1:\n",
    "        g = reduced_fekete(p)\n",
    "        print(p, triple(g,n))\n",
    "    p = P.next(p)"
   ]
  },
  {
   "cell_type": "code",
   "execution_count": 6,
   "metadata": {
    "collapsed": false
   },
   "outputs": [
    {
     "name": "stdout",
     "output_type": "stream",
     "text": [
      "229 [733, 3271, 107]\n"
     ]
    },
    {
     "name": "stdout",
     "output_type": "stream",
     "text": [
      "233 [83, 1669, 7]\n"
     ]
    },
    {
     "name": "stdout",
     "output_type": "stream",
     "text": [
      "241 [2659, 1319, 43]\n"
     ]
    },
    {
     "name": "stdout",
     "output_type": "stream",
     "text": [
      "257 [10487, 983, 23]\n"
     ]
    },
    {
     "name": "stdout",
     "output_type": "stream",
     "text": [
      "269 [1571, 1453, 61]\n"
     ]
    },
    {
     "name": "stdout",
     "output_type": "stream",
     "text": [
      "277 [83, 4787, 197]\n"
     ]
    },
    {
     "name": "stdout",
     "output_type": "stream",
     "text": [
      "281 [541, 5279, 89]\n"
     ]
    },
    {
     "name": "stdout",
     "output_type": "stream",
     "text": [
      "293 [1663, 1069, 181]\n"
     ]
    },
    {
     "name": "stdout",
     "output_type": "stream",
     "text": [
      "313 [2207, 137, 167]\n"
     ]
    },
    {
     "name": "stdout",
     "output_type": "stream",
     "text": [
      "317 [419, 139, 409]\n"
     ]
    },
    {
     "name": "stdout",
     "output_type": "stream",
     "text": [
      "337 [787, 257, 661]\n"
     ]
    },
    {
     "name": "stdout",
     "output_type": "stream",
     "text": [
      "349 [101, 2663, 47]\n"
     ]
    },
    {
     "name": "stdout",
     "output_type": "stream",
     "text": [
      "353 [7349, 4373, 37]\n"
     ]
    },
    {
     "name": "stdout",
     "output_type": "stream",
     "text": [
      "373 [761, 4003, 223]\n"
     ]
    },
    {
     "name": "stdout",
     "output_type": "stream",
     "text": [
      "389 [3659, 2729, 173]\n"
     ]
    },
    {
     "name": "stdout",
     "output_type": "stream",
     "text": [
      "397 [2017, 2467, 313]\n"
     ]
    },
    {
     "name": "stdout",
     "output_type": "stream",
     "text": [
      "401 [2393, 4639, 439]\n"
     ]
    },
    {
     "name": "stdout",
     "output_type": "stream",
     "text": [
      "409 [653, 211, 137]\n"
     ]
    },
    {
     "name": "stdout",
     "output_type": "stream",
     "text": [
      "421 [2081, 5821, 599]\n"
     ]
    },
    {
     "name": "stdout",
     "output_type": "stream",
     "text": [
      "433 [2741, 241, 19]\n"
     ]
    },
    {
     "name": "stdout",
     "output_type": "stream",
     "text": [
      "449 [9133, 2917, 191]\n"
     ]
    },
    {
     "name": "stdout",
     "output_type": "stream",
     "text": [
      "457 [21221, 4253, 197]\n"
     ]
    },
    {
     "name": "stdout",
     "output_type": "stream",
     "text": [
      "461 [2789, 31, 163]\n",
      "CPU times: user 8min 2s, sys: 1.21 s, total: 8min 4s\n",
      "Wall time: 8min 17s\n"
     ]
    }
   ],
   "source": [
    "%%time\n",
    "P=Primes()\n",
    "p = 200\n",
    "n = 10**5 \n",
    "while p < 500: \n",
    "    if p % 4 ==1:\n",
    "        g = reduced_fekete(p)\n",
    "        print(p, triple(g,n))\n",
    "    p = P.next(p)"
   ]
  },
  {
   "cell_type": "code",
   "execution_count": 7,
   "metadata": {
    "collapsed": false
   },
   "outputs": [
    {
     "name": "stdout",
     "output_type": "stream",
     "text": [
      "509 [1699, 3011, 1013]\n"
     ]
    },
    {
     "name": "stdout",
     "output_type": "stream",
     "text": [
      "521 [6337, 3109, 73]\n"
     ]
    },
    {
     "name": "stdout",
     "output_type": "stream",
     "text": [
      "541 [5059, 1151, 191]\n"
     ]
    },
    {
     "name": "stdout",
     "output_type": "stream",
     "text": [
      "557 [797, 3461, 181]\n"
     ]
    },
    {
     "name": "stdout",
     "output_type": "stream",
     "text": [
      "569 [13171, 5573, 269]\n"
     ]
    },
    {
     "name": "stdout",
     "output_type": "stream",
     "text": [
      "577 [10487, 4421, 113]\n"
     ]
    },
    {
     "name": "stdout",
     "output_type": "stream",
     "text": [
      "593 [193, 11383, 277]\n"
     ]
    },
    {
     "name": "stdout",
     "output_type": "stream",
     "text": [
      "601 [2237, 1831, 571]\n"
     ]
    },
    {
     "name": "stdout",
     "output_type": "stream",
     "text": [
      "613 [17321, 919, 337]\n"
     ]
    },
    {
     "name": "stdout",
     "output_type": "stream",
     "text": [
      "617 [1231, 4159, 523]\n"
     ]
    },
    {
     "name": "stdout",
     "output_type": "stream",
     "text": [
      "641 [163, 2213, 41]\n"
     ]
    },
    {
     "name": "stdout",
     "output_type": "stream",
     "text": [
      "653 [3019, 2281, 1361]\n"
     ]
    },
    {
     "name": "stdout",
     "output_type": "stream",
     "text": [
      "661 [2341, 1409, 11]\n"
     ]
    },
    {
     "name": "stdout",
     "output_type": "stream",
     "text": [
      "673 [359, 2719, 373]\n"
     ]
    },
    {
     "name": "stdout",
     "output_type": "stream",
     "text": [
      "677 [3323, 3023, 547]\n"
     ]
    },
    {
     "name": "stdout",
     "output_type": "stream",
     "text": [
      "701 [421, 6007, 61]\n"
     ]
    },
    {
     "name": "stdout",
     "output_type": "stream",
     "text": [
      "709 [7793, 7901, 151]\n"
     ]
    },
    {
     "name": "stdout",
     "output_type": "stream",
     "text": [
      "733 [4937, 2593, 239]\n"
     ]
    },
    {
     "name": "stdout",
     "output_type": "stream",
     "text": [
      "757 [1787, 10847, 97]\n"
     ]
    },
    {
     "name": "stdout",
     "output_type": "stream",
     "text": [
      "761 [17317, 12497, 373]\n"
     ]
    },
    {
     "name": "stdout",
     "output_type": "stream",
     "text": [
      "769 [3557, 1361, 487]\n"
     ]
    },
    {
     "name": "stdout",
     "output_type": "stream",
     "text": [
      "773 [761, 5179, 859]\n"
     ]
    },
    {
     "name": "stdout",
     "output_type": "stream",
     "text": [
      "797 [7349, 1873, 1237]\n"
     ]
    },
    {
     "name": "stdout",
     "output_type": "stream",
     "text": [
      "809 [10091, 26297, 7]\n"
     ]
    },
    {
     "name": "stdout",
     "output_type": "stream",
     "text": [
      "821 [5011, 2027, 919]\n"
     ]
    },
    {
     "name": "stdout",
     "output_type": "stream",
     "text": [
      "829 [2957, 4481, 571]\n"
     ]
    },
    {
     "name": "stdout",
     "output_type": "stream",
     "text": [
      "853 [6719, 3527, 607]\n"
     ]
    },
    {
     "name": "stdout",
     "output_type": "stream",
     "text": [
      "857 [28571, 14461, 19]\n"
     ]
    },
    {
     "name": "stdout",
     "output_type": "stream",
     "text": [
      "877 [173, 151, 347]\n"
     ]
    },
    {
     "name": "stdout",
     "output_type": "stream",
     "text": [
      "881 [1777, 8069, 281]\n"
     ]
    }
   ],
   "source": [
    "%%time\n",
    "P=Primes()\n",
    "p = 500\n",
    "n = 10**5 \n",
    "while p < 1000: \n",
    "    if p % 4 ==1:\n",
    "        g = reduced_fekete(p)\n",
    "        print(p, triple(g,n))\n",
    "    p = P.next(p)"
   ]
  },
  {
   "cell_type": "code",
   "execution_count": 3,
   "metadata": {
    "collapsed": false
   },
   "outputs": [
    {
     "name": "stdout",
     "output_type": "stream",
     "text": [
      "929 [10313, 56807, 139]\n"
     ]
    },
    {
     "name": "stdout",
     "output_type": "stream",
     "text": [
      "937 [3167, 2803, 17]\n"
     ]
    },
    {
     "name": "stdout",
     "output_type": "stream",
     "text": [
      "941 [2267, 1987, 337]\n"
     ]
    },
    {
     "name": "stdout",
     "output_type": "stream",
     "text": [
      "953 [1481, 2309, 227]\n"
     ]
    },
    {
     "name": "stdout",
     "output_type": "stream",
     "text": [
      "977 [9377, 5333, 349]\n"
     ]
    },
    {
     "name": "stdout",
     "output_type": "stream",
     "text": [
      "997 [8689, 11969, 103]\n",
      "CPU times: user 53min 25s, sys: 4.95 s, total: 53min 30s\n",
      "Wall time: 1h 34min 31s\n"
     ]
    }
   ],
   "source": [
    "%%time\n",
    "P=Primes()\n",
    "p = 882\n",
    "n = 10**5 \n",
    "while p < 1000: \n",
    "    if p % 4 ==1:\n",
    "        g = reduced_fekete(p)\n",
    "        print(p, triple(g,n))\n",
    "    p = P.next(p)"
   ]
  },
  {
   "cell_type": "markdown",
   "metadata": {
    "collapsed": false
   },
   "source": [
    "## Discriminant of $f$ "
   ]
  },
  {
   "cell_type": "code",
   "execution_count": 14,
   "metadata": {
    "collapsed": false
   },
   "outputs": [
    {
     "data": {
      "text/plain": [
       "True"
      ]
     },
     "execution_count": 14,
     "metadata": {
     },
     "output_type": "execute_result"
    }
   ],
   "source": [
    "p= 5\n",
    "d=-3*p \n",
    "f=fekete(p)\n",
    "f.discriminant().is_square()"
   ]
  },
  {
   "cell_type": "code",
   "execution_count": 15,
   "metadata": {
    "collapsed": false
   },
   "outputs": [
    {
     "data": {
      "text/plain": [
       "True"
      ]
     },
     "execution_count": 15,
     "metadata": {
     },
     "output_type": "execute_result"
    }
   ],
   "source": [
    "p= 13\n",
    "d=-3*p \n",
    "f=fekete(p)\n",
    "f.discriminant().is_square()"
   ]
  },
  {
   "cell_type": "code",
   "execution_count": 13,
   "metadata": {
    "collapsed": false
   },
   "outputs": [
    {
     "data": {
      "text/plain": [
       "False"
      ]
     },
     "execution_count": 13,
     "metadata": {
     },
     "output_type": "execute_result"
    }
   ],
   "source": [
    "p= 17\n",
    "d=-3*p \n",
    "f=fekete(p)\n",
    "f.discriminant().is_square()"
   ]
  },
  {
   "cell_type": "code",
   "execution_count": 12,
   "metadata": {
    "collapsed": false
   },
   "outputs": [
    {
     "data": {
      "text/plain": [
       "True"
      ]
     },
     "execution_count": 12,
     "metadata": {
     },
     "output_type": "execute_result"
    }
   ],
   "source": [
    "p= 29\n",
    "d=-3*p \n",
    "f=fekete(p)\n",
    "f.discriminant().is_square()"
   ]
  },
  {
   "cell_type": "code",
   "execution_count": 17,
   "metadata": {
    "collapsed": false
   },
   "outputs": [
    {
     "data": {
      "text/plain": [
       "True"
      ]
     },
     "execution_count": 17,
     "metadata": {
     },
     "output_type": "execute_result"
    }
   ],
   "source": [
    "p= 37\n",
    "d=-3*p \n",
    "f=fekete(p)\n",
    "f.discriminant().is_square()"
   ]
  },
  {
   "cell_type": "code",
   "execution_count": 19,
   "metadata": {
    "collapsed": false
   },
   "outputs": [
    {
     "name": "stdout",
     "output_type": "stream",
     "text": [
      "5 5 True\n",
      "13 5 True\n",
      "17 1 False\n",
      "29 5 True\n",
      "37 5 True\n",
      "41 1 False\n",
      "53 5 True\n",
      "61 5 True\n",
      "73 1 False\n",
      "89 1 False\n",
      "97 1 False\n",
      "101 5 True\n",
      "109 5 True\n",
      "113 1 False\n",
      "137 1 False\n",
      "149 5 True\n"
     ]
    },
    {
     "name": "stdout",
     "output_type": "stream",
     "text": [
      "157 5 True\n",
      "173 5 True\n",
      "181 5 True\n",
      "193 1 False\n",
      "197 5 True\n"
     ]
    },
    {
     "name": "stdout",
     "output_type": "stream",
     "text": [
      "229 5 True\n",
      "233 1 False\n",
      "241 1 False\n"
     ]
    },
    {
     "name": "stdout",
     "output_type": "stream",
     "text": [
      "257 1 False\n",
      "269 5 True\n",
      "277 5 True\n"
     ]
    },
    {
     "name": "stdout",
     "output_type": "stream",
     "text": [
      "281 1 False\n",
      "293 5 True\n"
     ]
    },
    {
     "name": "stdout",
     "output_type": "stream",
     "text": [
      "313 1 False\n",
      "317 5 True\n",
      "337 1 False\n",
      "349 5 True\n",
      "353 1 False\n",
      "373 5 True\n"
     ]
    },
    {
     "name": "stdout",
     "output_type": "stream",
     "text": [
      "389 5 True\n",
      "397 5 True\n"
     ]
    },
    {
     "name": "stdout",
     "output_type": "stream",
     "text": [
      "401 1 False\n",
      "409 1 False\n",
      "421 5 True\n"
     ]
    },
    {
     "name": "stdout",
     "output_type": "stream",
     "text": [
      "433 1 False\n",
      "449 1 False\n",
      "457 1 False\n",
      "461 5 True\n"
     ]
    }
   ],
   "source": [
    "P=Primes()\n",
    "p = 5\n",
    "while p < 500: \n",
    "    if p % 4 ==1:\n",
    "        f = fekete(p)\n",
    "        print(p, p%8, f.discriminant().is_square())\n",
    "    p = P.next(p)  "
   ]
  },
  {
   "cell_type": "code",
   "execution_count": 3,
   "metadata": {
    "collapsed": false
   },
   "outputs": [
    {
     "name": "stdout",
     "output_type": "stream",
     "text": [
      "5 5 True\n",
      "13 5 True\n",
      "17 1 False\n",
      "29 5 True\n",
      "37 5 True\n",
      "41 1 False\n",
      "53 5 True\n",
      "61 5 True\n",
      "73 1 False\n",
      "89 1 False\n",
      "97 1 False\n",
      "101 5 True\n",
      "109 5 True\n",
      "113 1 False\n",
      "137 1 False\n",
      "149 5 True\n",
      "157 5 True\n"
     ]
    },
    {
     "name": "stdout",
     "output_type": "stream",
     "text": [
      "173 5 True\n",
      "181 5 True\n",
      "193 1 False\n",
      "197 5 True\n",
      "229 5 True\n"
     ]
    },
    {
     "name": "stdout",
     "output_type": "stream",
     "text": [
      "233 1 False\n",
      "241 1 False\n",
      "257 1 False\n"
     ]
    },
    {
     "name": "stdout",
     "output_type": "stream",
     "text": [
      "269 5 True\n",
      "277 5 True\n",
      "281 1 False\n"
     ]
    },
    {
     "name": "stdout",
     "output_type": "stream",
     "text": [
      "293 5 True\n",
      "313 1 False\n",
      "317 5 True\n",
      "337 1 False\n",
      "349 5 True\n"
     ]
    },
    {
     "name": "stdout",
     "output_type": "stream",
     "text": [
      "353 1 False\n"
     ]
    },
    {
     "name": "stdout",
     "output_type": "stream",
     "text": [
      "373 5 True\n",
      "389 5 True\n",
      "397 5 True\n"
     ]
    },
    {
     "name": "stdout",
     "output_type": "stream",
     "text": [
      "401 1 False\n",
      "409 1 False\n"
     ]
    },
    {
     "name": "stdout",
     "output_type": "stream",
     "text": [
      "421 5 True\n",
      "433 1 False\n",
      "449 1 False\n"
     ]
    },
    {
     "name": "stdout",
     "output_type": "stream",
     "text": [
      "457 1 False\n"
     ]
    },
    {
     "name": "stdout",
     "output_type": "stream",
     "text": [
      "461 5 True\n"
     ]
    }
   ],
   "source": [
    "P=Primes()\n",
    "p = 5\n",
    "while p < 500: \n",
    "    if p % 4 ==1:\n",
    "        f = fekete(p)\n",
    "        print(p, p%8, f.discriminant() >0)\n",
    "    p = P.next(p)  "
   ]
  },
  {
   "cell_type": "markdown",
   "metadata": {
    "collapsed": false
   },
   "source": [
    "## 2-cycle in the Galois group of f when $p \\equiv 1 \\pmod{8}$ "
   ]
  },
  {
   "cell_type": "code",
   "execution_count": 4,
   "metadata": {
    "collapsed": false
   },
   "outputs": [
    {
     "name": "stdout",
     "output_type": "stream",
     "text": [
      "[17, 359]\n"
     ]
    },
    {
     "name": "stdout",
     "output_type": "stream",
     "text": [
      "[41, 173]\n"
     ]
    },
    {
     "name": "stdout",
     "output_type": "stream",
     "text": [
      "[73, 1409]\n"
     ]
    },
    {
     "name": "stdout",
     "output_type": "stream",
     "text": [
      "[89, 269]\n"
     ]
    },
    {
     "name": "stdout",
     "output_type": "stream",
     "text": [
      "[97, 1223]\n",
      "CPU times: user 7 s, sys: 10.9 ms, total: 7.01 s\n",
      "Wall time: 21.3 s\n"
     ]
    }
   ],
   "source": [
    "%%time\n",
    "P=Primes()\n",
    "p = 5\n",
    "n=10**5\n",
    "while p < 100: \n",
    "    p = P.next(p)\n",
    "    if p % 8 ==1:\n",
    "        f = fekete(p)\n",
    "        print([p, two_cycle(f ,n)])"
   ]
  },
  {
   "cell_type": "code",
   "execution_count": 5,
   "metadata": {
    "collapsed": false
   },
   "outputs": [
    {
     "name": "stdout",
     "output_type": "stream",
     "text": [
      "[113, 251]\n"
     ]
    },
    {
     "name": "stdout",
     "output_type": "stream",
     "text": [
      "[137, 4157]\n"
     ]
    },
    {
     "name": "stdout",
     "output_type": "stream",
     "text": [
      "[193, 167]\n"
     ]
    },
    {
     "name": "stdout",
     "output_type": "stream",
     "text": [
      "[233, 5507]\n"
     ]
    },
    {
     "name": "stdout",
     "output_type": "stream",
     "text": [
      "[241, 281]\n"
     ]
    },
    {
     "name": "stdout",
     "output_type": "stream",
     "text": [
      "[257, 5813]\n"
     ]
    },
    {
     "name": "stdout",
     "output_type": "stream",
     "text": [
      "[281, 2237]\n",
      "CPU times: user 7min 16s, sys: 645 ms, total: 7min 16s\n",
      "Wall time: 21min 58s\n"
     ]
    }
   ],
   "source": [
    "%%time\n",
    "P=Primes()\n",
    "p = 100\n",
    "n=10**5\n",
    "while p < 300: \n",
    "    p = P.next(p)\n",
    "    if p % 8 ==1:\n",
    "        f = fekete(p)\n",
    "        print([p, two_cycle(f ,n)])"
   ]
  },
  {
   "cell_type": "code",
   "execution_count": 6,
   "metadata": {
    "collapsed": false
   },
   "outputs": [
    {
     "name": "stdout",
     "output_type": "stream",
     "text": [
      "[313, 2417]\n"
     ]
    },
    {
     "name": "stdout",
     "output_type": "stream",
     "text": [
      "[337, 2153]\n"
     ]
    },
    {
     "name": "stdout",
     "output_type": "stream",
     "text": [
      "[353, 7841]\n"
     ]
    },
    {
     "name": "stdout",
     "output_type": "stream",
     "text": [
      "[401, 2969]\n",
      "CPU times: user 18min 3s, sys: 2.8 s, total: 18min 6s\n",
      "Wall time: 55min 27s\n"
     ]
    }
   ],
   "source": [
    "%%time\n",
    "P=Primes()\n",
    "p = 300\n",
    "n=10**5\n",
    "while p < 400: \n",
    "    p = P.next(p)\n",
    "    if p % 8 ==1:\n",
    "        f = fekete(p)\n",
    "        print([p, two_cycle(f ,n)])"
   ]
  },
  {
   "cell_type": "code",
   "execution_count": 7,
   "metadata": {
    "collapsed": false
   },
   "outputs": [
    {
     "name": "stdout",
     "output_type": "stream",
     "text": [
      "[409, 461]\n"
     ]
    },
    {
     "name": "stdout",
     "output_type": "stream",
     "text": [
      "[433, 4133]\n"
     ]
    },
    {
     "name": "stdout",
     "output_type": "stream",
     "text": [
      "[449, 977]\n"
     ]
    }
   ],
   "source": [
    "%%time\n",
    "P=Primes()\n",
    "p = 401\n",
    "n=10**5\n",
    "while p < 500: \n",
    "    p = P.next(p)\n",
    "    if p % 8 ==1:\n",
    "        f = fekete(p)\n",
    "        print([p, two_cycle(f ,n)])"
   ]
  },
  {
   "cell_type": "code",
   "execution_count": 3,
   "metadata": {
    "collapsed": false
   },
   "outputs": [
    {
     "name": "stdout",
     "output_type": "stream",
     "text": [
      "[457, 5399]\n",
      "CPU times: user 7min 8s, sys: 780 ms, total: 7min 9s\n",
      "Wall time: 14min 40s\n"
     ]
    }
   ],
   "source": [
    "%%time\n",
    "P=Primes()\n",
    "p = 450\n",
    "n=10**5\n",
    "while p < 500: \n",
    "    p = P.next(p)\n",
    "    if p % 8 ==1:\n",
    "        f = fekete(p)\n",
    "        print([p, two_cycle(f ,n)])"
   ]
  },
  {
   "cell_type": "code",
   "execution_count": 4,
   "metadata": {
    "collapsed": false
   },
   "outputs": [
    {
     "name": "stdout",
     "output_type": "stream",
     "text": [
      "[521, 2963]\n",
      "CPU times: user 5min 30s, sys: 535 ms, total: 5min 31s\n",
      "Wall time: 11min 16s\n"
     ]
    }
   ],
   "source": [
    "%%time\n",
    "P=Primes()\n",
    "p = 500\n",
    "n=10**5\n",
    "while p < 530: \n",
    "    p = P.next(p)\n",
    "    if p % 8 ==1:\n",
    "        f = fekete(p)\n",
    "        print([p, two_cycle(f ,n)])"
   ]
  },
  {
   "cell_type": "code",
   "execution_count": 7,
   "metadata": {
    "collapsed": false
   },
   "outputs": [
    {
     "name": "stdout",
     "output_type": "stream",
     "text": [
      "[569, 443]\n",
      "CPU times: user 48.6 s, sys: 40.3 ms, total: 48.7 s\n",
      "Wall time: 50.7 s\n"
     ]
    }
   ],
   "source": [
    "%%time\n",
    "P=Primes()\n",
    "p = 530\n",
    "n=10**5\n",
    "while p < 570: \n",
    "    p = P.next(p)\n",
    "    if p % 8 ==1:\n",
    "        f = fekete(p)\n",
    "        print([p, two_cycle(f ,n)])"
   ]
  },
  {
   "cell_type": "code",
   "execution_count": 8,
   "metadata": {
    "collapsed": false
   },
   "outputs": [
    {
     "name": "stdout",
     "output_type": "stream",
     "text": [
      "[577, 1997]\n"
     ]
    },
    {
     "name": "stdout",
     "output_type": "stream",
     "text": [
      "[593, 1061]\n"
     ]
    },
    {
     "name": "stdout",
     "output_type": "stream",
     "text": [
      "[601, 3863]\n",
      "CPU times: user 19min 10s, sys: 1.36 s, total: 19min 11s\n",
      "Wall time: 19min 51s\n"
     ]
    }
   ],
   "source": [
    "%%time\n",
    "P=Primes()\n",
    "p = 570\n",
    "n=10**5\n",
    "while p < 600: \n",
    "    p = P.next(p)\n",
    "    if p % 8 ==1:\n",
    "        f = fekete(p)\n",
    "        print([p, two_cycle(f ,n)])"
   ]
  },
  {
   "cell_type": "code",
   "execution_count": 9,
   "metadata": {
    "collapsed": false
   },
   "outputs": [
    {
     "name": "stdout",
     "output_type": "stream",
     "text": [
      "[601, 3863]\n"
     ]
    }
   ],
   "source": [
    "%%time\n",
    "P=Primes()\n",
    "p = 600\n",
    "n=10**5\n",
    "while p < 650: \n",
    "    p = P.next(p)\n",
    "    if p % 8 ==1:\n",
    "        f = fekete(p)\n",
    "        print([p, two_cycle(f ,n)])"
   ]
  },
  {
   "cell_type": "code",
   "execution_count": 3,
   "metadata": {
    "collapsed": false
   },
   "outputs": [
    {
     "name": "stdout",
     "output_type": "stream",
     "text": [
      "[617, 8849]\n"
     ]
    }
   ],
   "source": [
    "%%time\n",
    "P=Primes()\n",
    "p = 601\n",
    "n=10**5\n",
    "while p < 650: \n",
    "    p = P.next(p)\n",
    "    if p % 8 ==1:\n",
    "        f = fekete(p)\n",
    "        print([p, two_cycle(f ,n)])"
   ]
  },
  {
   "cell_type": "code",
   "execution_count": 3,
   "metadata": {
    "collapsed": false
   },
   "outputs": [
    {
     "name": "stdout",
     "output_type": "stream",
     "text": [
      "[641, 14423]\n",
      "CPU times: user 47min 50s, sys: 4.39 s, total: 47min 54s\n",
      "Wall time: 49min 22s\n"
     ]
    }
   ],
   "source": [
    "%%time\n",
    "P=Primes()\n",
    "p = 617\n",
    "n=10**5\n",
    "while p < 650: \n",
    "    p = P.next(p)\n",
    "    if p % 8 ==1:\n",
    "        f = fekete(p)\n",
    "        print([p, two_cycle(f ,n)])"
   ]
  },
  {
   "cell_type": "code",
   "execution_count": 4,
   "metadata": {
    "collapsed": false
   },
   "outputs": [
    {
     "name": "stdout",
     "output_type": "stream",
     "text": [
      "[673, 6029]\n",
      "CPU times: user 21min 42s, sys: 2.26 s, total: 21min 44s\n",
      "Wall time: 36min 39s\n"
     ]
    }
   ],
   "source": [
    "%%time\n",
    "P=Primes()\n",
    "p = 650\n",
    "n=10**5\n",
    "while p < 670: \n",
    "    p = P.next(p)\n",
    "    if p % 8 ==1:\n",
    "        f = fekete(p)\n",
    "        print([p, two_cycle(f ,n)])"
   ]
  },
  {
   "cell_type": "code",
   "execution_count": 14,
   "metadata": {
    "collapsed": false
   },
   "outputs": [
    {
     "name": "stdout",
     "output_type": "stream",
     "text": [
      "[761, 179]\n",
      "CPU times: user 37.5 s, sys: 48 ms, total: 37.5 s\n",
      "Wall time: 1min 16s\n"
     ]
    }
   ],
   "source": [
    "%%time\n",
    "P=Primes()\n",
    "p = 673\n",
    "n=10**5\n",
    "while p < 760: \n",
    "    p = P.next(p)\n",
    "    if p % 8 ==1:\n",
    "        f = fekete(p)\n",
    "        print([p, two_cycle(f ,n)])"
   ]
  },
  {
   "cell_type": "code",
   "execution_count": 15,
   "metadata": {
    "collapsed": false
   },
   "outputs": [
    {
     "name": "stdout",
     "output_type": "stream",
     "text": [
      "[769, 1697]\n",
      "CPU times: user 8min 6s, sys: 868 ms, total: 8min 7s\n",
      "Wall time: 16min 33s\n"
     ]
    }
   ],
   "source": [
    "%%time\n",
    "P=Primes()\n",
    "p = 761\n",
    "n=10**5\n",
    "while p < 780: \n",
    "    p = P.next(p)\n",
    "    if p % 8 ==1:\n",
    "        f = fekete(p)\n",
    "        print([p, two_cycle(f ,n)])"
   ]
  },
  {
   "cell_type": "code",
   "execution_count": 16,
   "metadata": {
    "collapsed": false
   },
   "outputs": [
    {
     "name": "stdout",
     "output_type": "stream",
     "text": [
      "[809, 1109]\n",
      "CPU times: user 5min, sys: 305 ms, total: 5min\n",
      "Wall time: 10min 11s\n"
     ]
    }
   ],
   "source": [
    "%%time\n",
    "P=Primes()\n",
    "p = 769\n",
    "n=10**5\n",
    "while p < 800: \n",
    "    p = P.next(p)\n",
    "    if p % 8 ==1:\n",
    "        f = fekete(p)\n",
    "        print([p, two_cycle(f ,n)])"
   ]
  },
  {
   "cell_type": "markdown",
   "metadata": {
    "collapsed": false
   },
   "source": [
    "[809, 1109]\n"
   ]
  },
  {
   "cell_type": "code",
   "execution_count": 2,
   "metadata": {
    "collapsed": false
   },
   "outputs": [
    {
     "name": "stdout",
     "output_type": "stream",
     "text": [
      "809\n",
      "857\n",
      "881\n",
      "929\n",
      "937\n",
      "953\n",
      "977\n",
      "1009\n",
      "CPU times: user 680 µs, sys: 0 ns, total: 680 µs\n",
      "Wall time: 484 µs\n"
     ]
    }
   ],
   "source": [
    "%%time\n",
    "P=Primes()\n",
    "p = 800\n",
    "n=10**5\n",
    "while p < 1000: \n",
    "    p = P.next(p)\n",
    "    if p % 8 ==1:\n",
    "        print(p)"
   ]
  },
  {
   "cell_type": "code",
   "execution_count": 4,
   "metadata": {
    "collapsed": false
   },
   "outputs": [
    {
     "name": "stdout",
     "output_type": "stream",
     "text": [
      "[857, 23369]\n",
      "CPU times: user 2h 48min 56s, sys: 16.1 s, total: 2h 49min 12s\n",
      "Wall time: 5h 53min 16s\n"
     ]
    }
   ],
   "source": [
    "%%time\n",
    "p= 857\n",
    "f=fekete(p)\n",
    "n=10**5\n",
    "print([p, two_cycle(f,n)])"
   ]
  },
  {
   "cell_type": "code",
   "execution_count": 5,
   "metadata": {
    "collapsed": false
   },
   "outputs": [
    {
     "name": "stdout",
     "output_type": "stream",
     "text": [
      "[881, 10007]\n",
      "CPU times: user 1h 10min 54s, sys: 3.7 s, total: 1h 10min 57s\n",
      "Wall time: 1h 12min 7s\n"
     ]
    }
   ],
   "source": [
    "%%time\n",
    "p= 881\n",
    "f=fekete(p)\n",
    "n=10**5\n",
    "print([p, two_cycle(f,n)])"
   ]
  },
  {
   "cell_type": "code",
   "execution_count": 4,
   "metadata": {
    "collapsed": false
   },
   "outputs": [
    {
     "name": "stdout",
     "output_type": "stream",
     "text": [
      "[929, 1619]\n",
      "CPU times: user 10min 16s, sys: 264 ms, total: 10min 17s\n",
      "Wall time: 10min 18s\n"
     ]
    }
   ],
   "source": [
    "%%time\n",
    "p= 929\n",
    "f=fekete(p)\n",
    "n=10**5\n",
    "print([p, two_cycle(f,n)])"
   ]
  },
  {
   "cell_type": "code",
   "execution_count": 5,
   "metadata": {
    "collapsed": false
   },
   "outputs": [
    {
     "name": "stdout",
     "output_type": "stream",
     "text": [
      "[937, 2939]\n",
      "CPU times: user 23min 16s, sys: 1.4 s, total: 23min 18s\n",
      "Wall time: 23min 44s\n"
     ]
    }
   ],
   "source": [
    "%%time\n",
    "p= 937\n",
    "f=fekete(p)\n",
    "n=10**5\n",
    "print([p, two_cycle(f,n)])"
   ]
  },
  {
   "cell_type": "code",
   "execution_count": 6,
   "metadata": {
    "collapsed": false
   },
   "outputs": [
    {
     "name": "stdout",
     "output_type": "stream",
     "text": [
      "[953, 2879]\n",
      "CPU times: user 21min 29s, sys: 873 ms, total: 21min 30s\n",
      "Wall time: 21min 49s\n"
     ]
    }
   ],
   "source": [
    "%%time\n",
    "p= 953\n",
    "f=fekete(p)\n",
    "n=10**5\n",
    "print([p, two_cycle(f,n)])"
   ]
  },
  {
   "cell_type": "code",
   "execution_count": 14,
   "metadata": {
    "collapsed": false
   },
   "outputs": [
    {
     "name": "stdout",
     "output_type": "stream",
     "text": [
      "[977, -1, 34000]\n",
      "CPU times: user 17min 52s, sys: 636 ms, total: 17min 53s\n",
      "Wall time: 17min 54s\n"
     ]
    }
   ],
   "source": [
    "%%time\n",
    "p= 977\n",
    "f=fekete(p)\n",
    "r=2000\n",
    "m=8*10**3+13*r\n",
    "n=m+r\n",
    "print([p, two_cycle_2(f,m,n),m])"
   ]
  },
  {
   "cell_type": "code",
   "execution_count": 15,
   "metadata": {
    "collapsed": false
   },
   "outputs": [
    {
     "name": "stdout",
     "output_type": "stream",
     "text": [
      "36000\n"
     ]
    }
   ],
   "source": [
    "print(n)"
   ]
  },
  {
   "cell_type": "code",
   "execution_count": 5,
   "metadata": {
    "collapsed": false
   },
   "outputs": [
    {
     "name": "stdout",
     "output_type": "stream",
     "text": [
      "[977, 47279, 48000]\n",
      "CPU times: user 21min 15s, sys: 708 ms, total: 21min 16s\n",
      "Wall time: 21min 18s\n"
     ]
    }
   ],
   "source": [
    "%%time\n",
    "p= 977\n",
    "f=fekete(p)\n",
    "r=3000\n",
    "m=36000+3*r\n",
    "n=m+r\n",
    "print([p, two_cycle_2(f,m,n),n])"
   ]
  },
  {
   "cell_type": "code",
   "execution_count": 0,
   "metadata": {
    "collapsed": false
   },
   "outputs": [
   ],
   "source": [
   ]
  }
 ],
 "metadata": {
  "kernelspec": {
   "argv": [
    "sage-9.4",
    "--python",
    "-m",
    "sage.repl.ipython_kernel",
    "--matplotlib=inline",
    "-f",
    "{connection_file}"
   ],
   "display_name": "SageMath 9.4",
   "env": {
   },
   "language": "sagemath",
   "metadata": {
    "cocalc": {
     "description": "Open-source mathematical software system",
     "priority": 1,
     "url": "https://www.sagemath.org/"
    }
   },
   "name": "sage-9.4",
   "resource_dir": "/ext/jupyter/kernels/sage-9.4"
  },
  "language_info": {
   "codemirror_mode": {
    "name": "ipython",
    "version": 3
   },
   "file_extension": ".py",
   "mimetype": "text/x-python",
   "name": "python",
   "nbconvert_exporter": "python",
   "pygments_lexer": "ipython3",
   "version": "3.9.5"
  }
 },
 "nbformat": 4,
 "nbformat_minor": 4
}