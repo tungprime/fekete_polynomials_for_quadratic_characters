{
 "cells": [
  {
   "cell_type": "code",
   "execution_count": 1,
   "metadata": {
    "collapsed": false
   },
   "outputs": [
   ],
   "source": [
    "R.<x> = PolynomialRing(ZZ)\n",
    "from sage.rings.polynomial.cyclotomic import cyclotomic_coeffs\n",
    "S = ZZ['x']"
   ]
  },
  {
   "cell_type": "code",
   "execution_count": 2,
   "metadata": {
    "collapsed": false
   },
   "outputs": [
   ],
   "source": [
    "def raw_fekete(d):\n",
    "    \"Fekete polynomial with Delta odd \"\n",
    "    if d>0: \n",
    "        D=abs(d)\n",
    "        v=[kronecker(d, a+1) for a in range(0,D-1)]\n",
    "        F_D=R(v)\n",
    "        return F_D*x\n",
    "    else:\n",
    "        D=abs(d)\n",
    "        v=[kronecker(d, a+1) for a in range(0,D-1)]\n",
    "        F_D=-R(v)\n",
    "        return F_D*x\n",
    "        \n",
    "    \n",
    "\n",
    "def fekete(p):\n",
    "    #compute f_p(x) \n",
    "    F_D=raw_fekete(3*p)\n",
    "    phi_1= S(cyclotomic_coeffs(1))\n",
    "    phi_2= S(cyclotomic_coeffs(2))\n",
    "    phi_3= S(cyclotomic_coeffs(3))\n",
    "    phi_6= S(cyclotomic_coeffs(6))\n",
    "    phi_p= S(cyclotomic_coeffs(p))\n",
    "    if p % 3 == 2:\n",
    "        factor = x* (phi_1)**2 * phi_2 * (phi_3)**2 * phi_6 * phi_p\n",
    "    if p % 3 == 1:    \n",
    "        factor = x* (phi_1)**2 * phi_2 * phi_3 * phi_p\n",
    "    \n",
    "    f,r =F_D.quo_rem(factor) \n",
    "    return f\n",
    "    \n",
    "    \n",
    "    \n",
    "def reduced_fekete(d):\n",
    "    f=fekete(d)\n",
    "    u=f.trace_polynomial()\n",
    "    g_D=u[0]\n",
    "    return g_D\n",
    "\n",
    "def fekete_reduction(f, q):\n",
    "    f=f.change_ring(GF(q))\n",
    "    return f.factor()        \n",
    "\n",
    "def reduced_fekete_reduction(g,q):\n",
    "    g=g.change_ring(GF(q))\n",
    "    return g.factor()\n",
    "\n",
    "def two_four_cycle(f,q):\n",
    "    factor = fekete_reduction(f,q)\n",
    "    number_of_factor = len(factor)\n",
    "    #check that f is separable modulo q\n",
    "    for i in range(number_of_factor):\n",
    "        if factor[i][1] >1:\n",
    "            return False\n",
    "    number_two_cycle =0 \n",
    "    number_four_cycle =0 \n",
    "    number_even_cycle =0\n",
    "    for i in range(number_of_factor):\n",
    "        if factor[i][0].degree() ==2:\n",
    "            number_two_cycle +=1\n",
    "        if factor[i][0].degree() == 4:\n",
    "            number_four_cycle +=1 \n",
    "        if factor[i][0].degree() % 2 ==0:\n",
    "            number_even_cycle +=1\n",
    "    if number_two_cycle ==1 and number_four_cycle ==1 and number_even_cycle ==2:\n",
    "        return True\n",
    "    return False\n",
    "            \n",
    "    \n",
    "def search_two_four_cycle(f,n):\n",
    "    for q in range(n):\n",
    "        if is_prime(q):\n",
    "            if two_four_cycle(f,q):\n",
    "                return q\n",
    "    return -1 \n",
    "\n",
    "\n",
    "def almost_cycle(f,n):\n",
    "    for q in range(n):\n",
    "        if is_prime(q): \n",
    "            factor=fekete_reduction(f,q)\n",
    "            if len(factor)==3: \n",
    "                factor1=factor[0][0]\n",
    "                factor2=factor[1][0]\n",
    "                degree1=factor1.degree()\n",
    "                degree2=factor2.degree()\n",
    "                if degree1==1 and degree2==1 and factor[0][1]==1 and factor[1][1]==1 and factor[2][1]==1: \n",
    "                    return q\n",
    "    return  -1         \n",
    "                \n",
    "def irreducible(f,n):\n",
    "    for q in range(n):\n",
    "        if is_prime(q): \n",
    "            factor=fekete_reduction(f,q)\n",
    "            if len(factor)==1 and factor[0][1]==1:\n",
    "                    return q\n",
    "    return  -1         \n",
    "                \n",
    "       \n",
    "    \n",
    "def length_test_2(v):\n",
    "    #count the number of even entries in v\n",
    "    count2=0\n",
    "    for item in v:\n",
    "        if item==2:\n",
    "            count2 +=1\n",
    "    count_even=0     \n",
    "    for item in v:        \n",
    "        if item %2 ==0:\n",
    "            count_even +=1\n",
    "    if count2==count_even==1:\n",
    "        return True\n",
    "    return False    \n",
    "\n",
    "def length_test_4(v):\n",
    "    #count the number of even entries in v\n",
    "    count4=0\n",
    "    for item in v:\n",
    "        if item==4:\n",
    "            count4 +=1\n",
    "    count_even=0     \n",
    "    for item in v:        \n",
    "        if item %2 ==0:\n",
    "            count_even +=1\n",
    "    if count4==count_even==1:\n",
    "        return True\n",
    "    return False    \n",
    "\n",
    "    \n",
    "def two_cycle(f,n):\n",
    "    result=[]\n",
    "    for q in range(n):\n",
    "        v=[]\n",
    "        if is_prime(q):\n",
    "            factor=fekete_reduction(f,q)\n",
    "            for item in factor:\n",
    "                v.append(item[0].degree())\n",
    "        if sum(v)==f.degree() and length_test_2(v):\n",
    "            return q\n",
    "    return -1    \n",
    "\n",
    "def two_cycle_2(f,m,n):\n",
    "    result=[]\n",
    "    for q in range(m,n):\n",
    "        v=[]\n",
    "        if is_prime(q):\n",
    "            factor=fekete_reduction(f,q)\n",
    "            for item in factor:\n",
    "                v.append(item[0].degree())\n",
    "        if sum(v)==f.degree() and length_test_2(v):\n",
    "            return q\n",
    "    return -1 \n",
    "\n",
    "def four_cycle(f,n):\n",
    "    result=[]\n",
    "    for q in range(n):\n",
    "        v=[]\n",
    "        if is_prime(q):\n",
    "            factor=fekete_reduction(f,q)\n",
    "            for item in factor:\n",
    "                v.append(item[0].degree())\n",
    "        if sum(v)==f.degree() and length_test_4(v):\n",
    "            return q\n",
    "    return -1  \n",
    "\n",
    "def cycle(g,n):\n",
    "    for q in range(n):\n",
    "        if is_prime(q): \n",
    "            factor=fekete_reduction(g,q)\n",
    "            if len(factor)==2: \n",
    "                factor1=factor[0][0]\n",
    "                coef=factor1.degree()\n",
    "                if coef==1 and factor[0][1]==1 and factor[1][1]==1: \n",
    "                                   return q\n",
    "    return  -1   \n",
    "                    \n",
    "\n",
    "                    \n",
    "def search_quadruple(f,n):\n",
    "    irr=irreducible(f,n)\n",
    "    print(f\"f is irreducible at q= \", irr)\n",
    "    q_cycle=almost_cycle(f,n)\n",
    "    print(f\"f has an (2m-2) cycle at q=\", q_cycle)\n",
    "    q_tranposition=two_cycle(f,n)\n",
    "    print(f\"f has an 2-cycle at q=\", q_tranposition)\n",
    "    q_four_cycle=four_cycle(f,n)\n",
    "    print(f\"f has an 4-cycle at q=\", q_four_cycle)\n",
    "    \n",
    "\n",
    "def quadruple(f,n):\n",
    "    irr=irreducible(f,n)\n",
    "    q_cycle=almost_cycle(f,n)\n",
    "    q_tranposition=two_cycle(f,n)\n",
    "    q_four_cycle=four_cycle(f,n)\n",
    "    result=(irr, q_cycle, q_tranposition, q_four_cycle)\n",
    "    return result\n",
    "    \n",
    "    \n",
    "def triple(g,n):\n",
    "    irr=irreducible(g,n)\n",
    "    q_cycle=cycle(g,n)\n",
    "    q_tranposition=two_cycle(g,n)\n",
    "    result=[irr, q_cycle, q_tranposition]\n",
    "    return result\n",
    "    \n",
    "   \n",
    "    \n",
    "    \n",
    "    \n"
   ]
  },
  {
   "cell_type": "markdown",
   "metadata": {
    "collapsed": false
   },
   "source": [
    "# We test the above codes for d. Here we focus on the case $d =3p$ with $p \\equiv 3 \\pmod{4}$"
   ]
  },
  {
   "cell_type": "markdown",
   "metadata": {
    "collapsed": false
   },
   "source": [
    "### We first consider the case d=7"
   ]
  },
  {
   "cell_type": "code",
   "execution_count": 6,
   "metadata": {
    "collapsed": false
   },
   "outputs": [
    {
     "data": {
      "text/plain": [
       "x * (x + 1) * (x - 1)^2 * (x^2 + x + 1) * (x^6 + x^5 + x^4 + x^3 + x^2 + x + 1) * (x^8 - 2*x^7 + 2*x^6 + 2*x^2 - 2*x + 1)"
      ]
     },
     "execution_count": 6,
     "metadata": {
     },
     "output_type": "execute_result"
    }
   ],
   "source": [
    "#the Fekete polynomial F_D\n",
    "p= 7 \n",
    "d=3*p \n",
    "F=raw_fekete(d)\n",
    "F.factor()"
   ]
  },
  {
   "cell_type": "code",
   "execution_count": 7,
   "metadata": {
    "collapsed": false
   },
   "outputs": [
    {
     "data": {
      "text/plain": [
       "x^8 - 2*x^7 + 2*x^6 + 2*x^2 - 2*x + 1"
      ]
     },
     "execution_count": 7,
     "metadata": {
     },
     "output_type": "execute_result"
    }
   ],
   "source": [
    "# Fekete polynomial f_D\n",
    "fekete(p)"
   ]
  },
  {
   "cell_type": "code",
   "execution_count": 5,
   "metadata": {
    "collapsed": false
   },
   "outputs": [
    {
     "data": {
      "text/plain": [
       "x^3 - 4*x + 2"
      ]
     },
     "execution_count": 5,
     "metadata": {
     },
     "output_type": "execute_result"
    }
   ],
   "source": [
    "#reduced Fekete polynomial\n",
    "reduced_fekete(d)"
   ]
  },
  {
   "cell_type": "markdown",
   "metadata": {
    "collapsed": false
   },
   "source": [
    "### Next, we consider $d=3 \\times 11$"
   ]
  },
  {
   "cell_type": "code",
   "execution_count": 32,
   "metadata": {
    "collapsed": false
   },
   "outputs": [
    {
     "data": {
      "text/plain": [
       "x * (x + 1) * (x - 1)^2 * (x^2 - x + 1) * (x^2 + x + 1)^2 * (x^10 + x^9 + x^8 + x^7 + x^6 + x^5 + x^4 + x^3 + x^2 + x + 1) * (x^12 - x^10 + 2*x^9 - 2*x^8 + 2*x^6 - 2*x^4 + 2*x^3 - x^2 + 1)"
      ]
     },
     "execution_count": 32,
     "metadata": {
     },
     "output_type": "execute_result"
    }
   ],
   "source": [
    "#the Fekete polynomial F_D\n",
    "p= 11\n",
    "d=3*p \n",
    "F=raw_fekete(d)\n",
    "F.factor()"
   ]
  },
  {
   "cell_type": "code",
   "execution_count": 33,
   "metadata": {
    "collapsed": false
   },
   "outputs": [
    {
     "data": {
      "text/plain": [
       "x^12 - x^10 + 2*x^9 - 2*x^8 + 2*x^6 - 2*x^4 + 2*x^3 - x^2 + 1"
      ]
     },
     "execution_count": 33,
     "metadata": {
     },
     "output_type": "execute_result"
    }
   ],
   "source": [
    "f  = fekete(p)\n",
    "f"
   ]
  },
  {
   "cell_type": "code",
   "execution_count": 35,
   "metadata": {
    "collapsed": false
   },
   "outputs": [
    {
     "data": {
      "text/plain": [
       "x^6 - 7*x^4 + 2*x^3 + 11*x^2 - 6*x + 2"
      ]
     },
     "execution_count": 35,
     "metadata": {
     },
     "output_type": "execute_result"
    }
   ],
   "source": [
    "g = reduced_fekete(p)\n",
    "g"
   ]
  },
  {
   "cell_type": "markdown",
   "metadata": {
    "collapsed": false
   },
   "source": [
    "## Next we consider $d= 3 \\times 19$ "
   ]
  },
  {
   "cell_type": "code",
   "execution_count": 37,
   "metadata": {
    "collapsed": false
   },
   "outputs": [
    {
     "data": {
      "text/plain": [
       "x * (x + 1) * (x - 1)^2 * (x^2 + x + 1) * (x^18 + x^17 + x^16 + x^15 + x^14 + x^13 + x^12 + x^11 + x^10 + x^9 + x^8 + x^7 + x^6 + x^5 + x^4 + x^3 + x^2 + x + 1) * (x^32 + 2*x^29 - 2*x^28 + 2*x^27 + x^26 + 2*x^23 - 2*x^22 + 2*x^21 - x^20 + 2*x^19 - 2*x^18 + 4*x^17 - 4*x^16 + 4*x^15 - 2*x^14 + 2*x^13 - x^12 + 2*x^11 - 2*x^10 + 2*x^9 + x^6 + 2*x^5 - 2*x^4 + 2*x^3 + 1)"
      ]
     },
     "execution_count": 37,
     "metadata": {
     },
     "output_type": "execute_result"
    }
   ],
   "source": [
    "#the Fekete polynomial F_D\n",
    "p= 19 \n",
    "d=3*p \n",
    "F=raw_fekete(d)\n",
    "F.factor()"
   ]
  },
  {
   "cell_type": "code",
   "execution_count": 38,
   "metadata": {
    "collapsed": false
   },
   "outputs": [
    {
     "data": {
      "text/plain": [
       "x^32 + 2*x^29 - 2*x^28 + 2*x^27 + x^26 + 2*x^23 - 2*x^22 + 2*x^21 - x^20 + 2*x^19 - 2*x^18 + 4*x^17 - 4*x^16 + 4*x^15 - 2*x^14 + 2*x^13 - x^12 + 2*x^11 - 2*x^10 + 2*x^9 + x^6 + 2*x^5 - 2*x^4 + 2*x^3 + 1"
      ]
     },
     "execution_count": 38,
     "metadata": {
     },
     "output_type": "execute_result"
    }
   ],
   "source": [
    "f = fekete(p)\n",
    "f"
   ]
  },
  {
   "cell_type": "code",
   "execution_count": 39,
   "metadata": {
    "collapsed": false
   },
   "outputs": [
    {
     "data": {
      "text/plain": [
       "x^16 - 16*x^14 + 2*x^13 + 102*x^12 - 24*x^11 - 327*x^10 + 108*x^9 + 542*x^8 - 222*x^7 - 415*x^6 + 198*x^5 + 87*x^4 - 52*x^3 + 17*x^2 - 2*x - 2"
      ]
     },
     "execution_count": 39,
     "metadata": {
     },
     "output_type": "execute_result"
    }
   ],
   "source": [
    "g = reduced_fekete(p)\n",
    "g"
   ]
  },
  {
   "cell_type": "markdown",
   "metadata": {
    "collapsed": false
   },
   "source": [
    "## Next we consider $d = 3  \\times 23$"
   ]
  },
  {
   "cell_type": "code",
   "execution_count": 40,
   "metadata": {
    "collapsed": false
   },
   "outputs": [
    {
     "data": {
      "text/plain": [
       "x * (x + 1) * (x - 1)^2 * (x^2 - x + 1) * (x^2 + x + 1)^2 * (x^22 + x^21 + x^20 + x^19 + x^18 + x^17 + x^16 + x^15 + x^14 + x^13 + x^12 + x^11 + x^10 + x^9 + x^8 + x^7 + x^6 + x^5 + x^4 + x^3 + x^2 + x + 1) * (x^36 - 2*x^35 + x^34 + 2*x^33 - 2*x^32 + 2*x^30 - 4*x^29 + 2*x^28 + 2*x^27 - 2*x^26 + 3*x^24 - 4*x^23 + x^22 + 4*x^21 - 2*x^20 - 2*x^19 + 4*x^18 - 2*x^17 - 2*x^16 + 4*x^15 + x^14 - 4*x^13 + 3*x^12 - 2*x^10 + 2*x^9 + 2*x^8 - 4*x^7 + 2*x^6 - 2*x^4 + 2*x^3 + x^2 - 2*x + 1)"
      ]
     },
     "execution_count": 40,
     "metadata": {
     },
     "output_type": "execute_result"
    }
   ],
   "source": [
    "#the Fekete polynomial F_D\n",
    "p= 23\n",
    "d=3*p \n",
    "F=raw_fekete(d)\n",
    "F.factor()"
   ]
  },
  {
   "cell_type": "code",
   "execution_count": 41,
   "metadata": {
    "collapsed": false
   },
   "outputs": [
    {
     "data": {
      "text/plain": [
       "x^36 - 2*x^35 + x^34 + 2*x^33 - 2*x^32 + 2*x^30 - 4*x^29 + 2*x^28 + 2*x^27 - 2*x^26 + 3*x^24 - 4*x^23 + x^22 + 4*x^21 - 2*x^20 - 2*x^19 + 4*x^18 - 2*x^17 - 2*x^16 + 4*x^15 + x^14 - 4*x^13 + 3*x^12 - 2*x^10 + 2*x^9 + 2*x^8 - 4*x^7 + 2*x^6 - 2*x^4 + 2*x^3 + x^2 - 2*x + 1"
      ]
     },
     "execution_count": 41,
     "metadata": {
     },
     "output_type": "execute_result"
    }
   ],
   "source": [
    "f = fekete(p) \n",
    "f"
   ]
  },
  {
   "cell_type": "code",
   "execution_count": 43,
   "metadata": {
    "collapsed": false
   },
   "outputs": [
    {
     "data": {
      "text/plain": [
       "x^18 - 2*x^17 - 17*x^16 + 36*x^15 + 117*x^14 - 268*x^13 - 412*x^12 + 1060*x^11 + 759*x^10 - 2374*x^9 - 616*x^8 + 2950*x^7 - 9*x^6 - 1826*x^5 + 241*x^4 + 432*x^3 - 50*x^2 - 36*x + 4"
      ]
     },
     "execution_count": 43,
     "metadata": {
     },
     "output_type": "execute_result"
    }
   ],
   "source": [
    "g = reduced_fekete(p)\n",
    "g"
   ]
  },
  {
   "cell_type": "markdown",
   "metadata": {
    "collapsed": false
   },
   "source": [
    "## Next we consider $d = 3 \\times 31$"
   ]
  },
  {
   "cell_type": "code",
   "execution_count": 44,
   "metadata": {
    "collapsed": false
   },
   "outputs": [
    {
     "data": {
      "text/plain": [
       "x * (x + 1) * (x - 1)^2 * (x^2 + x + 1) * (x^30 + x^29 + x^28 + x^27 + x^26 + x^25 + x^24 + x^23 + x^22 + x^21 + x^20 + x^19 + x^18 + x^17 + x^16 + x^15 + x^14 + x^13 + x^12 + x^11 + x^10 + x^9 + x^8 + x^7 + x^6 + x^5 + x^4 + x^3 + x^2 + x + 1) * (x^56 - 2*x^55 + 2*x^54 - 2*x^52 + 2*x^51 + x^50 - 4*x^49 + 4*x^48 - 2*x^46 + 2*x^45 + x^44 - 4*x^43 + 4*x^42 - 2*x^40 + 2*x^39 + 3*x^38 - 6*x^37 + 6*x^36 - 2*x^35 + 5*x^32 - 6*x^31 + 6*x^30 + 6*x^26 - 6*x^25 + 5*x^24 - 2*x^21 + 6*x^20 - 6*x^19 + 3*x^18 + 2*x^17 - 2*x^16 + 4*x^14 - 4*x^13 + x^12 + 2*x^11 - 2*x^10 + 4*x^8 - 4*x^7 + x^6 + 2*x^5 - 2*x^4 + 2*x^2 - 2*x + 1)"
      ]
     },
     "execution_count": 44,
     "metadata": {
     },
     "output_type": "execute_result"
    }
   ],
   "source": [
    "#the Fekete polynomial F_D\n",
    "p= 31\n",
    "d=3*p \n",
    "F=raw_fekete(d)\n",
    "F.factor()"
   ]
  },
  {
   "cell_type": "code",
   "execution_count": 45,
   "metadata": {
    "collapsed": false
   },
   "outputs": [
    {
     "data": {
      "text/plain": [
       "x^56 - 2*x^55 + 2*x^54 - 2*x^52 + 2*x^51 + x^50 - 4*x^49 + 4*x^48 - 2*x^46 + 2*x^45 + x^44 - 4*x^43 + 4*x^42 - 2*x^40 + 2*x^39 + 3*x^38 - 6*x^37 + 6*x^36 - 2*x^35 + 5*x^32 - 6*x^31 + 6*x^30 + 6*x^26 - 6*x^25 + 5*x^24 - 2*x^21 + 6*x^20 - 6*x^19 + 3*x^18 + 2*x^17 - 2*x^16 + 4*x^14 - 4*x^13 + x^12 + 2*x^11 - 2*x^10 + 4*x^8 - 4*x^7 + x^6 + 2*x^5 - 2*x^4 + 2*x^2 - 2*x + 1"
      ]
     },
     "execution_count": 45,
     "metadata": {
     },
     "output_type": "execute_result"
    }
   ],
   "source": [
    "f = fekete(p) \n",
    "f"
   ]
  },
  {
   "cell_type": "code",
   "execution_count": 46,
   "metadata": {
    "collapsed": false
   },
   "outputs": [
    {
     "data": {
      "text/plain": [
       "x^28 - 2*x^27 - 26*x^26 + 54*x^25 + 296*x^24 - 646*x^23 - 1929*x^22 + 4504*x^21 + 7871*x^20 - 20246*x^19 - 20507*x^18 + 61262*x^17 + 32541*x^16 - 126382*x^15 - 24630*x^14 + 175946*x^13 - 8820*x^12 - 159634*x^11 + 37592*x^10 + 87884*x^9 - 33928*x^8 - 25354*x^7 + 13830*x^6 + 2486*x^5 - 2492*x^4 + 202*x^3 + 158*x^2 - 26*x - 2"
      ]
     },
     "execution_count": 46,
     "metadata": {
     },
     "output_type": "execute_result"
    }
   ],
   "source": [
    "g =reduced_fekete(p)\n",
    "g"
   ]
  },
  {
   "cell_type": "markdown",
   "metadata": {
    "collapsed": false
   },
   "source": [
    "## The Galois groups of $f_{\\Delta}(x)$. "
   ]
  },
  {
   "cell_type": "code",
   "execution_count": 50,
   "metadata": {
    "collapsed": false
   },
   "outputs": [
    {
     "name": "stdout",
     "output_type": "stream",
     "text": [
      "7 (3, 47, 23, 433)\n",
      "11 (59, 71, 23, 131)\n"
     ]
    },
    {
     "name": "stdout",
     "output_type": "stream",
     "text": [
      "19 (131, 1091, 23, 113)\n"
     ]
    },
    {
     "name": "stdout",
     "output_type": "stream",
     "text": [
      "23 (677, 587, 17, 1213)\n"
     ]
    },
    {
     "name": "stdout",
     "output_type": "stream",
     "text": [
      "31 (97, 677, 37, 1103)\n"
     ]
    },
    {
     "name": "stdout",
     "output_type": "stream",
     "text": [
      "43 (1193, 827, 1109, 1361)\n"
     ]
    },
    {
     "name": "stdout",
     "output_type": "stream",
     "text": [
      "47 (463, 293, 523, 643)\n"
     ]
    },
    {
     "name": "stdout",
     "output_type": "stream",
     "text": [
      "59 (953, 929, 2411, 137)\n"
     ]
    },
    {
     "name": "stdout",
     "output_type": "stream",
     "text": [
      "67 (11, 1109, 233, 137)\n"
     ]
    },
    {
     "name": "stdout",
     "output_type": "stream",
     "text": [
      "71 (263, 487, 73, 823)\n"
     ]
    },
    {
     "name": "stdout",
     "output_type": "stream",
     "text": [
      "79 (107, 2917, 677, 47)\n"
     ]
    },
    {
     "name": "stdout",
     "output_type": "stream",
     "text": [
      "83 (71, 2531, 821, 4373)\n"
     ]
    }
   ],
   "source": [
    "P=Primes()\n",
    "p = 7\n",
    "n = 10**5 \n",
    "while p < 100: \n",
    "    if p % 4 ==3:\n",
    "        f = fekete(p)\n",
    "        print(p, quadruple(f,n))\n",
    "    p = P.next(p)  "
   ]
  },
  {
   "cell_type": "code",
   "execution_count": 52,
   "metadata": {
    "collapsed": false
   },
   "outputs": [
    {
     "name": "stdout",
     "output_type": "stream",
     "text": [
      "103 (367, 1283, 1427, 5857)\n"
     ]
    },
    {
     "name": "stdout",
     "output_type": "stream",
     "text": [
      "107 (2879, 10337, 683, 4283)\n"
     ]
    },
    {
     "name": "stdout",
     "output_type": "stream",
     "text": [
      "127 (23, 2477, 2887, 3697)\n"
     ]
    },
    {
     "name": "stdout",
     "output_type": "stream",
     "text": [
      "131 (233, 149, 2039, 1259)\n"
     ]
    },
    {
     "name": "stdout",
     "output_type": "stream",
     "text": [
      "139 (3137, 5303, 4007, 467)\n"
     ]
    },
    {
     "name": "stdout",
     "output_type": "stream",
     "text": [
      "151 (3137, 8887, 3733, 5003)\n"
     ]
    },
    {
     "name": "stdout",
     "output_type": "stream",
     "text": [
      "163 (659, 21179, 1151, 1409)\n"
     ]
    },
    {
     "name": "stdout",
     "output_type": "stream",
     "text": [
      "167 (1097, 673, 1187, 4283)\n"
     ]
    }
   ],
   "source": [
    "P=Primes()\n",
    "p = 84\n",
    "n = 10**5 \n",
    "while p < 200: \n",
    "    if p % 4 ==3:\n",
    "        f = fekete(p)\n",
    "        print(p, quadruple(f,n))\n",
    "    p = P.next(p) "
   ]
  },
  {
   "cell_type": "code",
   "execution_count": 3,
   "metadata": {
    "collapsed": false
   },
   "outputs": [
    {
     "name": "stdout",
     "output_type": "stream",
     "text": [
      "179 (4139, 557, 2351, 5189)\n"
     ]
    },
    {
     "name": "stdout",
     "output_type": "stream",
     "text": [
      "191 (7247, 5507, 1607, 193)\n"
     ]
    },
    {
     "name": "stdout",
     "output_type": "stream",
     "text": [
      "199 (263, 2417, 967, 1777)\n"
     ]
    }
   ],
   "source": [
    "P=Primes()\n",
    "p = 168\n",
    "n = 10**5 \n",
    "while p < 200: \n",
    "    if p % 4 ==3:\n",
    "        f = fekete(p)\n",
    "        print(p, quadruple(f,n))\n",
    "    p = P.next(p) "
   ]
  },
  {
   "cell_type": "code",
   "execution_count": 5,
   "metadata": {
    "collapsed": false
   },
   "outputs": [
    {
     "name": "stdout",
     "output_type": "stream",
     "text": [
      "211 (1871, 59, 509, 11597)\n"
     ]
    },
    {
     "name": "stdout",
     "output_type": "stream",
     "text": [
      "223 (1783, 1993, 103, 6203)\n"
     ]
    },
    {
     "name": "stdout",
     "output_type": "stream",
     "text": [
      "227 (1223, 1637, 4229, 2663)\n"
     ]
    },
    {
     "name": "stdout",
     "output_type": "stream",
     "text": [
      "239 (11597, 983, 3203, 37)\n"
     ]
    },
    {
     "name": "stdout",
     "output_type": "stream",
     "text": [
      "251 (16889, 863, 827, 4211)\n"
     ]
    },
    {
     "name": "stdout",
     "output_type": "stream",
     "text": [
      "263 (1913, 827, 643, 137)\n"
     ]
    },
    {
     "name": "stdout",
     "output_type": "stream",
     "text": [
      "271 (397, 3067, 67, 4783)\n"
     ]
    },
    {
     "name": "stdout",
     "output_type": "stream",
     "text": [
      "283 (8543, 1019, 479, 2531)\n",
      "CPU times: user 30min 54s, sys: 2.35 s, total: 30min 57s\n",
      "Wall time: 31min 36s\n"
     ]
    }
   ],
   "source": [
    "%%time\n",
    "P=Primes()\n",
    "p = 200\n",
    "n = 10**5 \n",
    "while p < 300: \n",
    "    if p % 4 ==3:\n",
    "        f = fekete(p)\n",
    "        print(p, quadruple(f,n))\n",
    "    p = P.next(p) "
   ]
  },
  {
   "cell_type": "code",
   "execution_count": 6,
   "metadata": {
    "collapsed": false
   },
   "outputs": [
    {
     "name": "stdout",
     "output_type": "stream",
     "text": [
      "307 (4001, 28619, 1217, 107)\n"
     ]
    },
    {
     "name": "stdout",
     "output_type": "stream",
     "text": [
      "311 (1523, 13537, 2143, 947)\n"
     ]
    },
    {
     "name": "stdout",
     "output_type": "stream",
     "text": [
      "331 (4889, 29243, 5351, 5297)\n"
     ]
    }
   ],
   "source": [
    "%%time\n",
    "P=Primes()\n",
    "p = 284\n",
    "n = 10**5 \n",
    "while p < 400: \n",
    "    if p % 4 ==3:\n",
    "        f = fekete(p)\n",
    "        print(p, quadruple(f,n))\n",
    "    p = P.next(p) "
   ]
  },
  {
   "cell_type": "code",
   "execution_count": 4,
   "metadata": {
    "collapsed": false
   },
   "outputs": [
    {
     "name": "stdout",
     "output_type": "stream",
     "text": [
      "347 (19751, 3593, 491, 6899)\n",
      "CPU times: user 22min 50s, sys: 1.12 s, total: 22min 51s\n",
      "Wall time: 31min 38s\n"
     ]
    }
   ],
   "source": [
    "%%time\n",
    "P=Primes()\n",
    "p = 332\n",
    "n = 10**5 \n",
    "while p < 350: \n",
    "    if p % 4 ==3:\n",
    "        f = fekete(p)\n",
    "        print(p, quadruple(f,n))\n",
    "    p = P.next(p) "
   ]
  },
  {
   "cell_type": "code",
   "execution_count": 5,
   "metadata": {
    "collapsed": false
   },
   "outputs": [
    {
     "name": "stdout",
     "output_type": "stream",
     "text": [
      "359 (593, 12497, 173, 2897)\n"
     ]
    }
   ],
   "source": [
    "%%time\n",
    "P=Primes()\n",
    "p = 350\n",
    "n = 10**5 \n",
    "while p < 370: \n",
    "    if p % 4 ==3:\n",
    "        f = fekete(p)\n",
    "        print(p, quadruple(f,n))\n",
    "    p = P.next(p)"
   ]
  },
  {
   "cell_type": "code",
   "execution_count": 3,
   "metadata": {
    "collapsed": false,
    "scrolled": true
   },
   "outputs": [
    {
     "name": "stdout",
     "output_type": "stream",
     "text": [
      "367 (3583, 2843, 157, 13513)\n",
      "CPU times: user 17min 26s, sys: 939 ms, total: 17min 27s\n",
      "Wall time: 28min 47s\n"
     ]
    }
   ],
   "source": [
    "%%time\n",
    "P=Primes()\n",
    "p = 360\n",
    "n = 10**5 \n",
    "while p < 370: \n",
    "    if p % 4 ==3:\n",
    "        f = fekete(p)\n",
    "        print(p, quadruple(f,n))\n",
    "    p = P.next(p)"
   ]
  },
  {
   "cell_type": "code",
   "execution_count": 7,
   "metadata": {
    "collapsed": false
   },
   "outputs": [
    {
     "name": "stdout",
     "output_type": "stream",
     "text": [
      "379 (4889, 1889, 6911, 2027)\n"
     ]
    }
   ],
   "source": [
    "%%time\n",
    "P=Primes()\n",
    "p = 374\n",
    "n = 10**5 \n",
    "while p < 400: \n",
    "    if p % 4 ==3:\n",
    "        f = fekete(p)\n",
    "        print(p, quadruple(f,n))\n",
    "    p = P.next(p)"
   ]
  },
  {
   "cell_type": "code",
   "execution_count": 3,
   "metadata": {
    "collapsed": false
   },
   "outputs": [
    {
     "name": "stdout",
     "output_type": "stream",
     "text": [
      "383 (2153, 33317, 22963, 20023)\n",
      "CPU times: user 1h 15min 50s, sys: 3.4 s, total: 1h 15min 53s\n",
      "Wall time: 1h 17min 9s\n"
     ]
    }
   ],
   "source": [
    "%%time\n",
    "P=Primes()\n",
    "p = 380\n",
    "n = 10**5 \n",
    "while p < 400: \n",
    "    if p % 4 ==3:\n",
    "        f = fekete(p)\n",
    "        print(p, quadruple(f,n))\n",
    "    p = P.next(p)"
   ]
  },
  {
   "cell_type": "code",
   "execution_count": 5,
   "metadata": {
    "collapsed": false
   },
   "outputs": [
    {
     "name": "stdout",
     "output_type": "stream",
     "text": [
      "419 (1163, 19469, 17021, 6569)\n",
      "CPU times: user 49min 30s, sys: 2.08 s, total: 49min 32s\n",
      "Wall time: 50min 10s\n"
     ]
    }
   ],
   "source": [
    "%%time\n",
    "P=Primes()\n",
    "p = 400\n",
    "n = 10**5 \n",
    "while p < 430: \n",
    "    if p % 4 ==3:\n",
    "        f = fekete(p)\n",
    "        print(p, quadruple(f,n))\n",
    "    p = P.next(p)"
   ]
  },
  {
   "cell_type": "code",
   "execution_count": 3,
   "metadata": {
    "collapsed": false
   },
   "outputs": [
   ],
   "source": [
    "%%time\n",
    "P=Primes()\n",
    "p = 420\n",
    "n = 10**5 \n",
    "while p < 435: \n",
    "    if p % 4 ==3:\n",
    "        f = fekete(p)\n",
    "        print(p, quadruple(f,n))\n",
    "    p = P.next(p)"
   ]
  },
  {
   "cell_type": "markdown",
   "metadata": {
    "collapsed": false
   },
   "source": [
    "## The Galois group of $g_{\\Delta}(x)$ "
   ]
  },
  {
   "cell_type": "code",
   "execution_count": 4,
   "metadata": {
    "collapsed": false
   },
   "outputs": [
    {
     "name": "stdout",
     "output_type": "stream",
     "text": [
      "7 [3, 5, 61]\n",
      "11 [7, 13, 41]\n",
      "19 [103, 23, 31]\n",
      "23 [19, 89, 29]\n",
      "31 [97, 29, 107]\n",
      "43 [181, 787, 149]\n"
     ]
    },
    {
     "name": "stdout",
     "output_type": "stream",
     "text": [
      "47 [463, 293, 29]\n",
      "59 [67, 673, 43]\n"
     ]
    },
    {
     "name": "stdout",
     "output_type": "stream",
     "text": [
      "67 [11, 587, 13]\n",
      "71 [263, 163, 103]\n",
      "79 [107, 191, 11]\n"
     ]
    },
    {
     "name": "stdout",
     "output_type": "stream",
     "text": [
      "83 [71, 19, 97]\n"
     ]
    },
    {
     "name": "stdout",
     "output_type": "stream",
     "text": [
      "103 [181, 1231, 3]\n"
     ]
    },
    {
     "name": "stdout",
     "output_type": "stream",
     "text": [
      "107 [7, 683, 491]\n"
     ]
    },
    {
     "name": "stdout",
     "output_type": "stream",
     "text": [
      "127 [23, 1619, 397]\n"
     ]
    },
    {
     "name": "stdout",
     "output_type": "stream",
     "text": [
      "131 [233, 149, 103]\n"
     ]
    },
    {
     "name": "stdout",
     "output_type": "stream",
     "text": [
      "139 [1447, 421, 11]\n"
     ]
    },
    {
     "name": "stdout",
     "output_type": "stream",
     "text": [
      "151 [3137, 3461, 173]\n"
     ]
    },
    {
     "name": "stdout",
     "output_type": "stream",
     "text": [
      "163 [659, 79, 877]\n"
     ]
    },
    {
     "name": "stdout",
     "output_type": "stream",
     "text": [
      "167 [11, 673, 163]\n"
     ]
    },
    {
     "name": "stdout",
     "output_type": "stream",
     "text": [
      "179 [937, 557, 5]\n"
     ]
    },
    {
     "name": "stdout",
     "output_type": "stream",
     "text": [
      "191 [379, 3637, 193]\n"
     ]
    },
    {
     "name": "stdout",
     "output_type": "stream",
     "text": [
      "199 [263, 2417, 97]\n",
      "CPU times: user 17.5 s, sys: 35.4 ms, total: 17.6 s\n",
      "Wall time: 18.3 s\n"
     ]
    }
   ],
   "source": [
    "%%time\n",
    "P=Primes()\n",
    "p = 7\n",
    "n = 10**5 \n",
    "while p < 200: \n",
    "    if p % 4 ==3:\n",
    "        g = reduced_fekete(p)\n",
    "        print(p, triple(g,n))\n",
    "    p = P.next(p)"
   ]
  },
  {
   "cell_type": "code",
   "execution_count": 5,
   "metadata": {
    "collapsed": false
   },
   "outputs": [
    {
     "name": "stdout",
     "output_type": "stream",
     "text": [
      "211 [1871, 59, 11]\n"
     ]
    },
    {
     "name": "stdout",
     "output_type": "stream",
     "text": [
      "223 [659, 1993, 157]\n"
     ]
    },
    {
     "name": "stdout",
     "output_type": "stream",
     "text": [
      "227 [1223, 61, 23]\n"
     ]
    },
    {
     "name": "stdout",
     "output_type": "stream",
     "text": [
      "239 [719, 983, 37]\n"
     ]
    },
    {
     "name": "stdout",
     "output_type": "stream",
     "text": [
      "251 [2137, 827, 53]\n"
     ]
    },
    {
     "name": "stdout",
     "output_type": "stream",
     "text": [
      "263 [79, 827, 137]\n"
     ]
    },
    {
     "name": "stdout",
     "output_type": "stream",
     "text": [
      "271 [397, 67, 191]\n"
     ]
    },
    {
     "name": "stdout",
     "output_type": "stream",
     "text": [
      "283 [349, 1019, 67]\n"
     ]
    },
    {
     "name": "stdout",
     "output_type": "stream",
     "text": [
      "307 [4001, 619, 107]\n"
     ]
    },
    {
     "name": "stdout",
     "output_type": "stream",
     "text": [
      "311 [1523, 1361, 659]\n"
     ]
    },
    {
     "name": "stdout",
     "output_type": "stream",
     "text": [
      "331 [4889, 2383, 487]\n"
     ]
    },
    {
     "name": "stdout",
     "output_type": "stream",
     "text": [
      "347 [103, 1319, 499]\n"
     ]
    },
    {
     "name": "stdout",
     "output_type": "stream",
     "text": [
      "359 [271, 9643, 107]\n"
     ]
    },
    {
     "name": "stdout",
     "output_type": "stream",
     "text": [
      "367 [1181, 157, 43]\n"
     ]
    },
    {
     "name": "stdout",
     "output_type": "stream",
     "text": [
      "379 [4889, 1321, 101]\n"
     ]
    },
    {
     "name": "stdout",
     "output_type": "stream",
     "text": [
      "383 [2153, 10151, 211]\n"
     ]
    },
    {
     "name": "stdout",
     "output_type": "stream",
     "text": [
      "419 [1163, 9397, 293]\n"
     ]
    },
    {
     "name": "stdout",
     "output_type": "stream",
     "text": [
      "431 [4153, 6791, 281]\n"
     ]
    },
    {
     "name": "stdout",
     "output_type": "stream",
     "text": [
      "439 [21943, 2753, 131]\n"
     ]
    },
    {
     "name": "stdout",
     "output_type": "stream",
     "text": [
      "443 [4261, 79, 223]\n"
     ]
    },
    {
     "name": "stdout",
     "output_type": "stream",
     "text": [
      "463 [2281, 1303, 199]\n"
     ]
    },
    {
     "name": "stdout",
     "output_type": "stream",
     "text": [
      "467 [421, 3041, 563]\n"
     ]
    },
    {
     "name": "stdout",
     "output_type": "stream",
     "text": [
      "479 [163, 1439, 373]\n"
     ]
    },
    {
     "name": "stdout",
     "output_type": "stream",
     "text": [
      "487 [6703, 311, 151]\n"
     ]
    },
    {
     "name": "stdout",
     "output_type": "stream",
     "text": [
      "491 [10331, 1051, 503]\n"
     ]
    },
    {
     "name": "stdout",
     "output_type": "stream",
     "text": [
      "499 [4691, 5081, 191]\n",
      "CPU times: user 10min 30s, sys: 1.47 s, total: 10min 32s\n",
      "Wall time: 10min 43s\n"
     ]
    }
   ],
   "source": [
    "%%time\n",
    "P=Primes()\n",
    "p = 200\n",
    "n = 10**5 \n",
    "while p < 500: \n",
    "    if p % 4 ==3:\n",
    "        g = reduced_fekete(p)\n",
    "        print(p, triple(g,n))\n",
    "    p = P.next(p)"
   ]
  },
  {
   "cell_type": "code",
   "execution_count": 6,
   "metadata": {
    "collapsed": false
   },
   "outputs": [
    {
     "name": "stdout",
     "output_type": "stream",
     "text": [
      "503 [53, 12433, 29]\n"
     ]
    },
    {
     "name": "stdout",
     "output_type": "stream",
     "text": [
      "523 [67, 9127, 839]\n"
     ]
    },
    {
     "name": "stdout",
     "output_type": "stream",
     "text": [
      "547 [4567, 5023, 19]\n"
     ]
    },
    {
     "name": "stdout",
     "output_type": "stream",
     "text": [
      "563 [1451, 2437, 349]\n"
     ]
    },
    {
     "name": "stdout",
     "output_type": "stream",
     "text": [
      "571 [1031, 4127, 1229]\n"
     ]
    },
    {
     "name": "stdout",
     "output_type": "stream",
     "text": [
      "587 [1171, 593, 269]\n"
     ]
    },
    {
     "name": "stdout",
     "output_type": "stream",
     "text": [
      "599 [4673, 7331, 79]\n"
     ]
    },
    {
     "name": "stdout",
     "output_type": "stream",
     "text": [
      "607 [14293, 2693, 31]\n"
     ]
    },
    {
     "name": "stdout",
     "output_type": "stream",
     "text": [
      "619 [5849, 1619, 233]\n"
     ]
    },
    {
     "name": "stdout",
     "output_type": "stream",
     "text": [
      "631 [3733, 619, 479]\n"
     ]
    },
    {
     "name": "stdout",
     "output_type": "stream",
     "text": [
      "643 [2677, 859, 109]\n"
     ]
    },
    {
     "name": "stdout",
     "output_type": "stream",
     "text": [
      "647 [1303, 977, 151]\n"
     ]
    },
    {
     "name": "stdout",
     "output_type": "stream",
     "text": [
      "659 [7057, 1327, 1259]\n"
     ]
    },
    {
     "name": "stdout",
     "output_type": "stream",
     "text": [
      "683 [5011, 3491, 61]\n"
     ]
    },
    {
     "name": "stdout",
     "output_type": "stream",
     "text": [
      "691 [5861, 149, 163]\n"
     ]
    },
    {
     "name": "stdout",
     "output_type": "stream",
     "text": [
      "719 [3511, 7, 61]\n"
     ]
    },
    {
     "name": "stdout",
     "output_type": "stream",
     "text": [
      "727 [3947, 8431, 383]\n"
     ]
    },
    {
     "name": "stdout",
     "output_type": "stream",
     "text": [
      "739 [5507, 691, 577]\n"
     ]
    },
    {
     "name": "stdout",
     "output_type": "stream",
     "text": [
      "743 [1181, 10429, 41]\n"
     ]
    },
    {
     "name": "stdout",
     "output_type": "stream",
     "text": [
      "751 [2203, 1487, 139]\n"
     ]
    },
    {
     "name": "stdout",
     "output_type": "stream",
     "text": [
      "787 [17863, 677, 277]\n"
     ]
    },
    {
     "name": "stdout",
     "output_type": "stream",
     "text": [
      "811 [13177, 2683, 59]\n"
     ]
    },
    {
     "name": "stdout",
     "output_type": "stream",
     "text": [
      "823 [1733, 11393, 263]\n"
     ]
    },
    {
     "name": "stdout",
     "output_type": "stream",
     "text": [
      "827 [2699, 17707, 373]\n"
     ]
    },
    {
     "name": "stdout",
     "output_type": "stream",
     "text": [
      "839 [317, 797, 739]\n"
     ]
    },
    {
     "name": "stdout",
     "output_type": "stream",
     "text": [
      "859 [3671, 12211, 53]\n"
     ]
    },
    {
     "name": "stdout",
     "output_type": "stream",
     "text": [
      "863 [2089, 6569, 1019]\n"
     ]
    },
    {
     "name": "stdout",
     "output_type": "stream",
     "text": [
      "883 [7561, 881, 227]\n"
     ]
    },
    {
     "name": "stdout",
     "output_type": "stream",
     "text": [
      "887 [10337, 17, 863]\n"
     ]
    },
    {
     "name": "stdout",
     "output_type": "stream",
     "text": [
      "907 [2543, 13, 1049]\n"
     ]
    },
    {
     "name": "stdout",
     "output_type": "stream",
     "text": [
      "911 [2273, 7177, 593]\n"
     ]
    },
    {
     "name": "stdout",
     "output_type": "stream",
     "text": [
      "919 [277, 10181, 977]\n"
     ]
    },
    {
     "name": "stdout",
     "output_type": "stream",
     "text": [
      "947 [3169, 28619, 139]\n"
     ]
    },
    {
     "name": "stdout",
     "output_type": "stream",
     "text": [
      "967 [797, 13931, 2221]\n"
     ]
    }
   ],
   "source": [
    "%%time\n",
    "P=Primes()\n",
    "p = 500\n",
    "n = 10**5 \n",
    "while p < 1000: \n",
    "    if p % 4 ==3:\n",
    "        g = reduced_fekete(p)\n",
    "        print(p, triple(g,n))\n",
    "    p = P.next(p)"
   ]
  },
  {
   "cell_type": "code",
   "execution_count": 5,
   "metadata": {
    "collapsed": false
   },
   "outputs": [
    {
     "name": "stdout",
     "output_type": "stream",
     "text": [
      "971 [3779, 40961, 367]\n"
     ]
    },
    {
     "name": "stdout",
     "output_type": "stream",
     "text": [
      "983 [2423, 5903, 2161]\n"
     ]
    },
    {
     "name": "stdout",
     "output_type": "stream",
     "text": [
      "991 [179, 5641, 563]\n",
      "CPU times: user 26min 27s, sys: 1.39 s, total: 26min 28s\n",
      "Wall time: 26min 55s\n"
     ]
    }
   ],
   "source": [
    "%%time\n",
    "P=Primes()\n",
    "p = 968\n",
    "n = 10**5 \n",
    "while p < 1000: \n",
    "    if p % 4 ==3:\n",
    "        g = reduced_fekete(p)\n",
    "        print(p, triple(g,n))\n",
    "    p = P.next(p)"
   ]
  },
  {
   "cell_type": "code",
   "execution_count": 4,
   "metadata": {
    "collapsed": false
   },
   "outputs": [
    {
     "name": "stdout",
     "output_type": "stream",
     "text": [
      "1019 [8713, 12073, 31]\n"
     ]
    },
    {
     "name": "stdout",
     "output_type": "stream",
     "text": [
      "1031 [2239, 24509, 383]\n"
     ]
    },
    {
     "name": "stdout",
     "output_type": "stream",
     "text": [
      "1039 [2857, 1783, 859]\n"
     ]
    },
    {
     "name": "stdout",
     "output_type": "stream",
     "text": [
      "1051 [223, 643, 2027]\n"
     ]
    },
    {
     "name": "stdout",
     "output_type": "stream",
     "text": [
      "1063 [10459, 7951, 23]\n"
     ]
    },
    {
     "name": "stdout",
     "output_type": "stream",
     "text": [
      "1087 [15289, 1063, 1801]\n"
     ]
    },
    {
     "name": "stdout",
     "output_type": "stream",
     "text": [
      "1091 [29573, 3037, 191]\n",
      "CPU times: user 1h 13min 17s, sys: 5.97 s, total: 1h 13min 23s\n",
      "Wall time: 2h 18min 18s\n"
     ]
    }
   ],
   "source": [
    "%%time\n",
    "P=Primes()\n",
    "p = 992\n",
    "n = 10**5 \n",
    "while p < 1100: \n",
    "    if p % 4 ==3:\n",
    "        g = reduced_fekete(p)\n",
    "        print(p, triple(g,n))\n",
    "    p = P.next(p)"
   ]
  },
  {
   "cell_type": "code",
   "execution_count": 7,
   "metadata": {
    "collapsed": false
   },
   "outputs": [
    {
     "data": {
      "text/plain": [
       "2^98 * 3^23 * 5^12 * 7^8 * 11^4 * 13^3 * 17^3 * 19^2 * 23^2 * 29 * 31 * 37 * 41 * 43 * 47"
      ]
     },
     "execution_count": 7,
     "metadata": {
     },
     "output_type": "execute_result"
    }
   ],
   "source": [
    "factor(2^51 * factorial(51))"
   ]
  },
  {
   "cell_type": "markdown",
   "metadata": {
    "collapsed": false
   },
   "source": [
    "# 2-cycle in the Galois group of f"
   ]
  },
  {
   "cell_type": "code",
   "execution_count": 4,
   "metadata": {
    "collapsed": false
   },
   "outputs": [
    {
     "name": "stdout",
     "output_type": "stream",
     "text": [
      "[307, 1217]\n"
     ]
    },
    {
     "name": "stdout",
     "output_type": "stream",
     "text": [
      "[311, 2143]\n"
     ]
    },
    {
     "name": "stdout",
     "output_type": "stream",
     "text": [
      "[331, 5351]\n"
     ]
    },
    {
     "name": "stdout",
     "output_type": "stream",
     "text": [
      "[347, 491]\n"
     ]
    },
    {
     "name": "stdout",
     "output_type": "stream",
     "text": [
      "[359, 173]\n"
     ]
    },
    {
     "name": "stdout",
     "output_type": "stream",
     "text": [
      "[367, 157]\n"
     ]
    },
    {
     "name": "stdout",
     "output_type": "stream",
     "text": [
      "[379, 6911]\n"
     ]
    },
    {
     "name": "stdout",
     "output_type": "stream",
     "text": [
      "[383, 22963]\n",
      "CPU times: user 40min 2s, sys: 4.15 s, total: 40min 6s\n",
      "Wall time: 1h 20min 10s\n"
     ]
    }
   ],
   "source": [
    "%%time\n",
    "P=Primes()\n",
    "p = 300\n",
    "n=10**5\n",
    "while p < 400: \n",
    "    p = P.next(p)\n",
    "    if p % 4 ==3:\n",
    "        f = fekete(p)\n",
    "        print([p, two_cycle(f ,n)])"
   ]
  },
  {
   "cell_type": "code",
   "execution_count": 5,
   "metadata": {
    "collapsed": false
   },
   "outputs": [
    {
     "name": "stdout",
     "output_type": "stream",
     "text": [
      "[419, 17021]\n"
     ]
    },
    {
     "name": "stdout",
     "output_type": "stream",
     "text": [
      "[431, 8623]\n"
     ]
    },
    {
     "name": "stdout",
     "output_type": "stream",
     "text": [
      "[439, 1217]\n"
     ]
    },
    {
     "name": "stdout",
     "output_type": "stream",
     "text": [
      "[443, 1013]\n"
     ]
    },
    {
     "name": "stdout",
     "output_type": "stream",
     "text": [
      "[463, 2153]\n"
     ]
    },
    {
     "name": "stdout",
     "output_type": "stream",
     "text": [
      "[467, 617]\n"
     ]
    }
   ],
   "source": [
    "%%time\n",
    "P=Primes()\n",
    "p = 400\n",
    "n=10**5\n",
    "while p < 500: \n",
    "    p = P.next(p)\n",
    "    if p % 4 ==3:\n",
    "        f = fekete(p)\n",
    "        print([p, two_cycle(f ,n)])"
   ]
  },
  {
   "cell_type": "code",
   "execution_count": 3,
   "metadata": {
    "collapsed": false
   },
   "outputs": [
    {
     "name": "stdout",
     "output_type": "stream",
     "text": [
      "[479, 6673]\n"
     ]
    },
    {
     "name": "stdout",
     "output_type": "stream",
     "text": [
      "[487, 23]\n"
     ]
    },
    {
     "name": "stdout",
     "output_type": "stream",
     "text": [
      "[491, 167]\n"
     ]
    }
   ],
   "source": [
    "%%time\n",
    "P=Primes()\n",
    "p = 467\n",
    "n=10**5\n",
    "while p < 500: \n",
    "    p = P.next(p)\n",
    "    if p % 4 ==3:\n",
    "        f = fekete(p)\n",
    "        print([p, two_cycle(f ,n)])"
   ]
  },
  {
   "cell_type": "code",
   "execution_count": 4,
   "metadata": {
    "collapsed": false
   },
   "outputs": [
    {
     "name": "stdout",
     "output_type": "stream",
     "text": [
      "[499, 8039]\n"
     ]
    },
    {
     "name": "stdout",
     "output_type": "stream",
     "text": [
      "[503, 10837]\n"
     ]
    },
    {
     "name": "stdout",
     "output_type": "stream",
     "text": [
      "[523, 2141]\n",
      "CPU times: user 42min 4s, sys: 3.06 s, total: 42min 7s\n",
      "Wall time: 1h 21min 59s\n"
     ]
    }
   ],
   "source": [
    "%%time\n",
    "P=Primes()\n",
    "p = 491\n",
    "n=10**5\n",
    "while p < 540: \n",
    "    p = P.next(p)\n",
    "    if p % 4 ==3:\n",
    "        f = fekete(p)\n",
    "        print([p, two_cycle(f ,n)])"
   ]
  },
  {
   "cell_type": "code",
   "execution_count": 5,
   "metadata": {
    "collapsed": false
   },
   "outputs": [
    {
     "name": "stdout",
     "output_type": "stream",
     "text": [
      "[547, 3623]\n"
     ]
    },
    {
     "name": "stdout",
     "output_type": "stream",
     "text": [
      "[563, 3527]\n"
     ]
    },
    {
     "name": "stdout",
     "output_type": "stream",
     "text": [
      "[571, 1307]\n"
     ]
    }
   ],
   "source": [
    "%%time\n",
    "P=Primes()\n",
    "p = 540\n",
    "n=10**5\n",
    "while p < 600: \n",
    "    p = P.next(p)\n",
    "    if p % 4 ==3:\n",
    "        f = fekete(p)\n",
    "        print([p, two_cycle(f ,n)])"
   ]
  },
  {
   "cell_type": "code",
   "execution_count": 3,
   "metadata": {
    "collapsed": false
   },
   "outputs": [
    {
     "name": "stdout",
     "output_type": "stream",
     "text": [
      "[587, 5009]\n"
     ]
    }
   ],
   "source": [
    "%%time\n",
    "P=Primes()\n",
    "p = 571\n",
    "n=10**5\n",
    "while p < 600: \n",
    "    p = P.next(p)\n",
    "    if p % 4 ==3:\n",
    "        f = fekete(p)\n",
    "        print([p, two_cycle(f ,n)])"
   ]
  },
  {
   "cell_type": "code",
   "execution_count": 3,
   "metadata": {
    "collapsed": false
   },
   "outputs": [
    {
     "name": "stdout",
     "output_type": "stream",
     "text": [
      "[599, 20333]\n",
      "CPU times: user 1h 11min 12s, sys: 8.53 s, total: 1h 11min 21s\n",
      "Wall time: 2h 24min 28s\n"
     ]
    }
   ],
   "source": [
    "%%time\n",
    "P=Primes()\n",
    "p = 587\n",
    "n=10**5\n",
    "while p < 600: \n",
    "    p = P.next(p)\n",
    "    if p % 4 ==3:\n",
    "        f = fekete(p)\n",
    "        print([p, two_cycle(f ,n)])"
   ]
  },
  {
   "cell_type": "code",
   "execution_count": 3,
   "metadata": {
    "collapsed": false
   },
   "outputs": [
    {
     "name": "stdout",
     "output_type": "stream",
     "text": [
      "[607, 2857]\n"
     ]
    },
    {
     "name": "stdout",
     "output_type": "stream",
     "text": [
      "[619, 1619]\n"
     ]
    },
    {
     "name": "stdout",
     "output_type": "stream",
     "text": [
      "[631, 1423]\n",
      "CPU times: user 15min 54s, sys: 1.64 s, total: 15min 55s\n",
      "Wall time: 29min 24s\n"
     ]
    }
   ],
   "source": [
    "%%time\n",
    "P=Primes()\n",
    "p = 600\n",
    "n=10**5\n",
    "while p < 620: \n",
    "    p = P.next(p)\n",
    "    if p % 4 ==3:\n",
    "        f = fekete(p)\n",
    "        print([p, two_cycle(f ,n)])"
   ]
  },
  {
   "cell_type": "code",
   "execution_count": 2,
   "metadata": {
    "collapsed": false
   },
   "outputs": [
    {
     "name": "stdout",
     "output_type": "stream",
     "text": [
      "631\n",
      "643\n",
      "647\n",
      "659\n",
      "CPU times: user 0 ns, sys: 501 µs, total: 501 µs\n",
      "Wall time: 327 µs\n"
     ]
    }
   ],
   "source": [
    "%%time\n",
    "P=Primes()\n",
    "p = 630\n",
    "while p < 660: \n",
    "    p = P.next(p)\n",
    "    if p % 4 ==3:\n",
    "        print(p)\n"
   ]
  },
  {
   "cell_type": "code",
   "execution_count": 16,
   "metadata": {
    "collapsed": false
   },
   "outputs": [
    {
     "name": "stdout",
     "output_type": "stream",
     "text": [
      "[643, 63647]\n",
      "CPU times: user 5min 43s, sys: 168 ms, total: 5min 43s\n",
      "Wall time: 5min 44s\n"
     ]
    }
   ],
   "source": [
    "%%time\n",
    "p=643\n",
    "f=fekete(p)\n",
    "r=2000\n",
    "m=32*10**3+15*r\n",
    "n=m+r\n",
    "print([p, two_cycle_2(f,m,n)])\n",
    "\n",
    "    "
   ]
  },
  {
   "cell_type": "code",
   "execution_count": 20,
   "metadata": {
    "collapsed": false
   },
   "outputs": [
    {
     "name": "stdout",
     "output_type": "stream",
     "text": [
      "[647, 9973]\n",
      "CPU times: user 6min 31s, sys: 160 ms, total: 6min 31s\n",
      "Wall time: 6min 32s\n"
     ]
    }
   ],
   "source": [
    "%%time\n",
    "p=647\n",
    "f=fekete(p)\n",
    "r=2000\n",
    "m=8*10**3\n",
    "n=2*m\n",
    "print([p, two_cycle_2(f,m,n)])\n",
    "\n",
    "    "
   ]
  },
  {
   "cell_type": "code",
   "execution_count": 3,
   "metadata": {
    "collapsed": false
   },
   "outputs": [
    {
     "name": "stdout",
     "output_type": "stream",
     "text": [
      "[647, 10529]\n"
     ]
    }
   ],
   "source": [
    "p=647\n",
    "f=fekete(p)\n",
    "n=10**5\n",
    "print([p, search_two_four_cycle(f,n)])"
   ]
  },
  {
   "cell_type": "code",
   "execution_count": 0,
   "metadata": {
    "collapsed": false
   },
   "outputs": [
   ],
   "source": [
    "p=643\n",
    "f=fekete(p)\n",
    "n=2*10**5\n",
    "print([p, two_cycle(f,n)])\n",
    "\n",
    "    "
   ]
  },
  {
   "cell_type": "code",
   "execution_count": 8,
   "metadata": {
    "collapsed": false
   },
   "outputs": [
    {
     "name": "stdout",
     "output_type": "stream",
     "text": [
      "640\n",
      "641\n",
      "643\n",
      "False\n",
      "647\n"
     ]
    },
    {
     "name": "stdout",
     "output_type": "stream",
     "text": [
      "False\n",
      "653\n",
      "659\n",
      "False\n",
      "CPU times: user 6.84 s, sys: 16.9 ms, total: 6.85 s\n",
      "Wall time: 7.24 s\n"
     ]
    }
   ],
   "source": [
    "%%time\n",
    "P=Primes()\n",
    "p = 640\n",
    "n=10**5\n",
    "while p < 660: \n",
    "    print(p)\n",
    "    if p % 4 ==3:\n",
    "        f = fekete(p)\n",
    "        print(f.discriminant().is_square())\n",
    "        #print([p, two_cycle(f ,n)])\n",
    "    p= P.next(p)    \n",
    "    "
   ]
  },
  {
   "cell_type": "code",
   "execution_count": 4,
   "metadata": {
    "collapsed": false
   },
   "outputs": [
    {
     "name": "stdout",
     "output_type": "stream",
     "text": [
      "641\n",
      "643\n",
      "647\n",
      "653\n",
      "CPU times: user 7.95 ms, sys: 2.87 ms, total: 10.8 ms\n",
      "Wall time: 10.5 ms\n"
     ]
    }
   ],
   "source": [
    "%%time\n",
    "P=Primes()\n",
    "p = 631\n",
    "n=10**5\n",
    "while p < 650: \n",
    "    p = P.next(p)\n",
    "    print(p)\n",
    "    if p % 4 ==3:\n",
    "        f = fekete(p)\n",
    "        #print([p, two_cycle(f ,n)])"
   ]
  },
  {
   "cell_type": "code",
   "execution_count": 0,
   "metadata": {
    "collapsed": false
   },
   "outputs": [
   ],
   "source": [
    "%%time\n",
    "p=643\n",
    "f=fekete(p)\n",
    "r=2000\n",
    "m=10**3\n",
    "n=2*m\n",
    "print([p, search_two_four_cycle_2(f,m,n)])"
   ]
  },
  {
   "cell_type": "code",
   "execution_count": 3,
   "metadata": {
    "collapsed": false
   },
   "outputs": [
    {
     "name": "stdout",
     "output_type": "stream",
     "text": [
      "[659, 227]\n",
      "CPU times: user 29.7 s, sys: 41.9 ms, total: 29.8 s\n",
      "Wall time: 31.1 s\n"
     ]
    }
   ],
   "source": [
    "%%time\n",
    "P=Primes()\n",
    "p = 647\n",
    "n=10**5\n",
    "while p < 660: \n",
    "    p = P.next(p)\n",
    "    if p % 4 ==3:\n",
    "        f = fekete(p)\n",
    "        print([p, two_cycle(f ,n)])"
   ]
  },
  {
   "cell_type": "code",
   "execution_count": 7,
   "metadata": {
    "collapsed": false
   },
   "outputs": [
    {
     "name": "stdout",
     "output_type": "stream",
     "text": [
      "[683, 2081]\n",
      "CPU times: user 7min 8s, sys: 330 ms, total: 7min 8s\n",
      "Wall time: 7min 21s\n"
     ]
    }
   ],
   "source": [
    "%%time\n",
    "P=Primes()\n",
    "p = 659\n",
    "n=10**5\n",
    "while p < 680: \n",
    "    p = P.next(p)\n",
    "    if p % 4 ==3:\n",
    "        f = fekete(p)\n",
    "        print([p, two_cycle(f ,n)])"
   ]
  },
  {
   "cell_type": "code",
   "execution_count": 8,
   "metadata": {
    "collapsed": false
   },
   "outputs": [
    {
     "name": "stdout",
     "output_type": "stream",
     "text": [
      "[683, 2081]\n"
     ]
    },
    {
     "name": "stdout",
     "output_type": "stream",
     "text": [
      "[691, 3527]\n",
      "CPU times: user 18min 48s, sys: 1.08 s, total: 18min 49s\n",
      "Wall time: 19min 32s\n"
     ]
    }
   ],
   "source": [
    "%%time\n",
    "P=Primes()\n",
    "p = 680\n",
    "n=10**5\n",
    "while p < 690: \n",
    "    p = P.next(p)\n",
    "    if p % 4 ==3:\n",
    "        f = fekete(p)\n",
    "        print([p, two_cycle(f ,n)])"
   ]
  },
  {
   "cell_type": "code",
   "execution_count": 4,
   "metadata": {
    "collapsed": false
   },
   "outputs": [
    {
     "name": "stdout",
     "output_type": "stream",
     "text": [
      "[719, 7]\n"
     ]
    }
   ],
   "source": [
    "%%time\n",
    "P=Primes()\n",
    "p = 691\n",
    "n=10**5\n",
    "while p < 720: \n",
    "    p = P.next(p)\n",
    "    if p % 4 ==3:\n",
    "        f = fekete(p)\n",
    "        print([p, two_cycle(f ,n)])"
   ]
  },
  {
   "cell_type": "code",
   "execution_count": 3,
   "metadata": {
    "collapsed": false
   },
   "outputs": [
    {
     "name": "stdout",
     "output_type": "stream",
     "text": [
      "[727, 8887]\n",
      "CPU times: user 37min 1s, sys: 2.49 s, total: 37min 4s\n",
      "Wall time: 37min 14s\n"
     ]
    }
   ],
   "source": [
    "%%time\n",
    "P=Primes()\n",
    "p = 720\n",
    "n=10**5\n",
    "while p < 730: \n",
    "    p = P.next(p)\n",
    "    if p % 4 ==3:\n",
    "        f = fekete(p)\n",
    "        print([p, two_cycle(f ,n)])"
   ]
  },
  {
   "cell_type": "code",
   "execution_count": 4,
   "metadata": {
    "collapsed": false
   },
   "outputs": [
    {
     "name": "stdout",
     "output_type": "stream",
     "text": [
      "[739, 5711]\n"
     ]
    },
    {
     "name": "stdout",
     "output_type": "stream",
     "text": [
      "[743, 4357]\n",
      "CPU times: user 42min 32s, sys: 2.56 s, total: 42min 35s\n",
      "Wall time: 42min 45s\n"
     ]
    }
   ],
   "source": [
    "%%time\n",
    "P=Primes()\n",
    "p = 730\n",
    "n=10**5\n",
    "while p < 740: \n",
    "    p = P.next(p)\n",
    "    if p % 4 ==3:\n",
    "        f = fekete(p)\n",
    "        print([p, two_cycle(f ,n)])"
   ]
  },
  {
   "cell_type": "code",
   "execution_count": 9,
   "metadata": {
    "collapsed": false
   },
   "outputs": [
    {
     "name": "stdout",
     "output_type": "stream",
     "text": [
      "[751, 17]\n",
      "CPU times: user 3.26 s, sys: 16 ms, total: 3.28 s\n",
      "Wall time: 3.29 s\n"
     ]
    }
   ],
   "source": [
    "%%time\n",
    "P=Primes()\n",
    "p = 743\n",
    "n=10**5\n",
    "while p < 770: \n",
    "    p = P.next(p)\n",
    "    if p % 4 ==3:\n",
    "        f = fekete(p)\n",
    "        print([p, two_cycle(f ,n)])"
   ]
  },
  {
   "cell_type": "code",
   "execution_count": 10,
   "metadata": {
    "collapsed": false
   },
   "outputs": [
    {
     "name": "stdout",
     "output_type": "stream",
     "text": [
      "[787, 677]\n",
      "CPU times: user 2min 53s, sys: 296 ms, total: 2min 53s\n",
      "Wall time: 2min 54s\n"
     ]
    }
   ],
   "source": [
    "%%time\n",
    "P=Primes()\n",
    "p = 770\n",
    "n=10**5\n",
    "while p < 800: \n",
    "    p = P.next(p)\n",
    "    if p % 4 ==3:\n",
    "        f = fekete(p)\n",
    "        print([p, two_cycle(f ,n)])"
   ]
  },
  {
   "cell_type": "code",
   "execution_count": 11,
   "metadata": {
    "collapsed": false
   },
   "outputs": [
    {
     "name": "stdout",
     "output_type": "stream",
     "text": [
      "[811, 2741]\n",
      "CPU times: user 13min 38s, sys: 947 ms, total: 13min 39s\n",
      "Wall time: 13min 43s\n"
     ]
    }
   ],
   "source": [
    "%%time\n",
    "P=Primes()\n",
    "p = 787\n",
    "n=10**5\n",
    "while p < 820: \n",
    "    p = P.next(p)\n",
    "    if p % 4 ==3:\n",
    "        f = fekete(p)\n",
    "        print([p, two_cycle(f ,n)])"
   ]
  },
  {
   "cell_type": "code",
   "execution_count": 12,
   "metadata": {
    "collapsed": false
   },
   "outputs": [
    {
     "name": "stdout",
     "output_type": "stream",
     "text": [
      "[823, 5647]\n"
     ]
    }
   ],
   "source": [
    "%%time\n",
    "P=Primes()\n",
    "p = 821\n",
    "n=10**5\n",
    "while p < 830: \n",
    "    p = P.next(p)\n",
    "    if p % 4 ==3:\n",
    "        f = fekete(p)\n",
    "        print([p, two_cycle(f ,n)])"
   ]
  },
  {
   "cell_type": "code",
   "execution_count": 3,
   "metadata": {
    "collapsed": false
   },
   "outputs": [
    {
     "name": "stdout",
     "output_type": "stream",
     "text": [
      "[827, 4889]\n"
     ]
    },
    {
     "name": "stdout",
     "output_type": "stream",
     "text": [
      "[839, 797]\n",
      "CPU times: user 28min 41s, sys: 1.13 s, total: 28min 42s\n",
      "Wall time: 28min 46s\n"
     ]
    }
   ],
   "source": [
    "%%time\n",
    "P=Primes()\n",
    "p = 823\n",
    "n=10**5\n",
    "while p < 830: \n",
    "    p = P.next(p)\n",
    "    if p % 4 ==3:\n",
    "        f = fekete(p)\n",
    "        print([p, two_cycle(f ,n)])"
   ]
  },
  {
   "cell_type": "code",
   "execution_count": 5,
   "metadata": {
    "collapsed": false
   },
   "outputs": [
    {
     "name": "stdout",
     "output_type": "stream",
     "text": [
      "[859, 10499]\n"
     ]
    }
   ],
   "source": [
    "%%time\n",
    "P=Primes()\n",
    "p = 840\n",
    "n=10**5\n",
    "while p < 860: \n",
    "    p = P.next(p)\n",
    "    if p % 4 ==3:\n",
    "        f = fekete(p)\n",
    "        print([p, two_cycle(f ,n)])"
   ]
  },
  {
   "cell_type": "code",
   "execution_count": 3,
   "metadata": {
    "collapsed": false
   },
   "outputs": [
    {
     "name": "stdout",
     "output_type": "stream",
     "text": [
      "[863, 17317]\n",
      "CPU times: user 2h 13min 29s, sys: 10.4 s, total: 2h 13min 39s\n",
      "Wall time: 2h 17min 22s\n"
     ]
    }
   ],
   "source": [
    "%%time\n",
    "P=Primes()\n",
    "p = 859\n",
    "n=10**5\n",
    "while p < 870: \n",
    "    p = P.next(p)\n",
    "    if p % 4 ==3:\n",
    "        f = fekete(p)\n",
    "        print([p, two_cycle(f ,n)])"
   ]
  },
  {
   "cell_type": "code",
   "execution_count": 5,
   "metadata": {
    "collapsed": false
   },
   "outputs": [
    {
     "name": "stdout",
     "output_type": "stream",
     "text": [
      "[883, 1019]\n"
     ]
    },
    {
     "name": "stdout",
     "output_type": "stream",
     "text": [
      "[887, 17]\n",
      "CPU times: user 5min 46s, sys: 378 ms, total: 5min 47s\n",
      "Wall time: 5min 53s\n"
     ]
    }
   ],
   "source": [
    "%%time\n",
    "P=Primes()\n",
    "p = 870\n",
    "n=10**5\n",
    "while p < 885: \n",
    "    p = P.next(p)\n",
    "    if p % 4 ==3:\n",
    "        f = fekete(p)\n",
    "        print([p, two_cycle(f ,n)])"
   ]
  },
  {
   "cell_type": "code",
   "execution_count": 3,
   "metadata": {
    "collapsed": false
   },
   "outputs": [
    {
     "name": "stdout",
     "output_type": "stream",
     "text": [
      "[907, 5519]\n",
      "CPU times: user 37min 48s, sys: 2.17 s, total: 37min 51s\n",
      "Wall time: 38min 3s\n"
     ]
    }
   ],
   "source": [
    "%%time\n",
    "P=Primes()\n",
    "p = 887\n",
    "n=10**5\n",
    "while p < 895: \n",
    "    p = P.next(p)\n",
    "    if p % 4 ==3:\n",
    "        f = fekete(p)\n",
    "        print([p, two_cycle(f ,n)])"
   ]
  },
  {
   "cell_type": "code",
   "execution_count": 4,
   "metadata": {
    "collapsed": false
   },
   "outputs": [
    {
     "name": "stdout",
     "output_type": "stream",
     "text": [
      "[911, 3823]\n"
     ]
    }
   ],
   "source": [
    "%%time\n",
    "P=Primes()\n",
    "p = 907\n",
    "n=10**5\n",
    "while p < 915: \n",
    "    p = P.next(p)\n",
    "    if p % 4 ==3:\n",
    "        f = fekete(p)\n",
    "        print([p, two_cycle(f ,n)])"
   ]
  },
  {
   "cell_type": "code",
   "execution_count": 4,
   "metadata": {
    "collapsed": false
   },
   "outputs": [
    {
     "name": "stdout",
     "output_type": "stream",
     "text": [
      "[919, 7963]\n",
      "CPU times: user 55min 52s, sys: 4.17 s, total: 55min 57s\n",
      "Wall time: 56min 26s\n"
     ]
    }
   ],
   "source": [
    "%%time\n",
    "P=Primes()\n",
    "p = 911\n",
    "n=10**5\n",
    "while p < 915: \n",
    "    p = P.next(p)\n",
    "    if p % 4 ==3:\n",
    "        f = fekete(p)\n",
    "        print([p, two_cycle(f ,n)])"
   ]
  },
  {
   "cell_type": "code",
   "execution_count": 9,
   "metadata": {
    "collapsed": false
   },
   "outputs": [
    {
     "name": "stdout",
     "output_type": "stream",
     "text": [
      "[947, 47]\n",
      "CPU times: user 12.1 s, sys: 39.8 ms, total: 12.1 s\n",
      "Wall time: 12.7 s\n"
     ]
    }
   ],
   "source": [
    "%%time\n",
    "P=Primes()\n",
    "p = 919\n",
    "n=10**5\n",
    "while p < 945: \n",
    "    p = P.next(p)\n",
    "    if p % 4 ==3:\n",
    "        f = fekete(p)\n",
    "        print([p, two_cycle(f ,n)])"
   ]
  },
  {
   "cell_type": "code",
   "execution_count": 10,
   "metadata": {
    "collapsed": false
   },
   "outputs": [
    {
     "name": "stdout",
     "output_type": "stream",
     "text": [
      "[967, 10453]\n",
      "CPU times: user 1h 43min 51s, sys: 7.3 s, total: 1h 43min 58s\n",
      "Wall time: 1h 48min 5s\n"
     ]
    }
   ],
   "source": [
    "%%time\n",
    "P=Primes()\n",
    "p = 947\n",
    "n=10**5\n",
    "while p < 955: \n",
    "    p = P.next(p)\n",
    "    if p % 4 ==3:\n",
    "        f = fekete(p)\n",
    "        print([p, two_cycle(f ,n)])"
   ]
  },
  {
   "cell_type": "code",
   "execution_count": 3,
   "metadata": {
    "collapsed": false
   },
   "outputs": [
    {
     "name": "stdout",
     "output_type": "stream",
     "text": [
      "[971, 9839]\n"
     ]
    }
   ],
   "source": [
    "p=971\n",
    "f=fekete(p)\n",
    "n=10**5\n",
    "print([p, two_cycle(f,n)])"
   ]
  },
  {
   "cell_type": "code",
   "execution_count": 4,
   "metadata": {
    "collapsed": false
   },
   "outputs": [
    {
     "name": "stdout",
     "output_type": "stream",
     "text": [
      "CPU times: user 3 µs, sys: 0 ns, total: 3 µs\n",
      "Wall time: 6.2 µs\n"
     ]
    },
    {
     "name": "stdout",
     "output_type": "stream",
     "text": [
      "[983, 1907]\n"
     ]
    }
   ],
   "source": [
    "%time\n",
    "p=983\n",
    "f=fekete(p)\n",
    "n=10**5\n",
    "print([p, two_cycle(f,n)])"
   ]
  },
  {
   "cell_type": "code",
   "execution_count": 3,
   "metadata": {
    "collapsed": false
   },
   "outputs": [
    {
     "name": "stdout",
     "output_type": "stream",
     "text": [
      "CPU times: user 2 µs, sys: 1e+03 ns, total: 3 µs\n",
      "Wall time: 5.96 µs\n"
     ]
    },
    {
     "name": "stdout",
     "output_type": "stream",
     "text": [
      "[991, 9127]\n"
     ]
    }
   ],
   "source": [
    "%time\n",
    "p=991\n",
    "f=fekete(p)\n",
    "n=10**5\n",
    "print([p, two_cycle(f,n)])"
   ]
  },
  {
   "cell_type": "code",
   "execution_count": 4,
   "metadata": {
    "collapsed": false
   },
   "outputs": [
    {
     "name": "stdout",
     "output_type": "stream",
     "text": [
      "[1019, 4943]\n",
      "CPU times: user 39min 56s, sys: 3.3 s, total: 39min 59s\n",
      "Wall time: 40min 13s\n"
     ]
    }
   ],
   "source": [
    "%%time\n",
    "p=1019\n",
    "f=fekete(p)\n",
    "n=10**5\n",
    "print([p, two_cycle(f,n)])"
   ]
  },
  {
   "cell_type": "code",
   "execution_count": 0,
   "metadata": {
    "collapsed": false
   },
   "outputs": [
   ],
   "source": [
   ]
  }
 ],
 "metadata": {
  "kernelspec": {
   "argv": [
    "sage-9.4",
    "--python",
    "-m",
    "sage.repl.ipython_kernel",
    "--matplotlib=inline",
    "-f",
    "{connection_file}"
   ],
   "display_name": "SageMath 9.4",
   "env": {
   },
   "language": "sagemath",
   "metadata": {
    "cocalc": {
     "description": "Open-source mathematical software system",
     "priority": 1,
     "url": "https://www.sagemath.org/"
    }
   },
   "name": "sage-9.4",
   "resource_dir": "/ext/jupyter/kernels/sage-9.4"
  },
  "language_info": {
   "codemirror_mode": {
    "name": "ipython",
    "version": 3
   },
   "file_extension": ".py",
   "mimetype": "text/x-python",
   "name": "python",
   "nbconvert_exporter": "python",
   "pygments_lexer": "ipython3",
   "version": "3.9.5"
  }
 },
 "nbformat": 4,
 "nbformat_minor": 4
}