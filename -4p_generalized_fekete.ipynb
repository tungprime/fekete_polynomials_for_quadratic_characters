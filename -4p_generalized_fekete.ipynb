{
 "cells": [
  {
   "cell_type": "code",
   "execution_count": 1,
   "metadata": {
    "collapsed": false
   },
   "outputs": [
   ],
   "source": [
    "R.<x> = PolynomialRing(ZZ)\n",
    "from sage.rings.polynomial.cyclotomic import cyclotomic_coeffs\n",
    "S = ZZ['x']\n"
   ]
  },
  {
   "cell_type": "code",
   "execution_count": 2,
   "metadata": {
    "collapsed": false
   },
   "outputs": [
   ],
   "source": [
    "def modified_fekete(p):\n",
    "    \"return the modified Fekete polynomial with Delta= 4p\" \n",
    "    D=4*p\n",
    "    Delta = -4*p \n",
    "    v=[kronecker(Delta, 2*a+1) for a in range(0,D/2)]\n",
    "    F_p=R(v)\n",
    "    return F_p\n",
    "\n",
    "        \n",
    "        \n",
    "def conjectural_fekete(p):\n",
    "    #compute the conjectural form of f_p(x)  \n",
    "    F_D=raw_fekete(d)\n",
    "    factor=F_D.factor()\n",
    "    factor=factor[-1][0]\n",
    "    w=factor.list()\n",
    "    w_1=w[::2]\n",
    "    f_D=R(w_1)\n",
    "    return f_D\n",
    "\n",
    "def fekete(p):\n",
    "    F_D= modified_fekete(p)\n",
    "    phi_1= S(cyclotomic_coeffs(1))\n",
    "    phi_p = S(cyclotomic_coeffs(p))\n",
    "    phi_2= S(cyclotomic_coeffs(2))\n",
    "    phi_6 = S(cyclotomic_coeffs(6))\n",
    "    if p % 8 ==5:\n",
    "        factor = (phi_1) * phi_p * (phi_2)**2 * phi_6\n",
    "    if p % 8 == 1:\n",
    "        factor = (phi_1) * phi_p * (phi_2)**2 \n",
    "    f,r =F_D.quo_rem(factor)    \n",
    "    return f     \n",
    "        \n",
    "    \n",
    "    \n",
    "    \n",
    "    \n",
    "def reduced_fekete(d):\n",
    "    f=fekete(d)\n",
    "    u=f.trace_polynomial()\n",
    "    g_D=u[0]\n",
    "    return g_D\n",
    "\n",
    "        \n",
    "\n",
    "    \n",
    "def fekete_reduction(f, q):\n",
    "    f=f.change_ring(GF(q))\n",
    "    return f.factor()\n",
    "\n",
    "\n",
    "def almost_cycle(f,n):\n",
    "    for q in range(n):\n",
    "        if is_prime(q): \n",
    "            factor=fekete_reduction(f,q)\n",
    "            if len(factor)==3: \n",
    "                factor1=factor[0][0]\n",
    "                factor2=factor[1][0]\n",
    "                degree1=factor1.degree()\n",
    "                degree2=factor2.degree()\n",
    "                if degree1==1 and degree2==1 and factor[0][1]==1 and factor[1][1]==1 and factor[2][1]==1: \n",
    "                    return q\n",
    "    return  -1         \n",
    "                \n",
    "def irreducible(f,n):\n",
    "    for q in range(n):\n",
    "        if is_prime(q): \n",
    "            factor=fekete_reduction(f,q)\n",
    "            if len(factor)==1 and factor[0][1]==1:\n",
    "                    return q\n",
    "    return  -1         \n",
    "                \n",
    "       \n",
    "    \n",
    "def length_test_2(v):\n",
    "    #count the number of even entries in v\n",
    "    count2=0\n",
    "    for item in v:\n",
    "        if item==2:\n",
    "            count2 +=1\n",
    "    count_even=0     \n",
    "    for item in v:        \n",
    "        if item %2 ==0:\n",
    "            count_even +=1\n",
    "    if count2==count_even==1:\n",
    "        return True\n",
    "    return False    \n",
    "\n",
    "def length_test_4(v):\n",
    "    #count the number of even entries in v\n",
    "    count4=0\n",
    "    for item in v:\n",
    "        if item==4:\n",
    "            count4 +=1\n",
    "    count_even=0     \n",
    "    for item in v:        \n",
    "        if item %2 ==0:\n",
    "            count_even +=1\n",
    "    if count4==count_even==1:\n",
    "        return True\n",
    "    return False    \n",
    "\n",
    "    \n",
    "def two_cycle(f,n):\n",
    "    result=[]\n",
    "    for q in range(n):\n",
    "        v=[]\n",
    "        if is_prime(q):\n",
    "            factor=fekete_reduction(f,q)\n",
    "            for item in factor:\n",
    "                v.append(item[0].degree())\n",
    "        if sum(v)==f.degree() and length_test_2(v):\n",
    "            return q\n",
    "    return -1     \n",
    "\n",
    "def four_cycle(f,q):\n",
    "    result=[]\n",
    "    for q in range(n):\n",
    "        v=[]\n",
    "        if is_prime(q):\n",
    "            factor=fekete_reduction(f,q)\n",
    "            for item in factor:\n",
    "                v.append(item[0].degree())\n",
    "        if sum(v)==f.degree() and length_test_4(v):\n",
    "            return q\n",
    "    return -1  \n",
    "\n",
    "def cycle(g,n):\n",
    "    for q in range(n):\n",
    "        if is_prime(q): \n",
    "            factor=fekete_reduction(g,q)\n",
    "            if len(factor)==2: \n",
    "                factor1=factor[0][0]\n",
    "                coef=factor1.degree()\n",
    "                if coef==1 and factor[0][1]==1 and factor[1][1]==1: \n",
    "                                   return q\n",
    "    return  -1   \n",
    "                    \n",
    "\n",
    "                    \n",
    "def search_quadruple(f,n):\n",
    "    irr=irreducible(f,n)\n",
    "    print(f\"f is irreducible at q= \", irr)\n",
    "    q_cycle=almost_cycle(f,n)\n",
    "    print(f\"f has an (2m-2) cycle at q=\", q_cycle)\n",
    "    q_tranposition=two_cycle(f,n)\n",
    "    print(f\"f has an 2-cycle at q=\", q_tranposition)\n",
    "    q_four_cycle=four_cycle(f,n)\n",
    "    print(f\"f has an 4-cycle at q=\", q_four_cycle)\n",
    "    \n",
    "\n",
    "def quadruple(f,n):\n",
    "    irr=irreducible(f,n)\n",
    "    q_cycle=almost_cycle(f,n)\n",
    "    q_tranposition=two_cycle(f,n)\n",
    "    q_four_cycle=four_cycle(f,n)\n",
    "    result=(irr, q_cycle, q_tranposition, q_four_cycle)\n",
    "    return result\n",
    "    \n",
    "    \n",
    "def triple(g,n):\n",
    "    irr=irreducible(g,n)\n",
    "    q_cycle=cycle(g,n)\n",
    "    q_tranposition=two_cycle(g,n)\n",
    "    result=[irr, q_cycle, q_tranposition]\n",
    "    return result\n",
    "    \n",
    "def irreducible(p):\n",
    "    f = fekete(p)\n",
    "    return f.is_irreducible()\n",
    "\n",
    "\n",
    "    \n",
    "    \n"
   ]
  },
  {
   "cell_type": "markdown",
   "metadata": {
    "collapsed": false
   },
   "source": [
    "# We test the above codes for several $p$.   \n",
    "\n",
    "\n",
    "In this section, we focus on the factorization of $\\tilde{F}_{\\Delta}(x)$ as well as the definition of $f_{\\Delta}$. \n",
    "\n",
    "\n",
    "\n",
    "\n"
   ]
  },
  {
   "cell_type": "markdown",
   "metadata": {
    "collapsed": false
   },
   "source": [
    "### We consider $p= 5$"
   ]
  },
  {
   "cell_type": "code",
   "execution_count": 11,
   "metadata": {
    "collapsed": false
   },
   "outputs": [
    {
     "data": {
      "text/plain": [
       "-x^9 - x^8 - x^6 - x^5 + x^4 + x^3 + x + 1"
      ]
     },
     "execution_count": 11,
     "metadata": {
     },
     "output_type": "execute_result"
    }
   ],
   "source": [
    "p=5\n",
    "F=modified_fekete(p)\n",
    "F"
   ]
  },
  {
   "cell_type": "code",
   "execution_count": 12,
   "metadata": {
    "collapsed": false
   },
   "outputs": [
    {
     "data": {
      "text/plain": [
       "(-1) * (x - 1) * (x + 1)^2 * (x^2 - x + 1) * (x^4 + x^3 + x^2 + x + 1)"
      ]
     },
     "execution_count": 12,
     "metadata": {
     },
     "output_type": "execute_result"
    }
   ],
   "source": [
    "F.factor()"
   ]
  },
  {
   "cell_type": "code",
   "execution_count": 13,
   "metadata": {
    "collapsed": false
   },
   "outputs": [
    {
     "data": {
      "text/plain": [
       "1"
      ]
     },
     "execution_count": 13,
     "metadata": {
     },
     "output_type": "execute_result"
    }
   ],
   "source": [
    "f=fekete(p)\n",
    "f"
   ]
  },
  {
   "cell_type": "markdown",
   "metadata": {
    "collapsed": false
   },
   "source": [
    "### We consider $p= 13$"
   ]
  },
  {
   "cell_type": "code",
   "execution_count": 14,
   "metadata": {
    "collapsed": false
   },
   "outputs": [
    {
     "data": {
      "text/plain": [
       "-x^25 + x^24 + x^23 - x^22 - x^21 - x^20 - x^18 - x^17 - x^16 + x^15 + x^14 - x^13 + x^12 - x^11 - x^10 + x^9 + x^8 + x^7 + x^5 + x^4 + x^3 - x^2 - x + 1"
      ]
     },
     "execution_count": 14,
     "metadata": {
     },
     "output_type": "execute_result"
    }
   ],
   "source": [
    "p=13\n",
    "F=modified_fekete(p)\n",
    "F"
   ]
  },
  {
   "cell_type": "code",
   "execution_count": 15,
   "metadata": {
    "collapsed": false
   },
   "outputs": [
    {
     "data": {
      "text/plain": [
       "(-1) * (x - 1) * (x + 1)^2 * (x^2 - x + 1) * (x^8 - 2*x^7 + x^6 - x^5 + 3*x^4 - x^3 + x^2 - 2*x + 1) * (x^12 + x^11 + x^10 + x^9 + x^8 + x^7 + x^6 + x^5 + x^4 + x^3 + x^2 + x + 1)"
      ]
     },
     "execution_count": 15,
     "metadata": {
     },
     "output_type": "execute_result"
    }
   ],
   "source": [
    "F.factor()"
   ]
  },
  {
   "cell_type": "code",
   "execution_count": 16,
   "metadata": {
    "collapsed": false
   },
   "outputs": [
    {
     "data": {
      "text/plain": [
       "x^8 - 2*x^7 + x^6 - x^5 + 3*x^4 - x^3 + x^2 - 2*x + 1"
      ]
     },
     "execution_count": 16,
     "metadata": {
     },
     "output_type": "execute_result"
    }
   ],
   "source": [
    "f=fekete(p)\n",
    "f"
   ]
  },
  {
   "cell_type": "code",
   "execution_count": 22,
   "metadata": {
    "collapsed": false
   },
   "outputs": [
    {
     "data": {
      "text/plain": [
       "x^4 - 2*x^3 - 3*x^2 + 5*x + 3"
      ]
     },
     "execution_count": 22,
     "metadata": {
     },
     "output_type": "execute_result"
    }
   ],
   "source": [
    "g=reduced_fekete(p)\n",
    "g"
   ]
  },
  {
   "cell_type": "markdown",
   "metadata": {
    "collapsed": false
   },
   "source": [
    "## We consider $p$=17"
   ]
  },
  {
   "cell_type": "code",
   "execution_count": 35,
   "metadata": {
    "collapsed": false
   },
   "outputs": [
    {
     "data": {
      "text/plain": [
       "-x^33 - x^32 + x^31 - x^30 - x^29 - x^28 - x^27 + x^26 + x^24 - x^23 - x^22 - x^21 - x^20 + x^19 - x^18 - x^17 + x^16 + x^15 - x^14 + x^13 + x^12 + x^11 + x^10 - x^9 - x^7 + x^6 + x^5 + x^4 + x^3 - x^2 + x + 1"
      ]
     },
     "execution_count": 35,
     "metadata": {
     },
     "output_type": "execute_result"
    }
   ],
   "source": [
    "p=17\n",
    "F=modified_fekete(p)\n",
    "F"
   ]
  },
  {
   "cell_type": "code",
   "execution_count": 36,
   "metadata": {
    "collapsed": false
   },
   "outputs": [
    {
     "data": {
      "text/plain": [
       "(-1) * (x - 1) * (x + 1)^2 * (x^14 - x^13 + 2*x^11 - 3*x^10 + 5*x^9 - 6*x^8 + 6*x^7 - 6*x^6 + 5*x^5 - 3*x^4 + 2*x^3 - x + 1) * (x^16 + x^15 + x^14 + x^13 + x^12 + x^11 + x^10 + x^9 + x^8 + x^7 + x^6 + x^5 + x^4 + x^3 + x^2 + x + 1)"
      ]
     },
     "execution_count": 36,
     "metadata": {
     },
     "output_type": "execute_result"
    }
   ],
   "source": [
    "F.factor()"
   ]
  },
  {
   "cell_type": "code",
   "execution_count": 37,
   "metadata": {
    "collapsed": false
   },
   "outputs": [
    {
     "data": {
      "text/plain": [
       "x^14 - x^13 + 2*x^11 - 3*x^10 + 5*x^9 - 6*x^8 + 6*x^7 - 6*x^6 + 5*x^5 - 3*x^4 + 2*x^3 - x + 1"
      ]
     },
     "execution_count": 37,
     "metadata": {
     },
     "output_type": "execute_result"
    }
   ],
   "source": [
    "f=fekete(p)\n",
    "f"
   ]
  },
  {
   "cell_type": "code",
   "execution_count": 38,
   "metadata": {
    "collapsed": false
   },
   "outputs": [
    {
     "data": {
      "text/plain": [
       "x^7 - x^6 - 7*x^5 + 8*x^4 + 11*x^3 - 12*x^2 - 4*x + 2"
      ]
     },
     "execution_count": 38,
     "metadata": {
     },
     "output_type": "execute_result"
    }
   ],
   "source": [
    "g=reduced_fekete(p)\n",
    "g"
   ]
  },
  {
   "cell_type": "markdown",
   "metadata": {
    "collapsed": false
   },
   "source": [
    "## We consider $p=29$"
   ]
  },
  {
   "cell_type": "code",
   "execution_count": 39,
   "metadata": {
    "collapsed": false
   },
   "outputs": [
    {
     "data": {
      "text/plain": [
       "(-1) * (x - 1) * (x + 1)^2 * (x^2 - x + 1) * (x^24 + x^22 - 3*x^21 + 3*x^20 - 3*x^19 + 6*x^18 - 5*x^17 + 4*x^16 - 6*x^15 + 4*x^14 - 4*x^13 + 7*x^12 - 4*x^11 + 4*x^10 - 6*x^9 + 4*x^8 - 5*x^7 + 6*x^6 - 3*x^5 + 3*x^4 - 3*x^3 + x^2 + 1) * (x^28 + x^27 + x^26 + x^25 + x^24 + x^23 + x^22 + x^21 + x^20 + x^19 + x^18 + x^17 + x^16 + x^15 + x^14 + x^13 + x^12 + x^11 + x^10 + x^9 + x^8 + x^7 + x^6 + x^5 + x^4 + x^3 + x^2 + x + 1)"
      ]
     },
     "execution_count": 39,
     "metadata": {
     },
     "output_type": "execute_result"
    }
   ],
   "source": [
    "p=29\n",
    "F=modified_fekete(p)\n",
    "F.factor()\n"
   ]
  },
  {
   "cell_type": "code",
   "execution_count": 40,
   "metadata": {
    "collapsed": false
   },
   "outputs": [
    {
     "data": {
      "text/plain": [
       "x^24 + x^22 - 3*x^21 + 3*x^20 - 3*x^19 + 6*x^18 - 5*x^17 + 4*x^16 - 6*x^15 + 4*x^14 - 4*x^13 + 7*x^12 - 4*x^11 + 4*x^10 - 6*x^9 + 4*x^8 - 5*x^7 + 6*x^6 - 3*x^5 + 3*x^4 - 3*x^3 + x^2 + 1"
      ]
     },
     "execution_count": 40,
     "metadata": {
     },
     "output_type": "execute_result"
    }
   ],
   "source": [
    "f=fekete(p)\n",
    "f"
   ]
  },
  {
   "cell_type": "code",
   "execution_count": 29,
   "metadata": {
    "collapsed": false
   },
   "outputs": [
    {
     "data": {
      "text/plain": [
       "x^12 - 11*x^10 - 3*x^9 + 47*x^8 + 24*x^7 - 95*x^6 - 65*x^5 + 83*x^4 + 67*x^3 - 17*x^2 - 17*x + 1"
      ]
     },
     "execution_count": 29,
     "metadata": {
     },
     "output_type": "execute_result"
    }
   ],
   "source": [
    "g = reduced_fekete(p)\n",
    "g"
   ]
  },
  {
   "cell_type": "markdown",
   "metadata": {
    "collapsed": false
   },
   "source": [
    "## We consider $p = 37$ "
   ]
  },
  {
   "cell_type": "code",
   "execution_count": 41,
   "metadata": {
    "collapsed": false
   },
   "outputs": [
    {
     "data": {
      "text/plain": [
       "(-1) * (x - 1) * (x + 1)^2 * (x^2 - x + 1) * (x^32 - 2*x^31 + x^30 - 3*x^29 + 5*x^28 - 5*x^27 + 6*x^26 - 7*x^25 + 6*x^24 - 6*x^23 + 8*x^22 - 6*x^21 + 7*x^20 - 10*x^19 + 7*x^18 - 7*x^17 + 11*x^16 - 7*x^15 + 7*x^14 - 10*x^13 + 7*x^12 - 6*x^11 + 8*x^10 - 6*x^9 + 6*x^8 - 7*x^7 + 6*x^6 - 5*x^5 + 5*x^4 - 3*x^3 + x^2 - 2*x + 1) * (x^36 + x^35 + x^34 + x^33 + x^32 + x^31 + x^30 + x^29 + x^28 + x^27 + x^26 + x^25 + x^24 + x^23 + x^22 + x^21 + x^20 + x^19 + x^18 + x^17 + x^16 + x^15 + x^14 + x^13 + x^12 + x^11 + x^10 + x^9 + x^8 + x^7 + x^6 + x^5 + x^4 + x^3 + x^2 + x + 1)"
      ]
     },
     "execution_count": 41,
     "metadata": {
     },
     "output_type": "execute_result"
    }
   ],
   "source": [
    "p=37\n",
    "F=modified_fekete(p)\n",
    "F.factor()"
   ]
  },
  {
   "cell_type": "code",
   "execution_count": 42,
   "metadata": {
    "collapsed": false
   },
   "outputs": [
    {
     "data": {
      "text/plain": [
       "x^32 - 2*x^31 + x^30 - 3*x^29 + 5*x^28 - 5*x^27 + 6*x^26 - 7*x^25 + 6*x^24 - 6*x^23 + 8*x^22 - 6*x^21 + 7*x^20 - 10*x^19 + 7*x^18 - 7*x^17 + 11*x^16 - 7*x^15 + 7*x^14 - 10*x^13 + 7*x^12 - 6*x^11 + 8*x^10 - 6*x^9 + 6*x^8 - 7*x^7 + 6*x^6 - 5*x^5 + 5*x^4 - 3*x^3 + x^2 - 2*x + 1"
      ]
     },
     "execution_count": 42,
     "metadata": {
     },
     "output_type": "execute_result"
    }
   ],
   "source": [
    "f=fekete(p)\n",
    "f"
   ]
  },
  {
   "cell_type": "code",
   "execution_count": 34,
   "metadata": {
    "collapsed": false
   },
   "outputs": [
    {
     "data": {
      "text/plain": [
       "x^16 - 2*x^15 - 15*x^14 + 27*x^13 + 95*x^12 - 146*x^11 - 329*x^10 + 403*x^9 + 666*x^8 - 595*x^7 - 768*x^6 + 442*x^5 + 444*x^4 - 136*x^3 - 90*x^2 + 18*x + 5"
      ]
     },
     "execution_count": 34,
     "metadata": {
     },
     "output_type": "execute_result"
    }
   ],
   "source": [
    "g = reduced_fekete(p)\n",
    "g"
   ]
  },
  {
   "cell_type": "markdown",
   "metadata": {
    "collapsed": false
   },
   "source": [
    "### We consider $p = 41$ "
   ]
  },
  {
   "cell_type": "code",
   "execution_count": 43,
   "metadata": {
    "collapsed": false
   },
   "outputs": [
    {
     "data": {
      "text/plain": [
       "(-1) * (x - 1) * (x + 1)^2 * (x^38 - x^37 + 2*x^36 - 2*x^35 + 3*x^34 - 3*x^33 + 2*x^32 - 3*x^30 + 7*x^29 - 10*x^28 + 12*x^27 - 13*x^26 + 15*x^25 - 18*x^24 + 20*x^23 - 21*x^22 + 23*x^21 - 24*x^20 + 24*x^19 - 24*x^18 + 23*x^17 - 21*x^16 + 20*x^15 - 18*x^14 + 15*x^13 - 13*x^12 + 12*x^11 - 10*x^10 + 7*x^9 - 3*x^8 + 2*x^6 - 3*x^5 + 3*x^4 - 2*x^3 + 2*x^2 - x + 1) * (x^40 + x^39 + x^38 + x^37 + x^36 + x^35 + x^34 + x^33 + x^32 + x^31 + x^30 + x^29 + x^28 + x^27 + x^26 + x^25 + x^24 + x^23 + x^22 + x^21 + x^20 + x^19 + x^18 + x^17 + x^16 + x^15 + x^14 + x^13 + x^12 + x^11 + x^10 + x^9 + x^8 + x^7 + x^6 + x^5 + x^4 + x^3 + x^2 + x + 1)"
      ]
     },
     "execution_count": 43,
     "metadata": {
     },
     "output_type": "execute_result"
    }
   ],
   "source": [
    "p=41\n",
    "F=modified_fekete(p)\n",
    "F.factor()"
   ]
  },
  {
   "cell_type": "code",
   "execution_count": 44,
   "metadata": {
    "collapsed": false
   },
   "outputs": [
    {
     "data": {
      "text/plain": [
       "x^38 - x^37 + 2*x^36 - 2*x^35 + 3*x^34 - 3*x^33 + 2*x^32 - 3*x^30 + 7*x^29 - 10*x^28 + 12*x^27 - 13*x^26 + 15*x^25 - 18*x^24 + 20*x^23 - 21*x^22 + 23*x^21 - 24*x^20 + 24*x^19 - 24*x^18 + 23*x^17 - 21*x^16 + 20*x^15 - 18*x^14 + 15*x^13 - 13*x^12 + 12*x^11 - 10*x^10 + 7*x^9 - 3*x^8 + 2*x^6 - 3*x^5 + 3*x^4 - 2*x^3 + 2*x^2 - x + 1"
      ]
     },
     "execution_count": 44,
     "metadata": {
     },
     "output_type": "execute_result"
    }
   ],
   "source": [
    "f = fekete(p)\n",
    "f"
   ]
  },
  {
   "cell_type": "code",
   "execution_count": 45,
   "metadata": {
    "collapsed": false
   },
   "outputs": [
    {
     "data": {
      "text/plain": [
       "x^19 - x^18 - 17*x^17 + 16*x^16 + 121*x^15 - 106*x^14 - 470*x^13 + 380*x^12 + 1086*x^11 - 807*x^10 - 1519*x^9 + 1034*x^8 + 1247*x^7 - 760*x^6 - 562*x^5 + 276*x^4 + 137*x^3 - 39*x^2 - 21*x + 2"
      ]
     },
     "execution_count": 45,
     "metadata": {
     },
     "output_type": "execute_result"
    }
   ],
   "source": [
    "g =reduced_fekete(p)\n",
    "g"
   ]
  },
  {
   "cell_type": "markdown",
   "metadata": {
    "collapsed": false
   },
   "source": [
    "# We study the Galois group of $f_{\\Delta}(x)$. "
   ]
  },
  {
   "cell_type": "code",
   "execution_count": 4,
   "metadata": {
    "collapsed": false
   },
   "outputs": [
    {
     "name": "stdout",
     "output_type": "stream",
     "text": [
      "13 (5, 11, 2, 67)\n"
     ]
    },
    {
     "name": "stdout",
     "output_type": "stream",
     "text": [
      "17 (5, 173, 79, 181)\n"
     ]
    },
    {
     "name": "stdout",
     "output_type": "stream",
     "text": [
      "29 (163, 193, 269, 47)\n"
     ]
    },
    {
     "name": "stdout",
     "output_type": "stream",
     "text": [
      "37 (191, 613, 461, 331)\n"
     ]
    },
    {
     "name": "stdout",
     "output_type": "stream",
     "text": [
      "41 (71, 719, 151, 59)\n"
     ]
    },
    {
     "name": "stdout",
     "output_type": "stream",
     "text": [
      "53 (79, 223, 5, 383)\n"
     ]
    },
    {
     "name": "stdout",
     "output_type": "stream",
     "text": [
      "61 (601, 241, 919, 2063)\n"
     ]
    },
    {
     "name": "stdout",
     "output_type": "stream",
     "text": [
      "73 (1163, 167, 557, 593)\n"
     ]
    },
    {
     "name": "stdout",
     "output_type": "stream",
     "text": [
      "89 (337, 587, 1021, 79)\n"
     ]
    },
    {
     "name": "stdout",
     "output_type": "stream",
     "text": [
      "97 (31, 443, 3407, 797)\n"
     ]
    }
   ],
   "source": [
    "P=Primes()\n",
    "p = 7\n",
    "n=10**5\n",
    "while p < 100: \n",
    "    if p % 4 ==1:\n",
    "        f =fekete(p)\n",
    "        print(p, quadruple(f,n))\n",
    "    p = P.next(p)  "
   ]
  },
  {
   "cell_type": "code",
   "execution_count": 5,
   "metadata": {
    "collapsed": false
   },
   "outputs": [
    {
     "name": "stdout",
     "output_type": "stream",
     "text": [
      "101 (283, 1579, 691, 241)\n"
     ]
    },
    {
     "name": "stdout",
     "output_type": "stream",
     "text": [
      "109 (59, 1471, 101, 229)\n"
     ]
    },
    {
     "name": "stdout",
     "output_type": "stream",
     "text": [
      "113 (67, 2293, 541, 293)\n"
     ]
    },
    {
     "name": "stdout",
     "output_type": "stream",
     "text": [
      "137 (197, 503, 677, 6317)\n"
     ]
    },
    {
     "name": "stdout",
     "output_type": "stream",
     "text": [
      "149 (311, 2713, 1237, 499)\n"
     ]
    },
    {
     "name": "stdout",
     "output_type": "stream",
     "text": [
      "157 (1229, 6661, 1601, 439)\n"
     ]
    },
    {
     "name": "stdout",
     "output_type": "stream",
     "text": [
      "173 (11, 29, 113, 757)\n"
     ]
    },
    {
     "name": "stdout",
     "output_type": "stream",
     "text": [
      "181 (463, 317, 2273, 13217)\n"
     ]
    },
    {
     "name": "stdout",
     "output_type": "stream",
     "text": [
      "193 (673, 5881, 3607, 4483)\n"
     ]
    },
    {
     "name": "stdout",
     "output_type": "stream",
     "text": [
      "197 (389, 3217, 683, 23)\n"
     ]
    }
   ],
   "source": [
    "P=Primes()\n",
    "p = 100\n",
    "n=10**5\n",
    "while p < 200: \n",
    "    if p % 4 ==1:\n",
    "        f =fekete(p)\n",
    "        print(p, quadruple(f,n))\n",
    "    p = P.next(p)"
   ]
  },
  {
   "cell_type": "code",
   "execution_count": 6,
   "metadata": {
    "collapsed": false
   },
   "outputs": [
    {
     "name": "stdout",
     "output_type": "stream",
     "text": [
      "229 (2089, 12163, 1103, 4177)\n"
     ]
    },
    {
     "name": "stdout",
     "output_type": "stream",
     "text": [
      "233 (251, 3929, 3919, 1013)\n"
     ]
    },
    {
     "name": "stdout",
     "output_type": "stream",
     "text": [
      "241 (61, 8627, 499, 227)\n"
     ]
    },
    {
     "name": "stdout",
     "output_type": "stream",
     "text": [
      "257 (229, 2083, 2971, 3319)\n"
     ]
    },
    {
     "name": "stdout",
     "output_type": "stream",
     "text": [
      "269 (271, 6199, 971, 997)\n"
     ]
    },
    {
     "name": "stdout",
     "output_type": "stream",
     "text": [
      "277 (1399, 1759, 1109, 9241)\n"
     ]
    },
    {
     "name": "stdout",
     "output_type": "stream",
     "text": [
      "281 (3019, 3673, 653, 2957)\n"
     ]
    },
    {
     "name": "stdout",
     "output_type": "stream",
     "text": [
      "293 (1367, 5449, 2677, 11897)\n"
     ]
    }
   ],
   "source": [
    "P=Primes()\n",
    "p = 200\n",
    "n=10**5\n",
    "while p < 300: \n",
    "    if p % 4 ==1:\n",
    "        f =fekete(p)\n",
    "        print(p, quadruple(f,n))\n",
    "    p = P.next(p)"
   ]
  },
  {
   "cell_type": "code",
   "execution_count": 7,
   "metadata": {
    "collapsed": false
   },
   "outputs": [
    {
     "name": "stdout",
     "output_type": "stream",
     "text": [
      "313 (541, 3491, 13, 4649)\n"
     ]
    },
    {
     "name": "stdout",
     "output_type": "stream",
     "text": [
      "317 (2417, 7247, 2099, 821)\n"
     ]
    },
    {
     "name": "stdout",
     "output_type": "stream",
     "text": [
      "337 (739, 1481, 12119, 2377)\n"
     ]
    },
    {
     "name": "stdout",
     "output_type": "stream",
     "text": [
      "349 (433, 21871, 977, 11777)\n"
     ]
    },
    {
     "name": "stdout",
     "output_type": "stream",
     "text": [
      "353 (977, 3343, 163, 877)\n"
     ]
    },
    {
     "name": "stdout",
     "output_type": "stream",
     "text": [
      "373 (4261, 953, 3697, 241)\n"
     ]
    },
    {
     "name": "stdout",
     "output_type": "stream",
     "text": [
      "389 (3229, 1913, 1117, 7723)\n"
     ]
    },
    {
     "name": "stdout",
     "output_type": "stream",
     "text": [
      "397 (677, 6299, 2731, 97)\n"
     ]
    }
   ],
   "source": [
    "P=Primes()\n",
    "p = 300\n",
    "n=10**5\n",
    "while p < 400: \n",
    "    if p % 4 ==1:\n",
    "        f =fekete(p)\n",
    "        print(p, quadruple(f,n))\n",
    "    p = P.next(p)"
   ]
  },
  {
   "cell_type": "code",
   "execution_count": 8,
   "metadata": {
    "collapsed": false
   },
   "outputs": [
    {
     "name": "stdout",
     "output_type": "stream",
     "text": [
      "401 (773, 293, 5009, 3319)\n"
     ]
    },
    {
     "name": "stdout",
     "output_type": "stream",
     "text": [
      "409 (11, 3571, 2357, 15671)\n"
     ]
    },
    {
     "name": "stdout",
     "output_type": "stream",
     "text": [
      "421 (29, 15053, 653, 9839)\n"
     ]
    },
    {
     "name": "stdout",
     "output_type": "stream",
     "text": [
      "433 (11549, 3373, 751, 9829)\n"
     ]
    },
    {
     "name": "stdout",
     "output_type": "stream",
     "text": [
      "449 (937, 2111, 8081, 9479)\n"
     ]
    },
    {
     "name": "stdout",
     "output_type": "stream",
     "text": [
      "457 (1663, 6089, 593, 3581)\n"
     ]
    },
    {
     "name": "stdout",
     "output_type": "stream",
     "text": [
      "461 (1783, 1201, 1559, 7369)\n"
     ]
    }
   ],
   "source": [
    "P=Primes()\n",
    "p = 400\n",
    "n=10**5\n",
    "while p < 500: \n",
    "    if p % 4 ==1:\n",
    "        f =fekete(p)\n",
    "        print(p, quadruple(f,n))\n",
    "    p = P.next(p)"
   ]
  },
  {
   "cell_type": "code",
   "execution_count": 3,
   "metadata": {
    "collapsed": false
   },
   "outputs": [
    {
     "name": "stdout",
     "output_type": "stream",
     "text": [
      "509 (3343, 9349, 733, 8693)\n"
     ]
    },
    {
     "name": "stdout",
     "output_type": "stream",
     "text": [
      "521 (5387, 1543, 4793, 1117)\n"
     ]
    },
    {
     "name": "stdout",
     "output_type": "stream",
     "text": [
      "541 (167, 1667, 2437, 2903)\n"
     ]
    }
   ],
   "source": [
    "P=Primes()\n",
    "p = 500\n",
    "n=10**5\n",
    "while p < 600: \n",
    "    if p % 4 ==1:\n",
    "        f =fekete(p)\n",
    "        print(p, quadruple(f,n))\n",
    "    p = P.next(p)"
   ]
  },
  {
   "cell_type": "code",
   "execution_count": 4,
   "metadata": {
    "collapsed": false
   },
   "outputs": [
    {
     "name": "stdout",
     "output_type": "stream",
     "text": [
      "557 (7129, 27647, 8629, 6029)\n"
     ]
    },
    {
     "name": "stdout",
     "output_type": "stream",
     "text": [
      "569 (79, 953, 4933, 15107)\n"
     ]
    },
    {
     "name": "stdout",
     "output_type": "stream",
     "text": [
      "577 (1187, 6653, 5479, 3049)\n"
     ]
    }
   ],
   "source": [
    "P=Primes()\n",
    "p = 542\n",
    "n=10**5\n",
    "while p < 600: \n",
    "    if p % 4 ==1:\n",
    "        f =fekete(p)\n",
    "        print(p, quadruple(f,n))\n",
    "    p = P.next(p)"
   ]
  },
  {
   "cell_type": "code",
   "execution_count": 3,
   "metadata": {
    "collapsed": false
   },
   "outputs": [
    {
     "name": "stdout",
     "output_type": "stream",
     "text": [
      "593 (12671, 757, 1433, 5281)\n"
     ]
    }
   ],
   "source": [
    "P=Primes()\n",
    "p = 578\n",
    "n=10**5\n",
    "while p < 600: \n",
    "    if p % 4 ==1:\n",
    "        f =fekete(p)\n",
    "        print(p, quadruple(f,n))\n",
    "    p = P.next(p)"
   ]
  },
  {
   "cell_type": "markdown",
   "metadata": {
    "collapsed": false
   },
   "source": [
    "## The Galois group of $g_{\\Delta}(x)$"
   ]
  },
  {
   "cell_type": "code",
   "execution_count": 5,
   "metadata": {
    "collapsed": false
   },
   "outputs": [
    {
     "name": "stdout",
     "output_type": "stream",
     "text": [
      "13 [5, 2, 59]\n",
      "17 [5, 13, 23]\n",
      "29 [163, 83, 37]\n",
      "37 [191, 193, 13]\n",
      "41 [23, 109, 59]\n",
      "53 [37, 5, 17]\n"
     ]
    },
    {
     "name": "stdout",
     "output_type": "stream",
     "text": [
      "61 [197, 199, 13]\n",
      "73 [337, 167, 79]\n",
      "89 [337, 11, 5]\n"
     ]
    },
    {
     "name": "stdout",
     "output_type": "stream",
     "text": [
      "97 [31, 443, 61]\n",
      "101 [283, 151, 103]\n"
     ]
    },
    {
     "name": "stdout",
     "output_type": "stream",
     "text": [
      "109 [59, 683, 71]\n",
      "113 [67, 431, 3]\n",
      "137 [167, 7, 59]\n"
     ]
    },
    {
     "name": "stdout",
     "output_type": "stream",
     "text": [
      "149 [311, 157, 19]\n"
     ]
    },
    {
     "name": "stdout",
     "output_type": "stream",
     "text": [
      "157 [193, 859, 41]\n",
      "173 [11, 29, 109]\n"
     ]
    },
    {
     "name": "stdout",
     "output_type": "stream",
     "text": [
      "181 [373, 223, 29]\n"
     ]
    },
    {
     "name": "stdout",
     "output_type": "stream",
     "text": [
      "193 [673, 151, 29]\n",
      "197 [389, 59, 17]\n"
     ]
    }
   ],
   "source": [
    "P=Primes()\n",
    "p = 13\n",
    "n=10**5\n",
    "while p < 200: \n",
    "    if p % 4 ==1:\n",
    "        g =reduced_fekete(p)\n",
    "        print(p, triple(g ,n))\n",
    "    p = P.next(p)  "
   ]
  },
  {
   "cell_type": "code",
   "execution_count": 6,
   "metadata": {
    "collapsed": false
   },
   "outputs": [
    {
     "name": "stdout",
     "output_type": "stream",
     "text": [
      "229 [1433, 67, 283]\n"
     ]
    },
    {
     "name": "stdout",
     "output_type": "stream",
     "text": [
      "233 [163, 101, 563]\n"
     ]
    },
    {
     "name": "stdout",
     "output_type": "stream",
     "text": [
      "241 [61, 421, 59]\n"
     ]
    },
    {
     "name": "stdout",
     "output_type": "stream",
     "text": [
      "257 [229, 929, 37]\n"
     ]
    },
    {
     "name": "stdout",
     "output_type": "stream",
     "text": [
      "269 [181, 971, 163]\n"
     ]
    },
    {
     "name": "stdout",
     "output_type": "stream",
     "text": [
      "277 [1399, 1759, 139]\n"
     ]
    },
    {
     "name": "stdout",
     "output_type": "stream",
     "text": [
      "281 [269, 337, 31]\n"
     ]
    },
    {
     "name": "stdout",
     "output_type": "stream",
     "text": [
      "293 [1367, 541, 41]\n"
     ]
    },
    {
     "name": "stdout",
     "output_type": "stream",
     "text": [
      "313 [541, 2621, 151]\n"
     ]
    },
    {
     "name": "stdout",
     "output_type": "stream",
     "text": [
      "317 [2417, 113, 107]\n"
     ]
    },
    {
     "name": "stdout",
     "output_type": "stream",
     "text": [
      "337 [739, 89, 887]\n"
     ]
    },
    {
     "name": "stdout",
     "output_type": "stream",
     "text": [
      "349 [433, 6011, 113]\n"
     ]
    },
    {
     "name": "stdout",
     "output_type": "stream",
     "text": [
      "353 [797, 2609, 23]\n"
     ]
    },
    {
     "name": "stdout",
     "output_type": "stream",
     "text": [
      "373 [4261, 953, 3]\n"
     ]
    },
    {
     "name": "stdout",
     "output_type": "stream",
     "text": [
      "389 [3, 241, 79]\n"
     ]
    },
    {
     "name": "stdout",
     "output_type": "stream",
     "text": [
      "397 [677, 1801, 41]\n"
     ]
    },
    {
     "name": "stdout",
     "output_type": "stream",
     "text": [
      "401 [47, 293, 59]\n"
     ]
    },
    {
     "name": "stdout",
     "output_type": "stream",
     "text": [
      "409 [11, 457, 191]\n"
     ]
    },
    {
     "name": "stdout",
     "output_type": "stream",
     "text": [
      "421 [29, 103, 37]\n"
     ]
    },
    {
     "name": "stdout",
     "output_type": "stream",
     "text": [
      "433 [397, 2687, 307]\n"
     ]
    },
    {
     "name": "stdout",
     "output_type": "stream",
     "text": [
      "449 [937, 419, 13]\n"
     ]
    },
    {
     "name": "stdout",
     "output_type": "stream",
     "text": [
      "457 [353, 1151, 1433]\n"
     ]
    },
    {
     "name": "stdout",
     "output_type": "stream",
     "text": [
      "461 [443, 1201, 17]\n"
     ]
    }
   ],
   "source": [
    "P=Primes()\n",
    "p = 200\n",
    "n=10**5\n",
    "while p < 500: \n",
    "    if p % 4 ==1:\n",
    "        g =reduced_fekete(p)\n",
    "        print(p, triple(g ,n))\n",
    "    p = P.next(p) "
   ]
  },
  {
   "cell_type": "code",
   "execution_count": 10,
   "metadata": {
    "collapsed": false
   },
   "outputs": [
    {
     "name": "stdout",
     "output_type": "stream",
     "text": [
      "509 [2549, 3257, 193]\n"
     ]
    },
    {
     "name": "stdout",
     "output_type": "stream",
     "text": [
      "521 [1373, 1543, 193]\n"
     ]
    },
    {
     "name": "stdout",
     "output_type": "stream",
     "text": [
      "541 [167, 601, 313]\n"
     ]
    },
    {
     "name": "stdout",
     "output_type": "stream",
     "text": [
      "557 [173, 1049, 479]\n"
     ]
    },
    {
     "name": "stdout",
     "output_type": "stream",
     "text": [
      "569 [79, 953, 797]\n"
     ]
    },
    {
     "name": "stdout",
     "output_type": "stream",
     "text": [
      "577 [1187, 2161, 79]\n"
     ]
    },
    {
     "name": "stdout",
     "output_type": "stream",
     "text": [
      "593 [2711, 757, 53]\n"
     ]
    },
    {
     "name": "stdout",
     "output_type": "stream",
     "text": [
      "601 [9439, 1223, 233]\n"
     ]
    },
    {
     "name": "stdout",
     "output_type": "stream",
     "text": [
      "613 [1289, 2381, 113]\n"
     ]
    },
    {
     "name": "stdout",
     "output_type": "stream",
     "text": [
      "617 [2099, 593, 181]\n"
     ]
    },
    {
     "name": "stdout",
     "output_type": "stream",
     "text": [
      "641 [11, 5087, 83]\n"
     ]
    },
    {
     "name": "stdout",
     "output_type": "stream",
     "text": [
      "653 [383, 409, 467]\n"
     ]
    },
    {
     "name": "stdout",
     "output_type": "stream",
     "text": [
      "661 [5147, 53, 223]\n"
     ]
    },
    {
     "name": "stdout",
     "output_type": "stream",
     "text": [
      "673 [1163, 467, 41]\n"
     ]
    },
    {
     "name": "stdout",
     "output_type": "stream",
     "text": [
      "677 [439, 251, 97]\n"
     ]
    },
    {
     "name": "stdout",
     "output_type": "stream",
     "text": [
      "701 [3607, 5101, 383]\n"
     ]
    },
    {
     "name": "stdout",
     "output_type": "stream",
     "text": [
      "709 [5813, 5153, 97]\n"
     ]
    },
    {
     "name": "stdout",
     "output_type": "stream",
     "text": [
      "733 [449, 829, 13]\n"
     ]
    },
    {
     "name": "stdout",
     "output_type": "stream",
     "text": [
      "757 [1367, 503, 283]\n"
     ]
    },
    {
     "name": "stdout",
     "output_type": "stream",
     "text": [
      "761 [3613, 2699, 43]\n"
     ]
    },
    {
     "name": "stdout",
     "output_type": "stream",
     "text": [
      "769 [1783, 631, 103]\n"
     ]
    },
    {
     "name": "stdout",
     "output_type": "stream",
     "text": [
      "773 [7459, 4493, 461]\n"
     ]
    },
    {
     "name": "stdout",
     "output_type": "stream",
     "text": [
      "797 [353, 1667, 113]\n"
     ]
    },
    {
     "name": "stdout",
     "output_type": "stream",
     "text": [
      "809 [1213, 1297, 53]\n"
     ]
    },
    {
     "name": "stdout",
     "output_type": "stream",
     "text": [
      "821 [11027, 1229, 479]\n"
     ]
    },
    {
     "name": "stdout",
     "output_type": "stream",
     "text": [
      "829 [5231, 3889, 433]\n"
     ]
    },
    {
     "name": "stdout",
     "output_type": "stream",
     "text": [
      "853 [653, 401, 31]\n"
     ]
    },
    {
     "name": "stdout",
     "output_type": "stream",
     "text": [
      "857 [1553, 97, 79]\n"
     ]
    },
    {
     "name": "stdout",
     "output_type": "stream",
     "text": [
      "877 [1009, 919, 23]\n"
     ]
    },
    {
     "name": "stdout",
     "output_type": "stream",
     "text": [
      "881 [433, 37, 29]\n"
     ]
    },
    {
     "name": "stdout",
     "output_type": "stream",
     "text": [
      "929 [53, 8863, 71]\n"
     ]
    },
    {
     "name": "stdout",
     "output_type": "stream",
     "text": [
      "937 [653, 1409, 113]\n"
     ]
    },
    {
     "name": "stdout",
     "output_type": "stream",
     "text": [
      "941 [6173, 2551, 431]\n"
     ]
    },
    {
     "name": "stdout",
     "output_type": "stream",
     "text": [
      "953 [4967, 2099, 47]\n"
     ]
    },
    {
     "name": "stdout",
     "output_type": "stream",
     "text": [
      "977 [2153, 6899, 277]\n"
     ]
    },
    {
     "name": "stdout",
     "output_type": "stream",
     "text": [
      "997 [577, 73, 683]\n",
      "CPU times: user 10min 49s, sys: 2.17 s, total: 10min 51s\n",
      "Wall time: 11min 6s\n"
     ]
    }
   ],
   "source": [
    "%%time\n",
    "P=Primes()\n",
    "p = 500\n",
    "n=10**5\n",
    "while p < 1000: \n",
    "    if p % 4 ==1:\n",
    "        g =reduced_fekete(p)\n",
    "        print(p, triple(g ,n))\n",
    "    p = P.next(p) \n",
    "%timeit    "
   ]
  },
  {
   "cell_type": "code",
   "execution_count": 11,
   "metadata": {
    "collapsed": false
   },
   "outputs": [
    {
     "name": "stdout",
     "output_type": "stream",
     "text": [
      "1009 [8209, 11887, 43]\n"
     ]
    },
    {
     "name": "stdout",
     "output_type": "stream",
     "text": [
      "1013 [139, 2699, 17]\n"
     ]
    },
    {
     "name": "stdout",
     "output_type": "stream",
     "text": [
      "1021 [1627, 2269, 433]\n"
     ]
    },
    {
     "name": "stdout",
     "output_type": "stream",
     "text": [
      "1033 [8513, 10937, 229]\n"
     ]
    },
    {
     "name": "stdout",
     "output_type": "stream",
     "text": [
      "1049 [3083, 521, 337]\n"
     ]
    },
    {
     "name": "stdout",
     "output_type": "stream",
     "text": [
      "1061 [3697, 929, 587]\n"
     ]
    },
    {
     "name": "stdout",
     "output_type": "stream",
     "text": [
      "1069 [3371, 2477, 997]\n"
     ]
    },
    {
     "name": "stdout",
     "output_type": "stream",
     "text": [
      "1093 [1213, 4493, 11]\n"
     ]
    },
    {
     "name": "stdout",
     "output_type": "stream",
     "text": [
      "1097 [211, 1153, 47]\n"
     ]
    },
    {
     "name": "stdout",
     "output_type": "stream",
     "text": [
      "1109 [5323, 1933, 157]\n"
     ]
    },
    {
     "name": "stdout",
     "output_type": "stream",
     "text": [
      "1117 [661, 5657, 277]\n"
     ]
    },
    {
     "name": "stdout",
     "output_type": "stream",
     "text": [
      "1129 [947, 6089, 241]\n"
     ]
    },
    {
     "name": "stdout",
     "output_type": "stream",
     "text": [
      "1153 [16087, 5791, 353]\n"
     ]
    },
    {
     "name": "stdout",
     "output_type": "stream",
     "text": [
      "1181 [6311, 67, 107]\n"
     ]
    },
    {
     "name": "stdout",
     "output_type": "stream",
     "text": [
      "1193 [2293, 1721, 641]\n"
     ]
    },
    {
     "name": "stdout",
     "output_type": "stream",
     "text": [
      "1201 [233, 2411, 499]\n"
     ]
    },
    {
     "name": "stdout",
     "output_type": "stream",
     "text": [
      "1213 [2477, 3251, 101]\n"
     ]
    },
    {
     "name": "stdout",
     "output_type": "stream",
     "text": [
      "1217 [11399, 1231, 83]\n"
     ]
    },
    {
     "name": "stdout",
     "output_type": "stream",
     "text": [
      "1229 [1999, 4909, 79]\n"
     ]
    },
    {
     "name": "stdout",
     "output_type": "stream",
     "text": [
      "1237 [13177, 1063, 1511]\n"
     ]
    },
    {
     "name": "stdout",
     "output_type": "stream",
     "text": [
      "1249 [1693, 1019, 5]\n"
     ]
    },
    {
     "name": "stdout",
     "output_type": "stream",
     "text": [
      "1277 [821, 9293, 613]\n"
     ]
    },
    {
     "name": "stdout",
     "output_type": "stream",
     "text": [
      "1289 [2017, 5573, 307]\n"
     ]
    },
    {
     "name": "stdout",
     "output_type": "stream",
     "text": [
      "1297 [797, 6691, 977]\n"
     ]
    },
    {
     "name": "stdout",
     "output_type": "stream",
     "text": [
      "1301 [9041, 5179, 151]\n"
     ]
    },
    {
     "name": "stdout",
     "output_type": "stream",
     "text": [
      "1321 [193, 373, 47]\n"
     ]
    },
    {
     "name": "stdout",
     "output_type": "stream",
     "text": [
      "1361 [13337, 3923, 131]\n"
     ]
    },
    {
     "name": "stdout",
     "output_type": "stream",
     "text": [
      "1373 [19139, 21751, 1033]\n"
     ]
    },
    {
     "name": "stdout",
     "output_type": "stream",
     "text": [
      "1381 [29251, 1759, 107]\n"
     ]
    },
    {
     "name": "stdout",
     "output_type": "stream",
     "text": [
      "1409 [1597, 4079, 1481]\n"
     ]
    },
    {
     "name": "stdout",
     "output_type": "stream",
     "text": [
      "1429 [79, 5849, 1439]\n"
     ]
    },
    {
     "name": "stdout",
     "output_type": "stream",
     "text": [
      "1433 [233, 5881, 5]\n"
     ]
    },
    {
     "name": "stdout",
     "output_type": "stream",
     "text": [
      "1453 [3671, 307, 467]\n"
     ]
    },
    {
     "name": "stdout",
     "output_type": "stream",
     "text": [
      "1481 [929, 14737, 269]\n"
     ]
    },
    {
     "name": "stdout",
     "output_type": "stream",
     "text": [
      "1489 [18329, 1861, 239]\n"
     ]
    },
    {
     "name": "stdout",
     "output_type": "stream",
     "text": [
      "1493 [59, 2617, 1093]\n",
      "CPU times: user 1h 6min 34s, sys: 7.35 s, total: 1h 6min 41s\n",
      "Wall time: 1h 9min 30s\n"
     ]
    }
   ],
   "source": [
    "%%time\n",
    "P=Primes()\n",
    "p = 1000\n",
    "n=10**5\n",
    "while p < 1500: \n",
    "    if p % 4 ==1:\n",
    "        g =reduced_fekete(p)\n",
    "        print(p, triple(g ,n))\n",
    "    p = P.next(p) \n",
    "%timeit   "
   ]
  },
  {
   "cell_type": "markdown",
   "metadata": {
    "collapsed": false
   },
   "source": [
    "## Two cycle in the Galois group of $f_{\\Delta}$"
   ]
  },
  {
   "cell_type": "code",
   "execution_count": 19,
   "metadata": {
    "collapsed": false
   },
   "outputs": [
    {
     "name": "stdout",
     "output_type": "stream",
     "text": [
      "[13, 2]\n",
      "[17, 79]\n",
      "[29, 269]\n",
      "[37, 461]\n",
      "[41, 151]\n",
      "[53, 5]\n"
     ]
    },
    {
     "name": "stdout",
     "output_type": "stream",
     "text": [
      "[61, 919]\n"
     ]
    },
    {
     "name": "stdout",
     "output_type": "stream",
     "text": [
      "[73, 557]\n"
     ]
    },
    {
     "name": "stdout",
     "output_type": "stream",
     "text": [
      "[89, 1021]\n"
     ]
    },
    {
     "name": "stdout",
     "output_type": "stream",
     "text": [
      "[97, 3407]\n"
     ]
    },
    {
     "name": "stdout",
     "output_type": "stream",
     "text": [
      "[101, 691]\n",
      "CPU times: user 3.92 s, sys: 22.6 ms, total: 3.94 s\n",
      "Wall time: 4.38 s\n"
     ]
    }
   ],
   "source": [
    "%%time\n",
    "P=Primes()\n",
    "p = 5\n",
    "n=10**5\n",
    "while p < 100: \n",
    "    p = P.next(p)\n",
    "    if p % 4 ==1:\n",
    "        f = fekete(p)\n",
    "        print([p, two_cycle(f ,n)])\n",
    " "
   ]
  },
  {
   "cell_type": "code",
   "execution_count": 20,
   "metadata": {
    "collapsed": false
   },
   "outputs": [
    {
     "name": "stdout",
     "output_type": "stream",
     "text": [
      "[101, 691]\n",
      "[109, 101]\n"
     ]
    },
    {
     "name": "stdout",
     "output_type": "stream",
     "text": [
      "[113, 541]\n"
     ]
    },
    {
     "name": "stdout",
     "output_type": "stream",
     "text": [
      "[137, 677]\n"
     ]
    },
    {
     "name": "stdout",
     "output_type": "stream",
     "text": [
      "[149, 1237]\n"
     ]
    },
    {
     "name": "stdout",
     "output_type": "stream",
     "text": [
      "[157, 1601]\n",
      "[173, 113]\n"
     ]
    },
    {
     "name": "stdout",
     "output_type": "stream",
     "text": [
      "[181, 2273]\n"
     ]
    },
    {
     "name": "stdout",
     "output_type": "stream",
     "text": [
      "[193, 3607]\n"
     ]
    },
    {
     "name": "stdout",
     "output_type": "stream",
     "text": [
      "[197, 683]\n",
      "CPU times: user 21.7 s, sys: 55.4 ms, total: 21.8 s\n",
      "Wall time: 22.8 s\n"
     ]
    }
   ],
   "source": [
    "%%time\n",
    "P=Primes()\n",
    "p = 100\n",
    "n=10**5\n",
    "while p < 200: \n",
    "    p = P.next(p)\n",
    "    if p % 4 ==1:\n",
    "        f = fekete(p)\n",
    "        print([p, two_cycle(f ,n)])"
   ]
  },
  {
   "cell_type": "code",
   "execution_count": 21,
   "metadata": {
    "collapsed": false
   },
   "outputs": [
    {
     "name": "stdout",
     "output_type": "stream",
     "text": [
      "[229, 1103]\n"
     ]
    },
    {
     "name": "stdout",
     "output_type": "stream",
     "text": [
      "[233, 3919]\n"
     ]
    },
    {
     "name": "stdout",
     "output_type": "stream",
     "text": [
      "[241, 499]\n"
     ]
    },
    {
     "name": "stdout",
     "output_type": "stream",
     "text": [
      "[257, 2971]\n"
     ]
    },
    {
     "name": "stdout",
     "output_type": "stream",
     "text": [
      "[269, 971]\n"
     ]
    },
    {
     "name": "stdout",
     "output_type": "stream",
     "text": [
      "[277, 1109]\n"
     ]
    },
    {
     "name": "stdout",
     "output_type": "stream",
     "text": [
      "[281, 653]\n"
     ]
    },
    {
     "name": "stdout",
     "output_type": "stream",
     "text": [
      "[293, 2677]\n",
      "CPU times: user 1min 5s, sys: 87.1 ms, total: 1min 5s\n",
      "Wall time: 1min 7s\n"
     ]
    }
   ],
   "source": [
    "%%time\n",
    "P=Primes()\n",
    "p = 200\n",
    "n=10**5\n",
    "while p < 300: \n",
    "    p = P.next(p)\n",
    "    if p % 4 ==1:\n",
    "        f = fekete(p)\n",
    "        print([p, two_cycle(f ,n)])"
   ]
  },
  {
   "cell_type": "code",
   "execution_count": 22,
   "metadata": {
    "collapsed": false
   },
   "outputs": [
    {
     "name": "stdout",
     "output_type": "stream",
     "text": [
      "[313, 13]\n"
     ]
    },
    {
     "name": "stdout",
     "output_type": "stream",
     "text": [
      "[317, 2099]\n"
     ]
    },
    {
     "name": "stdout",
     "output_type": "stream",
     "text": [
      "[337, 12119]\n"
     ]
    },
    {
     "name": "stdout",
     "output_type": "stream",
     "text": [
      "[349, 977]\n"
     ]
    },
    {
     "name": "stdout",
     "output_type": "stream",
     "text": [
      "[353, 163]\n"
     ]
    },
    {
     "name": "stdout",
     "output_type": "stream",
     "text": [
      "[373, 3697]\n"
     ]
    },
    {
     "name": "stdout",
     "output_type": "stream",
     "text": [
      "[389, 1117]\n"
     ]
    },
    {
     "name": "stdout",
     "output_type": "stream",
     "text": [
      "[397, 2731]\n"
     ]
    },
    {
     "name": "stdout",
     "output_type": "stream",
     "text": [
      "[401, 5009]\n"
     ]
    },
    {
     "name": "stdout",
     "output_type": "stream",
     "text": [
      "[409, 2357]\n"
     ]
    },
    {
     "name": "stdout",
     "output_type": "stream",
     "text": [
      "[421, 653]\n"
     ]
    },
    {
     "name": "stdout",
     "output_type": "stream",
     "text": [
      "[433, 751]\n"
     ]
    },
    {
     "name": "stdout",
     "output_type": "stream",
     "text": [
      "[449, 8081]\n"
     ]
    },
    {
     "name": "stdout",
     "output_type": "stream",
     "text": [
      "[457, 593]\n"
     ]
    },
    {
     "name": "stdout",
     "output_type": "stream",
     "text": [
      "[461, 1559]\n",
      "CPU times: user 8min 32s, sys: 608 ms, total: 8min 32s\n",
      "Wall time: 8min 55s\n"
     ]
    }
   ],
   "source": [
    "%%time\n",
    "P=Primes()\n",
    "p = 300\n",
    "n=10**5\n",
    "while p < 500: \n",
    "    p = P.next(p)\n",
    "    if p % 4 ==1:\n",
    "        f = fekete(p)\n",
    "        print([p, two_cycle(f ,n)])"
   ]
  },
  {
   "cell_type": "code",
   "execution_count": 23,
   "metadata": {
    "collapsed": false
   },
   "outputs": [
    {
     "name": "stdout",
     "output_type": "stream",
     "text": [
      "[509, 733]\n"
     ]
    },
    {
     "name": "stdout",
     "output_type": "stream",
     "text": [
      "[521, 4793]\n"
     ]
    },
    {
     "name": "stdout",
     "output_type": "stream",
     "text": [
      "[541, 2437]\n"
     ]
    },
    {
     "name": "stdout",
     "output_type": "stream",
     "text": [
      "[557, 8629]\n"
     ]
    },
    {
     "name": "stdout",
     "output_type": "stream",
     "text": [
      "[569, 4933]\n"
     ]
    },
    {
     "name": "stdout",
     "output_type": "stream",
     "text": [
      "[577, 5479]\n"
     ]
    },
    {
     "name": "stdout",
     "output_type": "stream",
     "text": [
      "[593, 1433]\n",
      "[601, 3]\n",
      "CPU times: user 12min 21s, sys: 1.26 s, total: 12min 22s\n",
      "Wall time: 12min 57s\n"
     ]
    }
   ],
   "source": [
    "%%time\n",
    "P=Primes()\n",
    "p = 500\n",
    "n=10**5\n",
    "while p < 600: \n",
    "    p = P.next(p)\n",
    "    if p % 4 ==1:\n",
    "        f = fekete(p)\n",
    "        print([p, two_cycle(f ,n)])"
   ]
  },
  {
   "cell_type": "code",
   "execution_count": 28,
   "metadata": {
    "collapsed": false
   },
   "outputs": [
    {
     "name": "stdout",
     "output_type": "stream",
     "text": [
      "[601, 3]\n"
     ]
    },
    {
     "name": "stdout",
     "output_type": "stream",
     "text": [
      "[613, 2381]\n"
     ]
    },
    {
     "name": "stdout",
     "output_type": "stream",
     "text": [
      "[617, 821]\n"
     ]
    },
    {
     "name": "stdout",
     "output_type": "stream",
     "text": [
      "[641, 7877]\n"
     ]
    },
    {
     "name": "stdout",
     "output_type": "stream",
     "text": [
      "[653, 7951]\n"
     ]
    },
    {
     "name": "stdout",
     "output_type": "stream",
     "text": [
      "[661, 311]\n"
     ]
    },
    {
     "name": "stdout",
     "output_type": "stream",
     "text": [
      "[673, 4817]\n"
     ]
    },
    {
     "name": "stdout",
     "output_type": "stream",
     "text": [
      "[677, 569]\n"
     ]
    },
    {
     "name": "stdout",
     "output_type": "stream",
     "text": [
      "[701, 563]\n"
     ]
    },
    {
     "name": "stdout",
     "output_type": "stream",
     "text": [
      "[709, 3511]\n"
     ]
    }
   ],
   "source": [
    "%%time\n",
    "P=Primes()\n",
    "p = 600\n",
    "n=10**5\n",
    "while p < 800: \n",
    "    p = P.next(p)\n",
    "    if p % 4 ==1:\n",
    "        f = fekete(p)\n",
    "        print([p, two_cycle(f ,n)])"
   ]
  },
  {
   "cell_type": "code",
   "execution_count": 3,
   "metadata": {
    "collapsed": false
   },
   "outputs": [
    {
     "name": "stdout",
     "output_type": "stream",
     "text": [
      "[733, 7753]\n"
     ]
    },
    {
     "name": "stdout",
     "output_type": "stream",
     "text": [
      "[757, 1231]\n"
     ]
    },
    {
     "name": "stdout",
     "output_type": "stream",
     "text": [
      "[761, 2797]\n"
     ]
    }
   ],
   "source": [
    "%%time\n",
    "P=Primes()\n",
    "p = 709\n",
    "n=10**5\n",
    "while p < 800: \n",
    "    p = P.next(p)\n",
    "    if p % 4 ==1:\n",
    "        f = fekete(p)\n",
    "        print([p, two_cycle(f ,n)])"
   ]
  },
  {
   "cell_type": "code",
   "execution_count": 3,
   "metadata": {
    "collapsed": false
   },
   "outputs": [
    {
     "name": "stdout",
     "output_type": "stream",
     "text": [
      "[769, 1723]\n"
     ]
    },
    {
     "name": "stdout",
     "output_type": "stream",
     "text": [
      "[773, 5323]\n"
     ]
    },
    {
     "name": "stdout",
     "output_type": "stream",
     "text": [
      "[797, 1667]\n"
     ]
    },
    {
     "name": "stdout",
     "output_type": "stream",
     "text": [
      "[809, 2287]\n",
      "CPU times: user 10min 4s, sys: 451 ms, total: 10min 4s\n",
      "Wall time: 10min 28s\n"
     ]
    }
   ],
   "source": [
    "%%time\n",
    "P=Primes()\n",
    "p = 761\n",
    "n=10**5\n",
    "while p < 800: \n",
    "    p = P.next(p)\n",
    "    if p % 4 ==1:\n",
    "        f = fekete(p)\n",
    "        print([p, two_cycle(f ,n)])"
   ]
  },
  {
   "cell_type": "code",
   "execution_count": 4,
   "metadata": {
    "collapsed": false
   },
   "outputs": [
    {
     "name": "stdout",
     "output_type": "stream",
     "text": [
      "[821, 1229]\n"
     ]
    },
    {
     "name": "stdout",
     "output_type": "stream",
     "text": [
      "[829, 24007]\n"
     ]
    },
    {
     "name": "stdout",
     "output_type": "stream",
     "text": [
      "[853, 3061]\n"
     ]
    },
    {
     "name": "stdout",
     "output_type": "stream",
     "text": [
      "[857, 3623]\n"
     ]
    },
    {
     "name": "stdout",
     "output_type": "stream",
     "text": [
      "[877, 3559]\n"
     ]
    },
    {
     "name": "stdout",
     "output_type": "stream",
     "text": [
      "[881, 1747]\n",
      "CPU times: user 43min 8s, sys: 1.95 s, total: 43min 10s\n",
      "Wall time: 44min 29s\n"
     ]
    }
   ],
   "source": [
    "%%time\n",
    "P=Primes()\n",
    "p = 809\n",
    "n=10**5\n",
    "while p < 900: \n",
    "    p = P.next(p)\n",
    "    if p % 4 ==1:\n",
    "        f = fekete(p)\n",
    "        print([p, two_cycle(f ,n)])"
   ]
  },
  {
   "cell_type": "code",
   "execution_count": 6,
   "metadata": {
    "collapsed": false
   },
   "outputs": [
    {
     "name": "stdout",
     "output_type": "stream",
     "text": [
      "[929, 3643]\n"
     ]
    },
    {
     "name": "stdout",
     "output_type": "stream",
     "text": [
      "[937, 199]\n"
     ]
    },
    {
     "name": "stdout",
     "output_type": "stream",
     "text": [
      "[941, 101]\n"
     ]
    },
    {
     "name": "stdout",
     "output_type": "stream",
     "text": [
      "[953, 173]\n"
     ]
    },
    {
     "name": "stdout",
     "output_type": "stream",
     "text": [
      "[977, 431]\n"
     ]
    },
    {
     "name": "stdout",
     "output_type": "stream",
     "text": [
      "[997, 2467]\n"
     ]
    },
    {
     "name": "stdout",
     "output_type": "stream",
     "text": [
      "[1009, 2957]\n",
      "CPU times: user 14min, sys: 663 ms, total: 14min 1s\n",
      "Wall time: 16min 44s\n"
     ]
    }
   ],
   "source": [
    "%%time\n",
    "P=Primes()\n",
    "p = 900\n",
    "n=10**5\n",
    "while p < 1000: \n",
    "    p = P.next(p)\n",
    "    if p % 4 ==1:\n",
    "        f = fekete(p)\n",
    "        print([p, two_cycle(f ,n)])"
   ]
  },
  {
   "cell_type": "code",
   "execution_count": 0,
   "metadata": {
    "collapsed": false
   },
   "outputs": [
   ],
   "source": [
   ]
  }
 ],
 "metadata": {
  "kernelspec": {
   "argv": [
    "sage-9.4",
    "--python",
    "-m",
    "sage.repl.ipython_kernel",
    "--matplotlib=inline",
    "-f",
    "{connection_file}"
   ],
   "display_name": "SageMath 9.4",
   "env": {
   },
   "language": "sagemath",
   "metadata": {
    "cocalc": {
     "description": "Open-source mathematical software system",
     "priority": 1,
     "url": "https://www.sagemath.org/"
    }
   },
   "name": "sage-9.4",
   "resource_dir": "/ext/jupyter/kernels/sage-9.4"
  },
  "language_info": {
   "codemirror_mode": {
    "name": "ipython",
    "version": 3
   },
   "file_extension": ".py",
   "mimetype": "text/x-python",
   "name": "python",
   "nbconvert_exporter": "python",
   "pygments_lexer": "ipython3",
   "version": "3.9.5"
  }
 },
 "nbformat": 4,
 "nbformat_minor": 4
}