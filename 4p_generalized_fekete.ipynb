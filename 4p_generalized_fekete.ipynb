{
 "cells": [
  {
   "cell_type": "code",
   "execution_count": 2,
   "metadata": {
    "collapsed": false
   },
   "outputs": [
   ],
   "source": [
    "R.<x> = PolynomialRing(ZZ)\n",
    "from sage.rings.polynomial.cyclotomic import cyclotomic_coeffs\n",
    "S = ZZ['x']\n"
   ]
  },
  {
   "cell_type": "code",
   "execution_count": 1,
   "metadata": {
    "collapsed": false
   },
   "outputs": [
   ],
   "source": [
    "def modified_fekete(p):\n",
    "    \"return the modified Fekete polynomial with Delta= 4p\" \n",
    "    D=4*p\n",
    "    Delta = 4*p \n",
    "    v=[kronecker(Delta, 2*a+1) for a in range(0,D/2)]\n",
    "    F_p=R(v)\n",
    "    return F_p\n",
    "\n",
    "        \n",
    "        \n",
    "def conjectural_fekete(p):\n",
    "    #compute the conjectural form of f_p(x)  \n",
    "    F_D=raw_fekete(d)\n",
    "    factor=F_D.factor()\n",
    "    factor=factor[-1][0]\n",
    "    w=factor.list()\n",
    "    w_1=w[::2]\n",
    "    f_D=R(w_1)\n",
    "    return f_D\n",
    "\n",
    "def fekete(p):\n",
    "    F_D= modified_fekete(p)\n",
    "    phi_1= S(cyclotomic_coeffs(1))\n",
    "    phi_p = S(cyclotomic_coeffs(p))\n",
    "    phi_2= S(cyclotomic_coeffs(2))\n",
    "    phi_6 = S(cyclotomic_coeffs(6))\n",
    "    if p % 8 ==3:\n",
    "        factor = (phi_1)**2 * phi_p * phi_2\n",
    "    if p % 8 == 7:\n",
    "        factor = (phi_1)**2 * phi_p * (phi_2)**3 * phi_6 \n",
    "    f,r =F_D.quo_rem(factor)    \n",
    "    return f     \n",
    "        \n",
    "    \n",
    "    \n",
    "    \n",
    "    \n",
    "def reduced_fekete(d):\n",
    "    f=fekete(d)\n",
    "    u=f.trace_polynomial()\n",
    "    g_D=u[0]\n",
    "    return g_D\n",
    "\n",
    "        \n",
    "\n",
    "    \n",
    "def fekete_reduction(f, q):\n",
    "    f=f.change_ring(GF(q))\n",
    "    return f.factor()\n",
    "\n",
    "\n",
    "def almost_cycle(f,n):\n",
    "    for q in range(n):\n",
    "        if is_prime(q): \n",
    "            factor=fekete_reduction(f,q)\n",
    "            if len(factor)==3: \n",
    "                factor1=factor[0][0]\n",
    "                factor2=factor[1][0]\n",
    "                degree1=factor1.degree()\n",
    "                degree2=factor2.degree()\n",
    "                if degree1==1 and degree2==1 and factor[0][1]==1 and factor[1][1]==1 and factor[2][1]==1: \n",
    "                    return q\n",
    "    return  -1    \n",
    "\n",
    "\n",
    "def two_four_cycle(f,q):\n",
    "    factor = fekete_reduction(f,q)\n",
    "    number_of_factor = len(factor)\n",
    "    #check that f is separable modulo q\n",
    "    for i in range(number_of_factor):\n",
    "        if factor[i][1] >1:\n",
    "            return False\n",
    "    number_two_cycle =0 \n",
    "    number_four_cycle =0 \n",
    "    number_even_cycle =0\n",
    "    for i in range(number_of_factor):\n",
    "        if factor[i][0].degree() ==2:\n",
    "            number_two_cycle +=1\n",
    "        if factor[i][0].degree() == 4:\n",
    "            number_four_cycle +=1 \n",
    "        if factor[i][0].degree() % 2 ==0:\n",
    "            number_even_cycle +=1\n",
    "    if number_two_cycle ==1 and number_four_cycle ==1 and number_even_cycle ==2:\n",
    "        return True\n",
    "    return False\n",
    "            \n",
    "    \n",
    "def search_two_four_cycle(f,n):\n",
    "    for q in range(n):\n",
    "        if is_prime(q):\n",
    "            if two_four_cycle(f,q):\n",
    "                return q\n",
    "    return -1         \n",
    "                \n",
    "def irreducible(f,n):\n",
    "    for q in range(n):\n",
    "        if is_prime(q): \n",
    "            factor=fekete_reduction(f,q)\n",
    "            if len(factor)==1 and factor[0][1]==1:\n",
    "                    return q\n",
    "    return  -1     \n",
    "\n",
    "def two_four_cycle(f,q):\n",
    "    factor = fekete_reduction(f,q)\n",
    "    number_of_factor = len(factor)\n",
    "    #check that f is separable modulo q\n",
    "    for i in range(number_of_factor):\n",
    "        if factor[i][1] >1:\n",
    "            return False\n",
    "    number_two_cycle =0 \n",
    "    number_four_cycle =0 \n",
    "    number_even_cycle =0\n",
    "    for i in range(number_of_factor):\n",
    "        if factor[i][0].degree() ==2:\n",
    "            number_two_cycle +=1\n",
    "        if factor[i][0].degree() == 4:\n",
    "            number_four_cycle +=1 \n",
    "        if factor[i][0].degree() % 2 ==0:\n",
    "            number_even_cycle +=1\n",
    "    if number_two_cycle ==1 and number_four_cycle ==1 and number_even_cycle ==2:\n",
    "        return True\n",
    "    return False\n",
    "                \n",
    "       \n",
    "    \n",
    "def length_test_2(v):\n",
    "    #count the number of even entries in v\n",
    "    count2=0\n",
    "    for item in v:\n",
    "        if item==2:\n",
    "            count2 +=1\n",
    "    count_even=0     \n",
    "    for item in v:        \n",
    "        if item %2 ==0:\n",
    "            count_even +=1\n",
    "    if count2==count_even==1:\n",
    "        return True\n",
    "    return False    \n",
    "\n",
    "def length_test_4(v):\n",
    "    #count the number of even entries in v\n",
    "    count4=0\n",
    "    for item in v:\n",
    "        if item==4:\n",
    "            count4 +=1\n",
    "    count_even=0     \n",
    "    for item in v:        \n",
    "        if item %2 ==0:\n",
    "            count_even +=1\n",
    "    if count4==count_even==1:\n",
    "        return True\n",
    "    return False    \n",
    "\n",
    "    \n",
    "def two_cycle(f,n):\n",
    "    result=[]\n",
    "    for q in range(n):\n",
    "        v=[]\n",
    "        if is_prime(q):\n",
    "            factor=fekete_reduction(f,q)\n",
    "            for item in factor:\n",
    "                v.append(item[0].degree())\n",
    "        if sum(v)==f.degree() and length_test_2(v):\n",
    "            return q\n",
    "    return -1     \n",
    "\n",
    "def four_cycle(f,n):\n",
    "    result=[]\n",
    "    for q in range(n):\n",
    "        v=[]\n",
    "        if is_prime(q):\n",
    "            factor=fekete_reduction(f,q)\n",
    "            for item in factor:\n",
    "                v.append(item[0].degree())\n",
    "        if sum(v)==f.degree() and length_test_4(v):\n",
    "            return q\n",
    "    return -1  \n",
    "\n",
    "def cycle(g,n):\n",
    "    for q in range(n):\n",
    "        if is_prime(q): \n",
    "            factor=fekete_reduction(g,q)\n",
    "            if len(factor)==2: \n",
    "                factor1=factor[0][0]\n",
    "                coef=factor1.degree()\n",
    "                if coef==1 and factor[0][1]==1 and factor[1][1]==1: \n",
    "                                   return q\n",
    "    return  -1   \n",
    "                    \n",
    "\n",
    "                    \n",
    "def search_quadruple(f,n):\n",
    "    irr=irreducible(f,n)\n",
    "    print(f\"f is irreducible at q= \", irr)\n",
    "    q_cycle=almost_cycle(f,n)\n",
    "    print(f\"f has an (2m-2) cycle at q=\", q_cycle)\n",
    "    q_tranposition=two_cycle(f,n)\n",
    "    print(f\"f has an 2-cycle at q=\", q_tranposition)\n",
    "    q_four_cycle=four_cycle(f,n)\n",
    "    print(f\"f has an 4-cycle at q=\", q_four_cycle)\n",
    "    \n",
    "\n",
    "def quadruple(f,n):\n",
    "    irr=irreducible(f,n)\n",
    "    q_cycle=almost_cycle(f,n)\n",
    "    q_tranposition=two_cycle(f,n)\n",
    "    q_four_cycle=four_cycle(f,n)\n",
    "    result=(irr, q_cycle, q_tranposition, q_four_cycle)\n",
    "    return result\n",
    "    \n",
    "    \n",
    "def triple(g,n):\n",
    "    irr=irreducible(g,n)\n",
    "    q_cycle=cycle(g,n)\n",
    "    q_tranposition=two_cycle(g,n)\n",
    "    result=[irr, q_cycle, q_tranposition]\n",
    "    return result\n",
    "    \n",
    "def irreducible(p):\n",
    "    f = fekete(p)\n",
    "    return f.is_irreducible()    \n",
    "   \n",
    "    \n",
    "    \n"
   ]
  },
  {
   "cell_type": "markdown",
   "metadata": {
    "collapsed": false
   },
   "source": [
    "# We test the above codes for d.\n",
    "\n",
    "## In this section, we focus on the factorization of $\\tilde{F}_{\\Delta}(x)$ and the definition of $f_{\\Delta}(x)$. \n",
    "\n",
    "\n"
   ]
  },
  {
   "cell_type": "markdown",
   "metadata": {
    "collapsed": false
   },
   "source": [
    "### We consider the case $p=7$"
   ]
  },
  {
   "cell_type": "code",
   "execution_count": 3,
   "metadata": {
    "collapsed": false
   },
   "outputs": [
    {
     "data": {
      "text/plain": [
       "x^13 + x^12 - x^11 + x^9 - x^8 - x^7 - x^6 - x^5 + x^4 - x^2 + x + 1"
      ]
     },
     "execution_count": 3,
     "metadata": {
     },
     "output_type": "execute_result"
    }
   ],
   "source": [
    "p=7\n",
    "F=modified_fekete(p)\n",
    "F"
   ]
  },
  {
   "cell_type": "code",
   "execution_count": 27,
   "metadata": {
    "collapsed": false
   },
   "outputs": [
    {
     "data": {
      "text/plain": [
       "(x - 1)^2 * (x + 1)^3 * (x^2 - x + 1) * (x^6 + x^5 + x^4 + x^3 + x^2 + x + 1)"
      ]
     },
     "execution_count": 27,
     "metadata": {
     },
     "output_type": "execute_result"
    }
   ],
   "source": [
    "F.factor()"
   ]
  },
  {
   "cell_type": "code",
   "execution_count": 28,
   "metadata": {
    "collapsed": false
   },
   "outputs": [
    {
     "data": {
      "text/plain": [
       "1"
      ]
     },
     "execution_count": 28,
     "metadata": {
     },
     "output_type": "execute_result"
    }
   ],
   "source": [
    "f=fekete(p)\n",
    "f"
   ]
  },
  {
   "cell_type": "markdown",
   "metadata": {
    "collapsed": false
   },
   "source": [
    "### We consider $p= 11$"
   ]
  },
  {
   "cell_type": "code",
   "execution_count": 3,
   "metadata": {
    "collapsed": false
   },
   "outputs": [
    {
     "data": {
      "text/plain": [
       "x^21 - x^20 + x^19 + x^18 + x^17 - x^15 - x^14 - x^13 + x^12 - x^11 - x^10 + x^9 - x^8 - x^7 - x^6 + x^4 + x^3 + x^2 - x + 1"
      ]
     },
     "execution_count": 3,
     "metadata": {
     },
     "output_type": "execute_result"
    }
   ],
   "source": [
    "p=11\n",
    "F=modified_fekete(p)\n",
    "F"
   ]
  },
  {
   "cell_type": "code",
   "execution_count": 4,
   "metadata": {
    "collapsed": false
   },
   "outputs": [
    {
     "data": {
      "text/plain": [
       "(x + 1) * (x - 1)^2 * (x^8 - x^7 + 2*x^6 + 3*x^4 + 2*x^2 - x + 1) * (x^10 + x^9 + x^8 + x^7 + x^6 + x^5 + x^4 + x^3 + x^2 + x + 1)"
      ]
     },
     "execution_count": 4,
     "metadata": {
     },
     "output_type": "execute_result"
    }
   ],
   "source": [
    "F.factor()"
   ]
  },
  {
   "cell_type": "code",
   "execution_count": 5,
   "metadata": {
    "collapsed": false
   },
   "outputs": [
    {
     "data": {
      "text/plain": [
       "x^8 - x^7 + 2*x^6 + 3*x^4 + 2*x^2 - x + 1"
      ]
     },
     "execution_count": 5,
     "metadata": {
     },
     "output_type": "execute_result"
    }
   ],
   "source": [
    "f=fekete(p)\n",
    "f"
   ]
  },
  {
   "cell_type": "code",
   "execution_count": 6,
   "metadata": {
    "collapsed": false
   },
   "outputs": [
    {
     "data": {
      "text/plain": [
       "x^4 - x^3 - 2*x^2 + 3*x + 1"
      ]
     },
     "execution_count": 6,
     "metadata": {
     },
     "output_type": "execute_result"
    }
   ],
   "source": [
    "g=reduced_fekete(p)\n",
    "g"
   ]
  },
  {
   "cell_type": "markdown",
   "metadata": {
    "collapsed": false
   },
   "source": [
    "## We consider $p$=19 "
   ]
  },
  {
   "cell_type": "code",
   "execution_count": 3,
   "metadata": {
    "collapsed": false
   },
   "outputs": [
    {
     "data": {
      "text/plain": [
       "x^37 + x^36 + x^35 - x^34 + x^33 - x^32 - x^31 + x^30 + x^29 - x^27 - x^26 + x^25 + x^24 - x^23 + x^22 - x^21 - x^20 - x^19 - x^18 - x^17 - x^16 + x^15 - x^14 + x^13 + x^12 - x^11 - x^10 + x^8 + x^7 - x^6 - x^5 + x^4 - x^3 + x^2 + x + 1"
      ]
     },
     "execution_count": 3,
     "metadata": {
     },
     "output_type": "execute_result"
    }
   ],
   "source": [
    "p=19\n",
    "F=modified_fekete(p)\n",
    "F"
   ]
  },
  {
   "cell_type": "code",
   "execution_count": 4,
   "metadata": {
    "collapsed": false
   },
   "outputs": [
    {
     "data": {
      "text/plain": [
       "(x + 1) * (x - 1)^2 * (x^16 + x^15 + 2*x^14 + 3*x^12 - x^11 + 2*x^10 + 3*x^8 + 2*x^6 - x^5 + 3*x^4 + 2*x^2 + x + 1) * (x^18 + x^17 + x^16 + x^15 + x^14 + x^13 + x^12 + x^11 + x^10 + x^9 + x^8 + x^7 + x^6 + x^5 + x^4 + x^3 + x^2 + x + 1)"
      ]
     },
     "execution_count": 4,
     "metadata": {
     },
     "output_type": "execute_result"
    }
   ],
   "source": [
    "F.factor()"
   ]
  },
  {
   "cell_type": "code",
   "execution_count": 5,
   "metadata": {
    "collapsed": false
   },
   "outputs": [
    {
     "data": {
      "text/plain": [
       "x^16 + x^15 + 2*x^14 + 3*x^12 - x^11 + 2*x^10 + 3*x^8 + 2*x^6 - x^5 + 3*x^4 + 2*x^2 + x + 1"
      ]
     },
     "execution_count": 5,
     "metadata": {
     },
     "output_type": "execute_result"
    }
   ],
   "source": [
    "f=fekete(p)\n",
    "f"
   ]
  },
  {
   "cell_type": "code",
   "execution_count": 6,
   "metadata": {
    "collapsed": false
   },
   "outputs": [
    {
     "data": {
      "text/plain": [
       "227"
      ]
     },
     "execution_count": 6,
     "metadata": {
     },
     "output_type": "execute_result"
    }
   ],
   "source": [
    "n=10**5\n",
    "f =fekete(19)\n",
    "search_two_four_cycle(f,n)"
   ]
  },
  {
   "cell_type": "code",
   "execution_count": 7,
   "metadata": {
    "collapsed": false
   },
   "outputs": [
    {
     "data": {
      "text/plain": [
       "(x^2 + 153*x + 1) * (x^4 + 177*x^3 + 43*x^2 + 177*x + 1) * (x^5 + 44*x^4 + 148*x^3 + 23*x^2 + 196*x + 207) * (x^5 + 81*x^4 + 101*x^3 + 38*x^2 + 134*x + 34)"
      ]
     },
     "execution_count": 7,
     "metadata": {
     },
     "output_type": "execute_result"
    }
   ],
   "source": [
    "fekete_reduction(f, 227)"
   ]
  },
  {
   "cell_type": "code",
   "execution_count": 10,
   "metadata": {
    "collapsed": false
   },
   "outputs": [
    {
     "data": {
      "text/plain": [
       "x^8 + x^7 - 6*x^6 - 7*x^5 + 11*x^4 + 13*x^3 - 8*x^2 - 4*x + 3"
      ]
     },
     "execution_count": 10,
     "metadata": {
     },
     "output_type": "execute_result"
    }
   ],
   "source": [
    "g=reduced_fekete(p)\n",
    "g"
   ]
  },
  {
   "cell_type": "markdown",
   "metadata": {
    "collapsed": false
   },
   "source": [
    "## We consider $p= 23$"
   ]
  },
  {
   "cell_type": "code",
   "execution_count": 11,
   "metadata": {
    "collapsed": false
   },
   "outputs": [
    {
     "data": {
      "text/plain": [
       "(x - 1)^2 * (x + 1)^3 * (x^2 - x + 1) * (x^16 - 2*x^15 + 2*x^14 - 3*x^13 + 5*x^12 - 4*x^11 + 7*x^10 - 7*x^9 + 7*x^8 - 7*x^7 + 7*x^6 - 4*x^5 + 5*x^4 - 3*x^3 + 2*x^2 - 2*x + 1) * (x^22 + x^21 + x^20 + x^19 + x^18 + x^17 + x^16 + x^15 + x^14 + x^13 + x^12 + x^11 + x^10 + x^9 + x^8 + x^7 + x^6 + x^5 + x^4 + x^3 + x^2 + x + 1)"
      ]
     },
     "execution_count": 11,
     "metadata": {
     },
     "output_type": "execute_result"
    }
   ],
   "source": [
    "p=23\n",
    "F=modified_fekete(p)\n",
    "F.factor()\n"
   ]
  },
  {
   "cell_type": "code",
   "execution_count": 12,
   "metadata": {
    "collapsed": false
   },
   "outputs": [
    {
     "data": {
      "text/plain": [
       "x^16 - 2*x^15 + 2*x^14 - 3*x^13 + 5*x^12 - 4*x^11 + 7*x^10 - 7*x^9 + 7*x^8 - 7*x^7 + 7*x^6 - 4*x^5 + 5*x^4 - 3*x^3 + 2*x^2 - 2*x + 1"
      ]
     },
     "execution_count": 12,
     "metadata": {
     },
     "output_type": "execute_result"
    }
   ],
   "source": [
    "f=fekete(p)\n",
    "f"
   ]
  },
  {
   "cell_type": "code",
   "execution_count": 13,
   "metadata": {
    "collapsed": false
   },
   "outputs": [
    {
     "data": {
      "text/plain": [
       "x^8 - 2*x^7 - 6*x^6 + 11*x^5 + 13*x^4 - 17*x^3 - 11*x^2 + 4*x + 1"
      ]
     },
     "execution_count": 13,
     "metadata": {
     },
     "output_type": "execute_result"
    }
   ],
   "source": [
    "g = reduced_fekete(p)\n",
    "g"
   ]
  },
  {
   "cell_type": "markdown",
   "metadata": {
    "collapsed": false
   },
   "source": [
    "## We consider $p = 31$ "
   ]
  },
  {
   "cell_type": "code",
   "execution_count": 17,
   "metadata": {
    "collapsed": false
   },
   "outputs": [
    {
     "data": {
      "text/plain": [
       "(x - 1)^2 * (x + 1)^3 * (x^2 - x + 1) * (x^24 + 2*x^22 - 3*x^21 + 5*x^20 - 6*x^19 + 9*x^18 - 9*x^17 + 11*x^16 - 13*x^15 + 13*x^14 - 13*x^13 + 16*x^12 - 13*x^11 + 13*x^10 - 13*x^9 + 11*x^8 - 9*x^7 + 9*x^6 - 6*x^5 + 5*x^4 - 3*x^3 + 2*x^2 + 1) * (x^30 + x^29 + x^28 + x^27 + x^26 + x^25 + x^24 + x^23 + x^22 + x^21 + x^20 + x^19 + x^18 + x^17 + x^16 + x^15 + x^14 + x^13 + x^12 + x^11 + x^10 + x^9 + x^8 + x^7 + x^6 + x^5 + x^4 + x^3 + x^2 + x + 1)"
      ]
     },
     "execution_count": 17,
     "metadata": {
     },
     "output_type": "execute_result"
    }
   ],
   "source": [
    "p=31\n",
    "F=modified_fekete(p)\n",
    "F.factor()"
   ]
  },
  {
   "cell_type": "code",
   "execution_count": 18,
   "metadata": {
    "collapsed": false
   },
   "outputs": [
    {
     "data": {
      "text/plain": [
       "x^24 + 2*x^22 - 3*x^21 + 5*x^20 - 6*x^19 + 9*x^18 - 9*x^17 + 11*x^16 - 13*x^15 + 13*x^14 - 13*x^13 + 16*x^12 - 13*x^11 + 13*x^10 - 13*x^9 + 11*x^8 - 9*x^7 + 9*x^6 - 6*x^5 + 5*x^4 - 3*x^3 + 2*x^2 + 1"
      ]
     },
     "execution_count": 18,
     "metadata": {
     },
     "output_type": "execute_result"
    }
   ],
   "source": [
    "f=fekete(p)\n",
    "f"
   ]
  },
  {
   "cell_type": "code",
   "execution_count": 19,
   "metadata": {
    "collapsed": false
   },
   "outputs": [
    {
     "data": {
      "text/plain": [
       "x^12 - 10*x^10 - 3*x^9 + 39*x^8 + 21*x^7 - 73*x^6 - 48*x^5 + 62*x^4 + 38*x^3 - 16*x^2 - 4*x + 2"
      ]
     },
     "execution_count": 19,
     "metadata": {
     },
     "output_type": "execute_result"
    }
   ],
   "source": [
    "g = reduced_fekete(p)\n",
    "g"
   ]
  },
  {
   "cell_type": "markdown",
   "metadata": {
    "collapsed": false
   },
   "source": [
    "## We consider $p= 43$"
   ]
  },
  {
   "cell_type": "code",
   "execution_count": 20,
   "metadata": {
    "collapsed": false
   },
   "outputs": [
    {
     "data": {
      "text/plain": [
       "(x + 1) * (x - 1)^2 * (x^40 + x^39 + 2*x^37 + x^36 + x^35 + 2*x^34 + 3*x^32 + x^31 + 4*x^30 + 5*x^28 + x^27 + 4*x^26 + 3*x^24 - x^23 + 2*x^22 + 3*x^20 + 2*x^18 - x^17 + 3*x^16 + 4*x^14 + x^13 + 5*x^12 + 4*x^10 + x^9 + 3*x^8 + 2*x^6 + x^5 + x^4 + 2*x^3 + x + 1) * (x^42 + x^41 + x^40 + x^39 + x^38 + x^37 + x^36 + x^35 + x^34 + x^33 + x^32 + x^31 + x^30 + x^29 + x^28 + x^27 + x^26 + x^25 + x^24 + x^23 + x^22 + x^21 + x^20 + x^19 + x^18 + x^17 + x^16 + x^15 + x^14 + x^13 + x^12 + x^11 + x^10 + x^9 + x^8 + x^7 + x^6 + x^5 + x^4 + x^3 + x^2 + x + 1)"
      ]
     },
     "execution_count": 20,
     "metadata": {
     },
     "output_type": "execute_result"
    }
   ],
   "source": [
    "p=43\n",
    "F=modified_fekete(p)\n",
    "F.factor()"
   ]
  },
  {
   "cell_type": "code",
   "execution_count": 21,
   "metadata": {
    "collapsed": false
   },
   "outputs": [
    {
     "data": {
      "text/plain": [
       "x^40 + x^39 + 2*x^37 + x^36 + x^35 + 2*x^34 + 3*x^32 + x^31 + 4*x^30 + 5*x^28 + x^27 + 4*x^26 + 3*x^24 - x^23 + 2*x^22 + 3*x^20 + 2*x^18 - x^17 + 3*x^16 + 4*x^14 + x^13 + 5*x^12 + 4*x^10 + x^9 + 3*x^8 + 2*x^6 + x^5 + x^4 + 2*x^3 + x + 1"
      ]
     },
     "execution_count": 21,
     "metadata": {
     },
     "output_type": "execute_result"
    }
   ],
   "source": [
    "f=fekete(p)\n",
    "f"
   ]
  },
  {
   "cell_type": "code",
   "execution_count": 22,
   "metadata": {
    "collapsed": false
   },
   "outputs": [
    {
     "data": {
      "text/plain": [
       "x^20 + x^19 - 20*x^18 - 17*x^17 + 171*x^16 + 119*x^15 - 814*x^14 - 442*x^13 + 2354*x^12 + 936*x^11 - 4234*x^10 - 1133*x^9 + 4657*x^8 + 759*x^7 - 2956*x^6 - 288*x^5 + 963*x^4 + 85*x^3 - 128*x^2 - 15*x + 5"
      ]
     },
     "execution_count": 22,
     "metadata": {
     },
     "output_type": "execute_result"
    }
   ],
   "source": [
    "g=reduced_fekete(p)\n",
    "g"
   ]
  },
  {
   "cell_type": "markdown",
   "metadata": {
    "collapsed": false
   },
   "source": [
    "## We consider $p = 47$ "
   ]
  },
  {
   "cell_type": "code",
   "execution_count": 23,
   "metadata": {
    "collapsed": false
   },
   "outputs": [
    {
     "data": {
      "text/plain": [
       "(x - 1)^2 * (x + 1)^3 * (x^2 - x + 1) * (x^40 - 2*x^39 + 2*x^38 - 5*x^37 + 7*x^36 - 8*x^35 + 11*x^34 - 13*x^33 + 15*x^32 - 17*x^31 + 21*x^30 - 21*x^29 + 26*x^28 - 29*x^27 + 31*x^26 - 34*x^25 + 38*x^24 - 37*x^23 + 42*x^22 - 42*x^21 + 42*x^20 - 42*x^19 + 42*x^18 - 37*x^17 + 38*x^16 - 34*x^15 + 31*x^14 - 29*x^13 + 26*x^12 - 21*x^11 + 21*x^10 - 17*x^9 + 15*x^8 - 13*x^7 + 11*x^6 - 8*x^5 + 7*x^4 - 5*x^3 + 2*x^2 - 2*x + 1) * (x^46 + x^45 + x^44 + x^43 + x^42 + x^41 + x^40 + x^39 + x^38 + x^37 + x^36 + x^35 + x^34 + x^33 + x^32 + x^31 + x^30 + x^29 + x^28 + x^27 + x^26 + x^25 + x^24 + x^23 + x^22 + x^21 + x^20 + x^19 + x^18 + x^17 + x^16 + x^15 + x^14 + x^13 + x^12 + x^11 + x^10 + x^9 + x^8 + x^7 + x^6 + x^5 + x^4 + x^3 + x^2 + x + 1)"
      ]
     },
     "execution_count": 23,
     "metadata": {
     },
     "output_type": "execute_result"
    }
   ],
   "source": [
    "p=47\n",
    "F=modified_fekete(p)\n",
    "F.factor()"
   ]
  },
  {
   "cell_type": "code",
   "execution_count": 24,
   "metadata": {
    "collapsed": false
   },
   "outputs": [
    {
     "data": {
      "text/plain": [
       "x^40 - 2*x^39 + 2*x^38 - 5*x^37 + 7*x^36 - 8*x^35 + 11*x^34 - 13*x^33 + 15*x^32 - 17*x^31 + 21*x^30 - 21*x^29 + 26*x^28 - 29*x^27 + 31*x^26 - 34*x^25 + 38*x^24 - 37*x^23 + 42*x^22 - 42*x^21 + 42*x^20 - 42*x^19 + 42*x^18 - 37*x^17 + 38*x^16 - 34*x^15 + 31*x^14 - 29*x^13 + 26*x^12 - 21*x^11 + 21*x^10 - 17*x^9 + 15*x^8 - 13*x^7 + 11*x^6 - 8*x^5 + 7*x^4 - 5*x^3 + 2*x^2 - 2*x + 1"
      ]
     },
     "execution_count": 24,
     "metadata": {
     },
     "output_type": "execute_result"
    }
   ],
   "source": [
    "f = fekete(p)\n",
    "f"
   ]
  },
  {
   "cell_type": "code",
   "execution_count": 25,
   "metadata": {
    "collapsed": false
   },
   "outputs": [
    {
     "data": {
      "text/plain": [
       "x^20 - 2*x^19 - 18*x^18 + 33*x^17 + 141*x^16 - 227*x^15 - 631*x^14 + 842*x^13 + 1772*x^12 - 1816*x^11 - 3206*x^10 + 2280*x^9 + 3662*x^8 - 1566*x^7 - 2460*x^6 + 507*x^5 + 838*x^4 - 65*x^3 - 109*x^2 + 4*x + 2"
      ]
     },
     "execution_count": 25,
     "metadata": {
     },
     "output_type": "execute_result"
    }
   ],
   "source": [
    "g= reduced_fekete(p)\n",
    "g"
   ]
  },
  {
   "cell_type": "markdown",
   "metadata": {
    "collapsed": false
   },
   "source": [
    "# We study the Galois group of $f_{\\Delta}(x)$. "
   ]
  },
  {
   "cell_type": "code",
   "execution_count": 8,
   "metadata": {
    "collapsed": false
   },
   "outputs": [
    {
     "name": "stdout",
     "output_type": "stream",
     "text": [
      "11 (3, 31, 97, 647)\n"
     ]
    },
    {
     "name": "stdout",
     "output_type": "stream",
     "text": [
      "19 (-1, -1, -1, -1)\n"
     ]
    },
    {
     "name": "stdout",
     "output_type": "stream",
     "text": [
      "23 (19, 109, 163, 761)\n",
      "31 (97, 17, 353, 23)\n"
     ]
    },
    {
     "name": "stdout",
     "output_type": "stream",
     "text": [
      "43 (251, 277, 59, 2089)\n",
      "47 (17, 251, 599, 131)\n"
     ]
    },
    {
     "name": "stdout",
     "output_type": "stream",
     "text": [
      "59 (1021, 409, 809, 1301)\n"
     ]
    },
    {
     "name": "stdout",
     "output_type": "stream",
     "text": [
      "67 (157, 31, 457, 1433)\n"
     ]
    },
    {
     "name": "stdout",
     "output_type": "stream",
     "text": [
      "71 (163, 337, 1553, 811)\n"
     ]
    },
    {
     "name": "stdout",
     "output_type": "stream",
     "text": [
      "79 (193, 757, 1171, 599)\n"
     ]
    },
    {
     "name": "stdout",
     "output_type": "stream",
     "text": [
      "83 (593, 349, 1597, 1667)\n"
     ]
    }
   ],
   "source": [
    "p=11\n",
    "n=10**5\n",
    "while p<100:\n",
    "    if p %4==3 and is_prime(p): \n",
    "        f=fekete(p)\n",
    "        print(p, quadruple(f,n))\n",
    "    p +=4  "
   ]
  },
  {
   "cell_type": "code",
   "execution_count": 10,
   "metadata": {
    "collapsed": false
   },
   "outputs": [
    {
     "name": "stdout",
     "output_type": "stream",
     "text": [
      "83 (593, 349, 1597, 1667)\n"
     ]
    },
    {
     "name": "stdout",
     "output_type": "stream",
     "text": [
      "103 (359, 4129, 37, 2113)\n"
     ]
    },
    {
     "name": "stdout",
     "output_type": "stream",
     "text": [
      "107 (937, 101, 29, 607)\n"
     ]
    },
    {
     "name": "stdout",
     "output_type": "stream",
     "text": [
      "127 (227, 479, 53, 11161)\n"
     ]
    },
    {
     "name": "stdout",
     "output_type": "stream",
     "text": [
      "131 (71, 569, 271, 1423)\n"
     ]
    },
    {
     "name": "stdout",
     "output_type": "stream",
     "text": [
      "139 (619, 563, 577, 1823)\n"
     ]
    },
    {
     "name": "stdout",
     "output_type": "stream",
     "text": [
      "151 (61, 1949, 541, 563)\n"
     ]
    },
    {
     "name": "stdout",
     "output_type": "stream",
     "text": [
      "163 (1129, 419, 349, 857)\n"
     ]
    },
    {
     "name": "stdout",
     "output_type": "stream",
     "text": [
      "167 (197, 8627, 719, 1907)\n"
     ]
    },
    {
     "name": "stdout",
     "output_type": "stream",
     "text": [
      "179 (2593, 701, 41, 4649)\n"
     ]
    },
    {
     "name": "stdout",
     "output_type": "stream",
     "text": [
      "191 (643, 4493, 197, 733)\n"
     ]
    },
    {
     "name": "stdout",
     "output_type": "stream",
     "text": [
      "199 (1409, 1657, 167, 619)\n"
     ]
    }
   ],
   "source": [
    "P=Primes()\n",
    "p = 83\n",
    "while p < 200: \n",
    "    if p % 4 ==3:\n",
    "        f =fekete(p)\n",
    "        print(p, quadruple(f,n))\n",
    "    p = P.next(p)     \n"
   ]
  },
  {
   "cell_type": "code",
   "execution_count": 11,
   "metadata": {
    "collapsed": false
   },
   "outputs": [
    {
     "name": "stdout",
     "output_type": "stream",
     "text": [
      "211 (601, 1109, 1571, 4817)\n"
     ]
    },
    {
     "name": "stdout",
     "output_type": "stream",
     "text": [
      "223 (7129, 7451, 269, 1283)\n"
     ]
    },
    {
     "name": "stdout",
     "output_type": "stream",
     "text": [
      "227 (359, 1097, 907, 1123)\n"
     ]
    },
    {
     "name": "stdout",
     "output_type": "stream",
     "text": [
      "239 (241, 5009, 151, 277)\n"
     ]
    },
    {
     "name": "stdout",
     "output_type": "stream",
     "text": [
      "251 (1741, 307, 1289, 2551)\n"
     ]
    },
    {
     "name": "stdout",
     "output_type": "stream",
     "text": [
      "263 (577, 4423, 997, 8501)\n"
     ]
    },
    {
     "name": "stdout",
     "output_type": "stream",
     "text": [
      "271 (397, 10789, 3019, 3617)\n"
     ]
    },
    {
     "name": "stdout",
     "output_type": "stream",
     "text": [
      "283 (701, 7127, 3167, 3499)\n"
     ]
    }
   ],
   "source": [
    "while p < 300: \n",
    "    if p % 4 ==3:\n",
    "        f =fekete(p)\n",
    "        print(p, quadruple(f,n))\n",
    "    p = P.next(p) "
   ]
  },
  {
   "cell_type": "code",
   "execution_count": 5,
   "metadata": {
    "collapsed": false
   },
   "outputs": [
    {
     "name": "stdout",
     "output_type": "stream",
     "text": [
      "307 (1471, 2251, 7109, 3541)\n"
     ]
    },
    {
     "name": "stdout",
     "output_type": "stream",
     "text": [
      "311 (1249, 1549, 1277, 3463)\n"
     ]
    },
    {
     "name": "stdout",
     "output_type": "stream",
     "text": [
      "331 (643, 1999, 2689, 5441)\n"
     ]
    },
    {
     "name": "stdout",
     "output_type": "stream",
     "text": [
      "347 (601, 6113, 2339, 4759)\n"
     ]
    },
    {
     "name": "stdout",
     "output_type": "stream",
     "text": [
      "359 (5783, 2707, 3583, 1123)\n"
     ]
    },
    {
     "name": "stdout",
     "output_type": "stream",
     "text": [
      "367 (2203, 373, 8101, 10499)\n"
     ]
    },
    {
     "name": "stdout",
     "output_type": "stream",
     "text": [
      "379 (263, 8221, 6563, 491)\n"
     ]
    },
    {
     "name": "stdout",
     "output_type": "stream",
     "text": [
      "383 (1033, 12799, 4871, 16183)\n"
     ]
    },
    {
     "name": "stdout",
     "output_type": "stream",
     "text": [
      "419 (1873, 8699, 4177, 1579)\n"
     ]
    },
    {
     "name": "stdout",
     "output_type": "stream",
     "text": [
      "431 (3011, 4621, 4013, 4241)\n"
     ]
    },
    {
     "name": "stdout",
     "output_type": "stream",
     "text": [
      "439 (6269, 21911, 1601, 5153)\n"
     ]
    },
    {
     "name": "stdout",
     "output_type": "stream",
     "text": [
      "443 (701, 12491, 271, 12541)\n"
     ]
    },
    {
     "name": "stdout",
     "output_type": "stream",
     "text": [
      "463 (21943, 3637, 137, 5531)\n"
     ]
    },
    {
     "name": "stdout",
     "output_type": "stream",
     "text": [
      "467 (3607, 857, 4513, 7103)\n"
     ]
    },
    {
     "name": "stdout",
     "output_type": "stream",
     "text": [
      "479 (521, 827, 4253, 8219)\n"
     ]
    },
    {
     "name": "stdout",
     "output_type": "stream",
     "text": [
      "487 (1973, 197, 1871, 4639)\n"
     ]
    },
    {
     "name": "stdout",
     "output_type": "stream",
     "text": [
      "491 (67, 10133, 7727, 1511)\n"
     ]
    },
    {
     "name": "stdout",
     "output_type": "stream",
     "text": [
      "499 (13147, 23, 1291, 1453)\n"
     ]
    }
   ],
   "source": [
    "p =  284\n",
    "n = 10**5\n",
    "P=Primes()\n",
    "while p < 500: \n",
    "    if p % 4 ==3:\n",
    "        f =fekete(p)\n",
    "        print(p, quadruple(f,n))\n",
    "    p = P.next(p) "
   ]
  },
  {
   "cell_type": "code",
   "execution_count": 3,
   "metadata": {
    "collapsed": false
   },
   "outputs": [
    {
     "name": "stdout",
     "output_type": "stream",
     "text": [
      "503 (229, 3271, 4219, 137)\n"
     ]
    },
    {
     "name": "stdout",
     "output_type": "stream",
     "text": [
      "523 (2237, 15511, 239, 17047)\n"
     ]
    },
    {
     "name": "stdout",
     "output_type": "stream",
     "text": [
      "547 (2027, 16411, 4289, 23977)\n"
     ]
    },
    {
     "name": "stdout",
     "output_type": "stream",
     "text": [
      "563 (2111, 3373, 631, 107)\n"
     ]
    },
    {
     "name": "stdout",
     "output_type": "stream",
     "text": [
      "571 (1861, 10301, 83, 953)\n"
     ]
    },
    {
     "name": "stdout",
     "output_type": "stream",
     "text": [
      "587 (443, 15263, 311, 2897)\n"
     ]
    },
    {
     "name": "stdout",
     "output_type": "stream",
     "text": [
      "599 (1433, 33589, 491, 1229)\n"
     ]
    }
   ],
   "source": [
    "p =  500\n",
    "n=10**5\n",
    "P=Primes()\n",
    "while p < 600: \n",
    "    if p % 4 ==3:\n",
    "        f =fekete(p)\n",
    "        print(p, quadruple(f,n))\n",
    "    p = P.next(p) "
   ]
  },
  {
   "cell_type": "code",
   "execution_count": 3,
   "metadata": {
    "collapsed": false
   },
   "outputs": [
    {
     "name": "stdout",
     "output_type": "stream",
     "text": [
      "607 (8123, 2131, 4157, 6067)\n"
     ]
    }
   ],
   "source": [
    "p =  600\n",
    "n=10**5\n",
    "P=Primes()\n",
    "while p < 700: \n",
    "    if p % 4 ==3:\n",
    "        f =fekete(p)\n",
    "        print(p, quadruple(f,n))\n",
    "    p = P.next(p) "
   ]
  },
  {
   "cell_type": "markdown",
   "metadata": {
    "collapsed": false
   },
   "source": [
    "## Next we study the Galois group of $g_{\\Delta}(x)$"
   ]
  },
  {
   "cell_type": "code",
   "execution_count": 27,
   "metadata": {
    "collapsed": false
   },
   "outputs": [
    {
     "name": "stdout",
     "output_type": "stream",
     "text": [
      "11 [3, 7, 43]\n",
      "19 [17, 43, 89]\n",
      "23 [19, 3, 61]\n",
      "31 [97, 3, 23]\n",
      "43 [251, 7, 29]\n",
      "47 [17, 7, 41]\n",
      "59 [19, 71, 11]\n",
      "67 [157, 31, 11]\n",
      "71 [113, 233, 19]\n",
      "79 [193, 3, 19]\n",
      "83 [157, 349, 19]\n"
     ]
    },
    {
     "name": "stdout",
     "output_type": "stream",
     "text": [
      "103 [41, 23, 463]\n",
      "107 [31, 29, 229]\n"
     ]
    },
    {
     "name": "stdout",
     "output_type": "stream",
     "text": [
      "127 [227, 479, 179]\n",
      "131 [71, 47, 23]\n"
     ]
    },
    {
     "name": "stdout",
     "output_type": "stream",
     "text": [
      "139 [619, 71, 31]\n",
      "151 [61, 617, 227]\n"
     ]
    },
    {
     "name": "stdout",
     "output_type": "stream",
     "text": [
      "163 [29, 349, 127]\n",
      "167 [197, 23, 37]\n"
     ]
    },
    {
     "name": "stdout",
     "output_type": "stream",
     "text": [
      "179 [1093, 31, 151]\n"
     ]
    },
    {
     "name": "stdout",
     "output_type": "stream",
     "text": [
      "191 [643, 11, 43]\n"
     ]
    },
    {
     "name": "stdout",
     "output_type": "stream",
     "text": [
      "199 [1409, 167, 67]\n"
     ]
    }
   ],
   "source": [
    "P=Primes()\n",
    "p = 11\n",
    "n=10**5\n",
    "while p < 200: \n",
    "    if p % 4 ==3:\n",
    "        g =reduced_fekete(p)\n",
    "        print(p, triple(g ,n))\n",
    "    p = P.next(p)     \n"
   ]
  },
  {
   "cell_type": "code",
   "execution_count": 28,
   "metadata": {
    "collapsed": false
   },
   "outputs": [
    {
     "name": "stdout",
     "output_type": "stream",
     "text": [
      "211 [263, 89, 61]\n"
     ]
    },
    {
     "name": "stdout",
     "output_type": "stream",
     "text": [
      "223 [211, 571, 29]\n"
     ]
    },
    {
     "name": "stdout",
     "output_type": "stream",
     "text": [
      "227 [359, 1031, 283]\n"
     ]
    },
    {
     "name": "stdout",
     "output_type": "stream",
     "text": [
      "239 [241, 1583, 73]\n"
     ]
    },
    {
     "name": "stdout",
     "output_type": "stream",
     "text": [
      "251 [1741, 307, 59]\n"
     ]
    },
    {
     "name": "stdout",
     "output_type": "stream",
     "text": [
      "263 [269, 761, 271]\n"
     ]
    },
    {
     "name": "stdout",
     "output_type": "stream",
     "text": [
      "271 [397, 227, 197]\n"
     ]
    },
    {
     "name": "stdout",
     "output_type": "stream",
     "text": [
      "283 [281, 683, 97]\n"
     ]
    },
    {
     "name": "stdout",
     "output_type": "stream",
     "text": [
      "307 [23, 127, 107]\n"
     ]
    },
    {
     "name": "stdout",
     "output_type": "stream",
     "text": [
      "311 [1249, 977, 157]\n"
     ]
    },
    {
     "name": "stdout",
     "output_type": "stream",
     "text": [
      "331 [463, 1543, 67]\n"
     ]
    },
    {
     "name": "stdout",
     "output_type": "stream",
     "text": [
      "347 [601, 599, 11]\n"
     ]
    },
    {
     "name": "stdout",
     "output_type": "stream",
     "text": [
      "359 [5783, 53, 383]\n"
     ]
    },
    {
     "name": "stdout",
     "output_type": "stream",
     "text": [
      "367 [223, 277, 37]\n"
     ]
    },
    {
     "name": "stdout",
     "output_type": "stream",
     "text": [
      "379 [263, 8221, 191]\n"
     ]
    },
    {
     "name": "stdout",
     "output_type": "stream",
     "text": [
      "383 [211, 457, 71]\n"
     ]
    },
    {
     "name": "stdout",
     "output_type": "stream",
     "text": [
      "419 [1873, 8699, 97]\n"
     ]
    },
    {
     "name": "stdout",
     "output_type": "stream",
     "text": [
      "431 [3011, 4621, 101]\n"
     ]
    },
    {
     "name": "stdout",
     "output_type": "stream",
     "text": [
      "439 [727, 1601, 11]\n"
     ]
    },
    {
     "name": "stdout",
     "output_type": "stream",
     "text": [
      "443 [613, 197, 157]\n"
     ]
    },
    {
     "name": "stdout",
     "output_type": "stream",
     "text": [
      "463 [4357, 1231, 7]\n"
     ]
    },
    {
     "name": "stdout",
     "output_type": "stream",
     "text": [
      "467 [3607, 857, 71]\n"
     ]
    },
    {
     "name": "stdout",
     "output_type": "stream",
     "text": [
      "479 [521, 827, 241]\n"
     ]
    },
    {
     "name": "stdout",
     "output_type": "stream",
     "text": [
      "487 [463, 197, 563]\n"
     ]
    },
    {
     "name": "stdout",
     "output_type": "stream",
     "text": [
      "491 [67, 569, 11]\n"
     ]
    },
    {
     "name": "stdout",
     "output_type": "stream",
     "text": [
      "499 [1571, 23, 83]\n"
     ]
    }
   ],
   "source": [
    "P=Primes()\n",
    "p = 200\n",
    "n=10**5\n",
    "while p < 500: \n",
    "    if p % 4 ==3:\n",
    "        g =reduced_fekete(p)\n",
    "        print(p, triple(g ,n))\n",
    "    p = P.next(p)  "
   ]
  },
  {
   "cell_type": "code",
   "execution_count": 29,
   "metadata": {
    "collapsed": false
   },
   "outputs": [
    {
     "name": "stdout",
     "output_type": "stream",
     "text": [
      "503 [229, 2039, 71]\n"
     ]
    },
    {
     "name": "stdout",
     "output_type": "stream",
     "text": [
      "523 [2237, 239, 109]\n"
     ]
    },
    {
     "name": "stdout",
     "output_type": "stream",
     "text": [
      "547 [1231, 4289, 149]\n"
     ]
    },
    {
     "name": "stdout",
     "output_type": "stream",
     "text": [
      "563 [1061, 631, 107]\n"
     ]
    },
    {
     "name": "stdout",
     "output_type": "stream",
     "text": [
      "571 [1861, 1699, 73]\n"
     ]
    },
    {
     "name": "stdout",
     "output_type": "stream",
     "text": [
      "587 [443, 311, 67]\n"
     ]
    },
    {
     "name": "stdout",
     "output_type": "stream",
     "text": [
      "599 [1433, 6143, 449]\n"
     ]
    },
    {
     "name": "stdout",
     "output_type": "stream",
     "text": [
      "607 [1747, 2131, 109]\n"
     ]
    },
    {
     "name": "stdout",
     "output_type": "stream",
     "text": [
      "619 [1747, 1619, 19]\n"
     ]
    },
    {
     "name": "stdout",
     "output_type": "stream",
     "text": [
      "631 [1013, 467, 199]\n"
     ]
    },
    {
     "name": "stdout",
     "output_type": "stream",
     "text": [
      "643 [4603, 1933, 223]\n"
     ]
    },
    {
     "name": "stdout",
     "output_type": "stream",
     "text": [
      "647 [643, 3931, 1217]\n"
     ]
    },
    {
     "name": "stdout",
     "output_type": "stream",
     "text": [
      "659 [1123, 937, 13]\n"
     ]
    },
    {
     "name": "stdout",
     "output_type": "stream",
     "text": [
      "683 [2713, 3533, 233]\n"
     ]
    },
    {
     "name": "stdout",
     "output_type": "stream",
     "text": [
      "691 [563, 4243, 67]\n"
     ]
    },
    {
     "name": "stdout",
     "output_type": "stream",
     "text": [
      "719 [593, 647, 41]\n"
     ]
    },
    {
     "name": "stdout",
     "output_type": "stream",
     "text": [
      "727 [2999, 601, 641]\n"
     ]
    },
    {
     "name": "stdout",
     "output_type": "stream",
     "text": [
      "739 [1481, 449, 29]\n"
     ]
    },
    {
     "name": "stdout",
     "output_type": "stream",
     "text": [
      "743 [1381, 1409, 239]\n"
     ]
    },
    {
     "name": "stdout",
     "output_type": "stream",
     "text": [
      "751 [4283, 3559, 587]\n"
     ]
    },
    {
     "name": "stdout",
     "output_type": "stream",
     "text": [
      "787 [14669, 1637, 277]\n"
     ]
    }
   ],
   "source": [
    "P=Primes()\n",
    "p = 500\n",
    "n=10**5\n",
    "while p < 800: \n",
    "    if p % 4 ==3:\n",
    "        g =reduced_fekete(p)\n",
    "        print(p, triple(g ,n))\n",
    "    p = P.next(p) "
   ]
  },
  {
   "cell_type": "code",
   "execution_count": 30,
   "metadata": {
    "collapsed": false
   },
   "outputs": [
    {
     "name": "stdout",
     "output_type": "stream",
     "text": [
      "811 [167, 1051, 43]\n"
     ]
    },
    {
     "name": "stdout",
     "output_type": "stream",
     "text": [
      "823 [811, 3557, 263]\n"
     ]
    },
    {
     "name": "stdout",
     "output_type": "stream",
     "text": [
      "827 [4463, 4019, 3]\n"
     ]
    },
    {
     "name": "stdout",
     "output_type": "stream",
     "text": [
      "839 [1879, 1531, 113]\n"
     ]
    },
    {
     "name": "stdout",
     "output_type": "stream",
     "text": [
      "859 [227, 673, 379]\n"
     ]
    },
    {
     "name": "stdout",
     "output_type": "stream",
     "text": [
      "863 [173, 1579, 41]\n"
     ]
    },
    {
     "name": "stdout",
     "output_type": "stream",
     "text": [
      "883 [3677, 3329, 97]\n"
     ]
    },
    {
     "name": "stdout",
     "output_type": "stream",
     "text": [
      "887 [197, 3697, 11]\n"
     ]
    },
    {
     "name": "stdout",
     "output_type": "stream",
     "text": [
      "907 [2539, 1801, 19]\n"
     ]
    },
    {
     "name": "stdout",
     "output_type": "stream",
     "text": [
      "911 [83, 7027, 283]\n"
     ]
    },
    {
     "name": "stdout",
     "output_type": "stream",
     "text": [
      "919 [719, 2579, 1571]\n"
     ]
    },
    {
     "name": "stdout",
     "output_type": "stream",
     "text": [
      "947 [4457, 3251, 151]\n"
     ]
    },
    {
     "name": "stdout",
     "output_type": "stream",
     "text": [
      "967 [8297, 3001, 17]\n"
     ]
    },
    {
     "name": "stdout",
     "output_type": "stream",
     "text": [
      "971 [9883, 29, 17]\n"
     ]
    },
    {
     "name": "stdout",
     "output_type": "stream",
     "text": [
      "983 [37, 5407, 23]\n"
     ]
    },
    {
     "name": "stdout",
     "output_type": "stream",
     "text": [
      "991 [2251, 5279, 7]\n"
     ]
    }
   ],
   "source": [
    "P=Primes()\n",
    "p = 800\n",
    "n=10**5\n",
    "while p < 1000: \n",
    "    if p % 4 ==3:\n",
    "        g =reduced_fekete(p)\n",
    "        print(p, triple(g ,n))\n",
    "    p = P.next(p) "
   ]
  },
  {
   "cell_type": "code",
   "execution_count": 31,
   "metadata": {
    "collapsed": false
   },
   "outputs": [
    {
     "name": "stdout",
     "output_type": "stream",
     "text": [
      "1019 [1609, 1381, 373]\n"
     ]
    },
    {
     "name": "stdout",
     "output_type": "stream",
     "text": [
      "1031 [7177, 317, 263]\n"
     ]
    },
    {
     "name": "stdout",
     "output_type": "stream",
     "text": [
      "1039 [5087, 3607, 101]\n"
     ]
    },
    {
     "name": "stdout",
     "output_type": "stream",
     "text": [
      "1051 [1087, 8353, 193]\n"
     ]
    },
    {
     "name": "stdout",
     "output_type": "stream",
     "text": [
      "1063 [2423, 1783, 37]\n"
     ]
    },
    {
     "name": "stdout",
     "output_type": "stream",
     "text": [
      "1087 [97, 7753, 1213]\n"
     ]
    },
    {
     "name": "stdout",
     "output_type": "stream",
     "text": [
      "1091 [2399, 1999, 5]\n"
     ]
    },
    {
     "name": "stdout",
     "output_type": "stream",
     "text": [
      "1103 [7, 1151, 83]\n"
     ]
    },
    {
     "name": "stdout",
     "output_type": "stream",
     "text": [
      "1123 [4973, 5471, 673]\n"
     ]
    },
    {
     "name": "stdout",
     "output_type": "stream",
     "text": [
      "1151 [12203, 149, 13]\n"
     ]
    },
    {
     "name": "stdout",
     "output_type": "stream",
     "text": [
      "1163 [1103, 18637, 1187]\n"
     ]
    },
    {
     "name": "stdout",
     "output_type": "stream",
     "text": [
      "1171 [1871, 757, 61]\n"
     ]
    },
    {
     "name": "stdout",
     "output_type": "stream",
     "text": [
      "1187 [5503, 4021, 83]\n"
     ]
    },
    {
     "name": "stdout",
     "output_type": "stream",
     "text": [
      "1223 [887, 4421, 643]\n"
     ]
    },
    {
     "name": "stdout",
     "output_type": "stream",
     "text": [
      "1231 [4919, 5717, 61]\n"
     ]
    },
    {
     "name": "stdout",
     "output_type": "stream",
     "text": [
      "1259 [1367, 2767, 71]\n"
     ]
    },
    {
     "name": "stdout",
     "output_type": "stream",
     "text": [
      "1279 [1697, 8287, 269]\n"
     ]
    },
    {
     "name": "stdout",
     "output_type": "stream",
     "text": [
      "1283 [7523, 7, 83]\n"
     ]
    },
    {
     "name": "stdout",
     "output_type": "stream",
     "text": [
      "1291 [241, 5227, 173]\n"
     ]
    },
    {
     "name": "stdout",
     "output_type": "stream",
     "text": [
      "1303 [6653, 2503, 43]\n"
     ]
    },
    {
     "name": "stdout",
     "output_type": "stream",
     "text": [
      "1307 [673, 929, 223]\n"
     ]
    },
    {
     "name": "stdout",
     "output_type": "stream",
     "text": [
      "1319 [14783, 3823, 457]\n"
     ]
    },
    {
     "name": "stdout",
     "output_type": "stream",
     "text": [
      "1327 [7901, 14537, 79]\n"
     ]
    }
   ],
   "source": [
    "P=Primes()\n",
    "p = 1000\n",
    "n=10**5\n",
    "while p < 1500: \n",
    "    if p % 4 ==3:\n",
    "        g =reduced_fekete(p)\n",
    "        print(p, triple(g ,n))\n",
    "    p = P.next(p) "
   ]
  },
  {
   "cell_type": "code",
   "execution_count": 4,
   "metadata": {
    "collapsed": false
   },
   "outputs": [
    {
     "name": "stdout",
     "output_type": "stream",
     "text": [
      "1367 [8623, 11317, 139]\n"
     ]
    },
    {
     "name": "stdout",
     "output_type": "stream",
     "text": [
      "1399 [1531, 379, 443]\n"
     ]
    },
    {
     "name": "stdout",
     "output_type": "stream",
     "text": [
      "1423 [14281, 3947, 199]\n"
     ]
    },
    {
     "name": "stdout",
     "output_type": "stream",
     "text": [
      "1427 [6271, 733, 271]\n"
     ]
    },
    {
     "name": "stdout",
     "output_type": "stream",
     "text": [
      "1439 [557, 1021, 821]\n"
     ]
    },
    {
     "name": "stdout",
     "output_type": "stream",
     "text": [
      "1447 [433, 179, 1523]\n"
     ]
    },
    {
     "name": "stdout",
     "output_type": "stream",
     "text": [
      "1451 [1979, 7159, 127]\n"
     ]
    },
    {
     "name": "stdout",
     "output_type": "stream",
     "text": [
      "1459 [599, 5849, 499]\n"
     ]
    },
    {
     "name": "stdout",
     "output_type": "stream",
     "text": [
      "1471 [251, 709, 409]\n"
     ]
    },
    {
     "name": "stdout",
     "output_type": "stream",
     "text": [
      "1483 [257, 157, 193]\n"
     ]
    },
    {
     "name": "stdout",
     "output_type": "stream",
     "text": [
      "1487 [379, 9929, 59]\n"
     ]
    },
    {
     "name": "stdout",
     "output_type": "stream",
     "text": [
      "1499 [661, 11437, 397]\n"
     ]
    }
   ],
   "source": [
    "P=Primes()\n",
    "p = 1328\n",
    "n=10**5\n",
    "while p < 1500: \n",
    "    if p % 4 ==3:\n",
    "        g =reduced_fekete(p)\n",
    "        print(p, triple(g ,n))\n",
    "    p = P.next(p) "
   ]
  },
  {
   "cell_type": "code",
   "execution_count": 5,
   "metadata": {
    "collapsed": false
   },
   "outputs": [
    {
     "name": "stdout",
     "output_type": "stream",
     "text": [
      "1511 [2161, 1993, 3]\n"
     ]
    },
    {
     "name": "stdout",
     "output_type": "stream",
     "text": [
      "1523 [3259, 26539, 41]\n"
     ]
    },
    {
     "name": "stdout",
     "output_type": "stream",
     "text": [
      "1531 [8461, 4817, 31]\n"
     ]
    },
    {
     "name": "stdout",
     "output_type": "stream",
     "text": [
      "1543 [6907, 53, 337]\n"
     ]
    },
    {
     "name": "stdout",
     "output_type": "stream",
     "text": [
      "1559 [10243, 8647, 107]\n"
     ]
    },
    {
     "name": "stdout",
     "output_type": "stream",
     "text": [
      "1567 [4801, 6037, 47]\n"
     ]
    },
    {
     "name": "stdout",
     "output_type": "stream",
     "text": [
      "1571 [37, 7103, 71]\n"
     ]
    },
    {
     "name": "stdout",
     "output_type": "stream",
     "text": [
      "1579 [599, 103, 1693]\n"
     ]
    },
    {
     "name": "stdout",
     "output_type": "stream",
     "text": [
      "1583 [3607, 3347, 347]\n"
     ]
    },
    {
     "name": "stdout",
     "output_type": "stream",
     "text": [
      "1607 [17389, 43, 223]\n"
     ]
    },
    {
     "name": "stdout",
     "output_type": "stream",
     "text": [
      "1619 [3187, 5741, 41]\n"
     ]
    }
   ],
   "source": [
    "P=Primes()\n",
    "p = 1500\n",
    "n=10**5\n",
    "while p < 1700: \n",
    "    if p % 4 ==3:\n",
    "        g =reduced_fekete(p)\n",
    "        print(p, triple(g ,n))\n",
    "    p = P.next(p) "
   ]
  },
  {
   "cell_type": "markdown",
   "metadata": {
    "collapsed": false
   },
   "source": [
    "# Discrimiant of f "
   ]
  },
  {
   "cell_type": "code",
   "execution_count": 10,
   "metadata": {
    "collapsed": false
   },
   "outputs": [
    {
     "data": {
      "text/plain": [
       "1676096956016"
      ]
     },
     "execution_count": 10,
     "metadata": {
     },
     "output_type": "execute_result"
    }
   ],
   "source": [
    "p=19 \n",
    "f =fekete(p)\n",
    "sqrt(f.discriminant())"
   ]
  },
  {
   "cell_type": "code",
   "execution_count": 8,
   "metadata": {
    "collapsed": false
   },
   "outputs": [
    {
     "name": "stdout",
     "output_type": "stream",
     "text": [
      "11 False\n",
      "19 True\n",
      "23 False\n",
      "31 False\n",
      "43 False\n",
      "47 False\n",
      "59 False\n",
      "67 False\n",
      "71 False\n",
      "79 False\n",
      "83 False\n",
      "103 False\n",
      "107 False\n",
      "127 False\n",
      "131 False\n",
      "139 False\n",
      "151 False\n",
      "163 False\n",
      "167 False\n",
      "179 False\n",
      "191 False\n",
      "199 False\n",
      "211 False\n",
      "223 False\n"
     ]
    },
    {
     "name": "stdout",
     "output_type": "stream",
     "text": [
      "227 False\n",
      "239 False\n",
      "251 False\n",
      "263 False\n",
      "271 False\n",
      "283 False\n"
     ]
    },
    {
     "name": "stdout",
     "output_type": "stream",
     "text": [
      "307 False\n",
      "311 False\n",
      "331 False\n",
      "347 False\n",
      "359 False\n"
     ]
    },
    {
     "name": "stdout",
     "output_type": "stream",
     "text": [
      "367 False\n",
      "379 False\n",
      "383 False\n",
      "419 False\n"
     ]
    },
    {
     "name": "stdout",
     "output_type": "stream",
     "text": [
      "431 False\n",
      "439 False\n",
      "443 False\n",
      "463 False\n",
      "467 False\n",
      "479 False\n"
     ]
    },
    {
     "name": "stdout",
     "output_type": "stream",
     "text": [
      "487 False\n",
      "491 False\n",
      "499 False\n"
     ]
    }
   ],
   "source": [
    "P=Primes()\n",
    "p = 11\n",
    "while p < 500: \n",
    "    if p % 4 ==3:\n",
    "        f = fekete(p)\n",
    "        print(p, f.discriminant().is_square())\n",
    "    p = P.next(p)  "
   ]
  },
  {
   "cell_type": "markdown",
   "metadata": {
    "collapsed": false
   },
   "source": [
    "## Two cycle in the Galois group of "
   ]
  },
  {
   "cell_type": "code",
   "execution_count": 4,
   "metadata": {
    "collapsed": false
   },
   "outputs": [
    {
     "name": "stdout",
     "output_type": "stream",
     "text": [
      "[11, 97]\n"
     ]
    },
    {
     "name": "stdout",
     "output_type": "stream",
     "text": [
      "[19, -1]\n",
      "[23, 163]\n"
     ]
    },
    {
     "name": "stdout",
     "output_type": "stream",
     "text": [
      "[31, 353]\n",
      "[43, 59]\n"
     ]
    },
    {
     "name": "stdout",
     "output_type": "stream",
     "text": [
      "[47, 599]\n"
     ]
    },
    {
     "name": "stdout",
     "output_type": "stream",
     "text": [
      "[59, 809]\n"
     ]
    },
    {
     "name": "stdout",
     "output_type": "stream",
     "text": [
      "[67, 457]\n"
     ]
    },
    {
     "name": "stdout",
     "output_type": "stream",
     "text": [
      "[71, 1553]\n"
     ]
    },
    {
     "name": "stdout",
     "output_type": "stream",
     "text": [
      "[79, 1171]\n"
     ]
    },
    {
     "name": "stdout",
     "output_type": "stream",
     "text": [
      "[83, 1597]\n",
      "CPU times: user 18.6 s, sys: 316 ms, total: 18.9 s\n",
      "Wall time: 39.7 s\n"
     ]
    }
   ],
   "source": [
    "%%time\n",
    "P=Primes()\n",
    "p = 7\n",
    "n=10**5\n",
    "while p < 100: \n",
    "    p = P.next(p)\n",
    "    if p % 4 ==3:\n",
    "        f = fekete(p)\n",
    "        print([p, two_cycle(f ,n)])"
   ]
  },
  {
   "cell_type": "code",
   "execution_count": 5,
   "metadata": {
    "collapsed": false
   },
   "outputs": [
    {
     "name": "stdout",
     "output_type": "stream",
     "text": [
      "[103, 37]\n",
      "[107, 29]\n"
     ]
    },
    {
     "name": "stdout",
     "output_type": "stream",
     "text": [
      "[127, 53]\n",
      "[131, 271]\n"
     ]
    },
    {
     "name": "stdout",
     "output_type": "stream",
     "text": [
      "[139, 577]\n"
     ]
    },
    {
     "name": "stdout",
     "output_type": "stream",
     "text": [
      "[151, 541]\n"
     ]
    },
    {
     "name": "stdout",
     "output_type": "stream",
     "text": [
      "[163, 349]\n"
     ]
    },
    {
     "name": "stdout",
     "output_type": "stream",
     "text": [
      "[167, 719]\n",
      "[179, 41]\n"
     ]
    },
    {
     "name": "stdout",
     "output_type": "stream",
     "text": [
      "[191, 197]\n"
     ]
    },
    {
     "name": "stdout",
     "output_type": "stream",
     "text": [
      "[199, 167]\n"
     ]
    },
    {
     "name": "stdout",
     "output_type": "stream",
     "text": [
      "[211, 1571]\n"
     ]
    },
    {
     "name": "stdout",
     "output_type": "stream",
     "text": [
      "[223, 269]\n"
     ]
    },
    {
     "name": "stdout",
     "output_type": "stream",
     "text": [
      "[227, 907]\n"
     ]
    },
    {
     "name": "stdout",
     "output_type": "stream",
     "text": [
      "[239, 151]\n"
     ]
    },
    {
     "name": "stdout",
     "output_type": "stream",
     "text": [
      "[251, 1289]\n"
     ]
    },
    {
     "name": "stdout",
     "output_type": "stream",
     "text": [
      "[263, 997]\n"
     ]
    },
    {
     "name": "stdout",
     "output_type": "stream",
     "text": [
      "[271, 3019]\n"
     ]
    },
    {
     "name": "stdout",
     "output_type": "stream",
     "text": [
      "[283, 3167]\n"
     ]
    },
    {
     "name": "stdout",
     "output_type": "stream",
     "text": [
      "[307, 7109]\n",
      "CPU times: user 1min 42s, sys: 176 ms, total: 1min 43s\n",
      "Wall time: 3min 33s\n"
     ]
    }
   ],
   "source": [
    "%%time\n",
    "P=Primes()\n",
    "p = 100\n",
    "n=10**5\n",
    "while p < 300: \n",
    "    p = P.next(p)\n",
    "    if p % 4 ==3:\n",
    "        f = fekete(p)\n",
    "        print([p, two_cycle(f ,n)])"
   ]
  },
  {
   "cell_type": "code",
   "execution_count": 6,
   "metadata": {
    "collapsed": false
   },
   "outputs": [
    {
     "name": "stdout",
     "output_type": "stream",
     "text": [
      "[307, 7109]\n"
     ]
    },
    {
     "name": "stdout",
     "output_type": "stream",
     "text": [
      "[311, 1277]\n"
     ]
    },
    {
     "name": "stdout",
     "output_type": "stream",
     "text": [
      "[331, 2689]\n"
     ]
    },
    {
     "name": "stdout",
     "output_type": "stream",
     "text": [
      "[347, 2339]\n"
     ]
    },
    {
     "name": "stdout",
     "output_type": "stream",
     "text": [
      "[359, 3583]\n"
     ]
    },
    {
     "name": "stdout",
     "output_type": "stream",
     "text": [
      "[367, 8101]\n"
     ]
    },
    {
     "name": "stdout",
     "output_type": "stream",
     "text": [
      "[379, 6563]\n"
     ]
    },
    {
     "name": "stdout",
     "output_type": "stream",
     "text": [
      "[383, 4871]\n"
     ]
    },
    {
     "name": "stdout",
     "output_type": "stream",
     "text": [
      "[419, 4177]\n"
     ]
    },
    {
     "name": "stdout",
     "output_type": "stream",
     "text": [
      "[431, 4013]\n"
     ]
    },
    {
     "name": "stdout",
     "output_type": "stream",
     "text": [
      "[439, 1601]\n"
     ]
    },
    {
     "name": "stdout",
     "output_type": "stream",
     "text": [
      "[443, 271]\n"
     ]
    },
    {
     "name": "stdout",
     "output_type": "stream",
     "text": [
      "[463, 137]\n"
     ]
    },
    {
     "name": "stdout",
     "output_type": "stream",
     "text": [
      "[467, 4513]\n"
     ]
    }
   ],
   "source": [
    "%%time\n",
    "P=Primes()\n",
    "p = 300\n",
    "n=10**5\n",
    "while p < 500: \n",
    "    p = P.next(p)\n",
    "    if p % 4 ==3:\n",
    "        f = fekete(p)\n",
    "        print([p, two_cycle(f ,n)])"
   ]
  },
  {
   "cell_type": "code",
   "execution_count": 3,
   "metadata": {
    "collapsed": false
   },
   "outputs": [
    {
     "name": "stdout",
     "output_type": "stream",
     "text": [
      "[479, 4253]\n"
     ]
    },
    {
     "name": "stdout",
     "output_type": "stream",
     "text": [
      "[487, 1871]\n"
     ]
    },
    {
     "name": "stdout",
     "output_type": "stream",
     "text": [
      "[491, 7727]\n"
     ]
    },
    {
     "name": "stdout",
     "output_type": "stream",
     "text": [
      "[499, 1291]\n"
     ]
    },
    {
     "name": "stdout",
     "output_type": "stream",
     "text": [
      "[503, 4219]\n"
     ]
    },
    {
     "name": "stdout",
     "output_type": "stream",
     "text": [
      "[523, 239]\n"
     ]
    },
    {
     "name": "stdout",
     "output_type": "stream",
     "text": [
      "[547, 4289]\n"
     ]
    },
    {
     "name": "stdout",
     "output_type": "stream",
     "text": [
      "[563, 631]\n"
     ]
    },
    {
     "name": "stdout",
     "output_type": "stream",
     "text": [
      "[571, 83]\n"
     ]
    },
    {
     "name": "stdout",
     "output_type": "stream",
     "text": [
      "[587, 311]\n"
     ]
    },
    {
     "name": "stdout",
     "output_type": "stream",
     "text": [
      "[599, 491]\n",
      "CPU times: user 8min 30s, sys: 568 ms, total: 8min 31s\n",
      "Wall time: 8min 45s\n"
     ]
    }
   ],
   "source": [
    "%%time\n",
    "P=Primes()\n",
    "p = 467\n",
    "n=10**5\n",
    "while p < 600: \n",
    "    p = P.next(p)\n",
    "    if p % 4 ==3:\n",
    "        f = fekete(p)\n",
    "        print([p, two_cycle(f ,n)])"
   ]
  },
  {
   "cell_type": "code",
   "execution_count": 4,
   "metadata": {
    "collapsed": false
   },
   "outputs": [
    {
     "name": "stdout",
     "output_type": "stream",
     "text": [
      "[607, 4157]\n"
     ]
    },
    {
     "name": "stdout",
     "output_type": "stream",
     "text": [
      "[619, 2143]\n"
     ]
    },
    {
     "name": "stdout",
     "output_type": "stream",
     "text": [
      "[631, 6271]\n"
     ]
    },
    {
     "name": "stdout",
     "output_type": "stream",
     "text": [
      "[643, 7541]\n"
     ]
    },
    {
     "name": "stdout",
     "output_type": "stream",
     "text": [
      "[647, 3911]\n"
     ]
    },
    {
     "name": "stdout",
     "output_type": "stream",
     "text": [
      "[659, 2851]\n"
     ]
    },
    {
     "name": "stdout",
     "output_type": "stream",
     "text": [
      "[683, 2957]\n"
     ]
    },
    {
     "name": "stdout",
     "output_type": "stream",
     "text": [
      "[691, 5923]\n"
     ]
    },
    {
     "name": "stdout",
     "output_type": "stream",
     "text": [
      "[719, 647]\n"
     ]
    },
    {
     "name": "stdout",
     "output_type": "stream",
     "text": [
      "[727, 601]\n"
     ]
    },
    {
     "name": "stdout",
     "output_type": "stream",
     "text": [
      "[739, 1741]\n"
     ]
    },
    {
     "name": "stdout",
     "output_type": "stream",
     "text": [
      "[743, 1481]\n"
     ]
    },
    {
     "name": "stdout",
     "output_type": "stream",
     "text": [
      "[751, 3559]\n"
     ]
    },
    {
     "name": "stdout",
     "output_type": "stream",
     "text": [
      "[787, 6803]\n",
      "CPU times: user 33min 27s, sys: 1.63 s, total: 33min 29s\n",
      "Wall time: 34min 15s\n"
     ]
    }
   ],
   "source": [
    "%%time\n",
    "P=Primes()\n",
    "p = 600\n",
    "n=10**5\n",
    "while p < 800: \n",
    "    p = P.next(p)\n",
    "    if p % 4 ==3:\n",
    "        f = fekete(p)\n",
    "        print([p, two_cycle(f ,n)])"
   ]
  },
  {
   "cell_type": "code",
   "execution_count": 5,
   "metadata": {
    "collapsed": false
   },
   "outputs": [
    {
     "name": "stdout",
     "output_type": "stream",
     "text": [
      "[811, 1249]\n"
     ]
    },
    {
     "name": "stdout",
     "output_type": "stream",
     "text": [
      "[823, 9619]\n"
     ]
    },
    {
     "name": "stdout",
     "output_type": "stream",
     "text": [
      "[827, 4673]\n"
     ]
    },
    {
     "name": "stdout",
     "output_type": "stream",
     "text": [
      "[839, 347]\n"
     ]
    },
    {
     "name": "stdout",
     "output_type": "stream",
     "text": [
      "[859, 12823]\n"
     ]
    },
    {
     "name": "stdout",
     "output_type": "stream",
     "text": [
      "[863, 271]\n"
     ]
    },
    {
     "name": "stdout",
     "output_type": "stream",
     "text": [
      "[883, 827]\n"
     ]
    },
    {
     "name": "stdout",
     "output_type": "stream",
     "text": [
      "[887, 2857]\n"
     ]
    },
    {
     "name": "stdout",
     "output_type": "stream",
     "text": [
      "[907, 1801]\n",
      "CPU times: user 38min 29s, sys: 1.54 s, total: 38min 31s\n",
      "Wall time: 39min 18s\n"
     ]
    }
   ],
   "source": [
    "%%time\n",
    "P=Primes()\n",
    "p = 800\n",
    "n=10**5\n",
    "while p < 900: \n",
    "    p = P.next(p)\n",
    "    if p % 4 ==3:\n",
    "        f = fekete(p)\n",
    "        print([p, two_cycle(f ,n)])"
   ]
  },
  {
   "cell_type": "code",
   "execution_count": 7,
   "metadata": {
    "collapsed": false
   },
   "outputs": [
    {
     "name": "stdout",
     "output_type": "stream",
     "text": [
      "[911, 1823]\n"
     ]
    },
    {
     "name": "stdout",
     "output_type": "stream",
     "text": [
      "[919, 2579]\n"
     ]
    },
    {
     "name": "stdout",
     "output_type": "stream",
     "text": [
      "[947, 26641]\n"
     ]
    },
    {
     "name": "stdout",
     "output_type": "stream",
     "text": [
      "[967, 761]\n"
     ]
    }
   ],
   "source": [
    "%%time\n",
    "P=Primes()\n",
    "p = 907\n",
    "n=10**5\n",
    "while p < 1000: \n",
    "    p = P.next(p)\n",
    "    if p % 4 ==3:\n",
    "        f = fekete(p)\n",
    "        print([p, two_cycle(f ,n)])"
   ]
  },
  {
   "cell_type": "code",
   "execution_count": 4,
   "metadata": {
    "collapsed": false
   },
   "outputs": [
    {
     "name": "stdout",
     "output_type": "stream",
     "text": [
      "[971, 2029]\n"
     ]
    },
    {
     "name": "stdout",
     "output_type": "stream",
     "text": [
      "[983, 2767]\n"
     ]
    },
    {
     "name": "stdout",
     "output_type": "stream",
     "text": [
      "[991, 11059]\n",
      "CPU times: user 26min 23s, sys: 2.69 s, total: 26min 25s\n",
      "Wall time: 27min 19s\n"
     ]
    }
   ],
   "source": [
    "%%time\n",
    "P=Primes()\n",
    "p = 967\n",
    "n=10**5\n",
    "while p < 1000: \n",
    "    p = P.next(p)\n",
    "    if p % 4 ==3:\n",
    "        f = fekete(p)\n",
    "        print([p, two_cycle(f ,n)])"
   ]
  },
  {
   "cell_type": "code",
   "execution_count": 0,
   "metadata": {
    "collapsed": false
   },
   "outputs": [
   ],
   "source": [
    "%%time\n",
    "P=Primes()\n",
    "p = 967\n",
    "n=10**5\n",
    "while p < 1000: \n",
    "    p = P.next(p)\n",
    "    if p % 4 ==3:\n",
    "        f = fekete(p)\n",
    "        print([p, two_cycle(f ,n)])"
   ]
  },
  {
   "cell_type": "code",
   "execution_count": 5,
   "metadata": {
    "collapsed": false
   },
   "outputs": [
    {
     "name": "stdout",
     "output_type": "stream",
     "text": [
      "[1019, 1493]\n"
     ]
    },
    {
     "name": "stdout",
     "output_type": "stream",
     "text": [
      "[1031, 317]\n"
     ]
    },
    {
     "name": "stdout",
     "output_type": "stream",
     "text": [
      "[1039, 2671]\n"
     ]
    },
    {
     "name": "stdout",
     "output_type": "stream",
     "text": [
      "[1051, 7069]\n"
     ]
    },
    {
     "name": "stdout",
     "output_type": "stream",
     "text": [
      "[1063, 4261]\n"
     ]
    },
    {
     "name": "stdout",
     "output_type": "stream",
     "text": [
      "[1087, 3163]\n"
     ]
    },
    {
     "name": "stdout",
     "output_type": "stream",
     "text": [
      "[1091, 2281]\n"
     ]
    },
    {
     "name": "stdout",
     "output_type": "stream",
     "text": [
      "[1103, 421]\n",
      "CPU times: user 48min 10s, sys: 5.11 s, total: 48min 15s\n",
      "Wall time: 1h 28min 54s\n"
     ]
    }
   ],
   "source": [
    "%%time\n",
    "P=Primes()\n",
    "p = 1000\n",
    "n=10**5\n",
    "while p < 1100: \n",
    "    p = P.next(p)\n",
    "    if p % 4 ==3:\n",
    "        f = fekete(p)\n",
    "        print([p, two_cycle(f ,n)])"
   ]
  },
  {
   "cell_type": "code",
   "execution_count": 0,
   "metadata": {
    "collapsed": false
   },
   "outputs": [
   ],
   "source": [
   ]
  }
 ],
 "metadata": {
  "kernelspec": {
   "argv": [
    "sage-9.4",
    "--python",
    "-m",
    "sage.repl.ipython_kernel",
    "--matplotlib=inline",
    "-f",
    "{connection_file}"
   ],
   "display_name": "SageMath 9.4",
   "env": {
   },
   "language": "sagemath",
   "metadata": {
    "cocalc": {
     "description": "Open-source mathematical software system",
     "priority": 1,
     "url": "https://www.sagemath.org/"
    }
   },
   "name": "sage-9.4",
   "resource_dir": "/ext/jupyter/kernels/sage-9.4"
  },
  "language_info": {
   "codemirror_mode": {
    "name": "ipython",
    "version": 3
   },
   "file_extension": ".py",
   "mimetype": "text/x-python",
   "name": "python",
   "nbconvert_exporter": "python",
   "pygments_lexer": "ipython3",
   "version": "3.9.5"
  }
 },
 "nbformat": 4,
 "nbformat_minor": 4
}