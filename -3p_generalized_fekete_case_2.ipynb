{
 "cells": [
  {
   "cell_type": "code",
   "execution_count": 1,
   "metadata": {
    "collapsed": false
   },
   "outputs": [
   ],
   "source": [
    "R.<x> = PolynomialRing(ZZ)\n",
    "from sage.rings.polynomial.cyclotomic import cyclotomic_coeffs\n",
    "S = ZZ['x']"
   ]
  },
  {
   "cell_type": "code",
   "execution_count": 2,
   "metadata": {
    "collapsed": false
   },
   "outputs": [
   ],
   "source": [
    "def raw_fekete(d):\n",
    "    \"Fekete polynomial with Delta odd \"\n",
    "    if d>0: \n",
    "        D=abs(d)\n",
    "        v=[kronecker(d, a+1) for a in range(0,D-1)]\n",
    "        F_D=R(v)\n",
    "        return F_D*x\n",
    "    else:\n",
    "        D=abs(d)\n",
    "        v=[kronecker(d, a+1) for a in range(0,D-1)]\n",
    "        F_D=-R(v)\n",
    "        return F_D*x\n",
    "        \n",
    "    \n",
    "\n",
    "def fekete(p):\n",
    "    #compute f_p(x) \n",
    "    F_D=raw_fekete(-3*p)\n",
    "    phi_1= S(cyclotomic_coeffs(1))\n",
    "    phi_3= S(cyclotomic_coeffs(3))\n",
    "    phi_p= S(cyclotomic_coeffs(p))\n",
    "    \n",
    "    factor = -x* (phi_1) * (phi_3)* phi_p \n",
    "    \n",
    "    f,r =F_D.quo_rem(factor) \n",
    "    return f\n",
    "    \n",
    "    \n",
    "    \n",
    "def reduced_fekete(d):\n",
    "    f=fekete(d)\n",
    "    u=f.trace_polynomial()\n",
    "    g_D=u[0]\n",
    "    return g_D\n",
    "\n",
    "def fekete_reduction(f, q):\n",
    "    f=f.change_ring(GF(q))\n",
    "    return f.factor()        \n",
    "\n",
    "def reduced_fekete_reduction(g,q):\n",
    "    g=g.change_ring(GF(q))\n",
    "    return g.factor()\n",
    "\n",
    "\n",
    "def two_four_cycle(f,q):\n",
    "    factor = fekete_reduction(f,q)\n",
    "    number_of_factor = len(factor)\n",
    "    #check that f is separable modulo q\n",
    "    for i in range(number_of_factor):\n",
    "        if factor[i][1] >1:\n",
    "            return False\n",
    "    number_two_cycle =0 \n",
    "    number_four_cycle =0 \n",
    "    number_even_cycle =0\n",
    "    for i in range(number_of_factor):\n",
    "        if factor[i][0].degree() ==2:\n",
    "            number_two_cycle +=1\n",
    "        if factor[i][0].degree() == 4:\n",
    "            number_four_cycle +=1 \n",
    "        if factor[i][0].degree() % 2 ==0:\n",
    "            number_even_cycle +=1\n",
    "    if number_two_cycle ==1 and number_four_cycle ==1 and number_even_cycle ==2:\n",
    "        return True\n",
    "    return False\n",
    "            \n",
    "    \n",
    "def search_two_four_cycle(f,n):\n",
    "    for q in range(n):\n",
    "        if is_prime(q):\n",
    "            if two_four_cycle(f,q):\n",
    "                return q\n",
    "    return -1         \n",
    "\n",
    "\n",
    "def search_two_four_cycle_2(f,m,n):\n",
    "    for q in range(m,n):\n",
    "        if is_prime(q):\n",
    "            if two_four_cycle(f,q):\n",
    "                return q\n",
    "    return -1      \n",
    "    \n",
    "    \n",
    "def almost_cycle(f,n):\n",
    "    for q in range(n):\n",
    "        if is_prime(q): \n",
    "            factor=fekete_reduction(f,q)\n",
    "            if len(factor)==3: \n",
    "                factor1=factor[0][0]\n",
    "                factor2=factor[1][0]\n",
    "                degree1=factor1.degree()\n",
    "                degree2=factor2.degree()\n",
    "                if degree1==1 and degree2==1 and factor[0][1]==1 and factor[1][1]==1 and factor[2][1]==1: \n",
    "                    return q\n",
    "    return  -1         \n",
    "                \n",
    "def irreducible(f,n):\n",
    "    for q in range(n):\n",
    "        if is_prime(q): \n",
    "            factor=fekete_reduction(f,q)\n",
    "            if len(factor)==1 and factor[0][1]==1:\n",
    "                    return q\n",
    "    return  -1         \n",
    "                \n",
    "       \n",
    "    \n",
    "def length_test_2(v):\n",
    "    #count the number of even entries in v\n",
    "    count2=0\n",
    "    for item in v:\n",
    "        if item==2:\n",
    "            count2 +=1\n",
    "    count_even=0     \n",
    "    for item in v:        \n",
    "        if item %2 ==0:\n",
    "            count_even +=1\n",
    "    if count2==count_even==1:\n",
    "        return True\n",
    "    return False    \n",
    "\n",
    "def length_test_4(v):\n",
    "    #count the number of even entries in v\n",
    "    count4=0\n",
    "    for item in v:\n",
    "        if item==4:\n",
    "            count4 +=1\n",
    "    count_even=0     \n",
    "    for item in v:        \n",
    "        if item %2 ==0:\n",
    "            count_even +=1\n",
    "    if count4==count_even==1:\n",
    "        return True\n",
    "    return False    \n",
    "\n",
    "    \n",
    "def two_cycle(f,n):\n",
    "    result=[]\n",
    "    for q in range(n):\n",
    "        v=[]\n",
    "        if is_prime(q):\n",
    "            factor=fekete_reduction(f,q)\n",
    "            for item in factor:\n",
    "                v.append(item[0].degree())\n",
    "        if sum(v)==f.degree() and length_test_2(v):\n",
    "            return q\n",
    "    return -1 \n",
    "\n",
    "\n",
    "def two_cycle_2(f,m,n):\n",
    "    result=[]\n",
    "    for q in range(m,n):\n",
    "        v=[]\n",
    "        if is_prime(q):\n",
    "            factor=fekete_reduction(f,q)\n",
    "            for item in factor:\n",
    "                v.append(item[0].degree())\n",
    "        if sum(v)==f.degree() and length_test_2(v):\n",
    "            return q\n",
    "    return -1  \n",
    "\n",
    "def four_cycle(f,n):\n",
    "    result=[]\n",
    "    for q in range(n):\n",
    "        v=[]\n",
    "        if is_prime(q):\n",
    "            factor=fekete_reduction(f,q)\n",
    "            for item in factor:\n",
    "                v.append(item[0].degree())\n",
    "        if sum(v)==f.degree() and length_test_4(v):\n",
    "            return q\n",
    "    return -1  \n",
    "\n",
    "def cycle(g,n):\n",
    "    for q in range(n):\n",
    "        if is_prime(q): \n",
    "            factor=fekete_reduction(g,q)\n",
    "            if len(factor)==2: \n",
    "                factor1=factor[0][0]\n",
    "                coef=factor1.degree()\n",
    "                if coef==1 and factor[0][1]==1 and factor[1][1]==1: \n",
    "                                   return q\n",
    "    return  -1   \n",
    "                    \n",
    "\n",
    "                    \n",
    "def search_quadruple(f,n):\n",
    "    irr=irreducible(f,n)\n",
    "    print(f\"f is irreducible at q= \", irr)\n",
    "    q_cycle=almost_cycle(f,n)\n",
    "    print(f\"f has an (2m-2) cycle at q=\", q_cycle)\n",
    "    q_tranposition=two_cycle(f,n)\n",
    "    print(f\"f has an 2-cycle at q=\", q_tranposition)\n",
    "    q_four_cycle=four_cycle(f,n)\n",
    "    print(f\"f has an 4-cycle at q=\", q_four_cycle)\n",
    "    \n",
    "\n",
    "def quadruple(f,n):\n",
    "    irr=irreducible(f,n)\n",
    "    q_cycle=almost_cycle(f,n)\n",
    "    q_tranposition=two_cycle(f,n)\n",
    "    q_four_cycle=four_cycle(f,n)\n",
    "    result=(irr, q_cycle, q_tranposition, q_four_cycle)\n",
    "    return result\n",
    "    \n",
    "    \n",
    "def triple(g,n):\n",
    "    irr=irreducible(g,n)\n",
    "    q_cycle=cycle(g,n)\n",
    "    q_tranposition=two_cycle(g,n)\n",
    "    result=[irr, q_cycle, q_tranposition]\n",
    "    return result\n",
    "    \n",
    "   \n",
    "    \n",
    "    \n",
    "    \n"
   ]
  },
  {
   "cell_type": "code",
   "execution_count": 72,
   "metadata": {
    "collapsed": false
   },
   "outputs": [
    {
     "data": {
      "text/plain": [
       "(x^2 + x + 1) * (x^4 + 4*x^3 + 4*x^2 + 4*x + 1)"
      ]
     },
     "execution_count": 72,
     "metadata": {
     },
     "output_type": "execute_result"
    }
   ],
   "source": [
    "p = 5\n",
    "q=5\n",
    "f=fekete(p)\n",
    "factor = fekete_reduction(f,q)\n",
    "factor"
   ]
  },
  {
   "cell_type": "code",
   "execution_count": 73,
   "metadata": {
    "collapsed": false
   },
   "outputs": [
    {
     "data": {
      "text/plain": [
       "(x + 9) * (x + 21) * (x^2 + 36*x + 1) * (x^4 + 10*x^3 + 33*x^2 + 10*x + 1) * (x^7 + 9*x^6 + 2*x^5 + x^4 + 35*x^3 + 13*x^2 + 22*x + 39) * (x^7 + 9*x^6 + 16*x^5 + 25*x^4 + 41*x^3 + 35*x^2 + 40*x + 41)"
      ]
     },
     "execution_count": 73,
     "metadata": {
     },
     "output_type": "execute_result"
    }
   ],
   "source": [
    "p=13\n",
    "q=47\n",
    "f=fekete(p)\n",
    "factor = fekete_reduction(f,q)\n",
    "factor"
   ]
  },
  {
   "cell_type": "code",
   "execution_count": 75,
   "metadata": {
    "collapsed": false
   },
   "outputs": [
    {
     "data": {
      "text/plain": [
       "(x + 353) * (x + 379) * (x^2 + 409*x + 1) * (x^4 + 11*x^3 + 204*x^2 + 11*x + 1) * (x^23 + 34*x^22 + 213*x^21 + 217*x^20 + 199*x^19 + 380*x^18 + 27*x^17 + 97*x^16 + 310*x^15 + 179*x^14 + 148*x^13 + 155*x^12 + 179*x^11 + 440*x^10 + 116*x^9 + 337*x^8 + 305*x^7 + 163*x^6 + 211*x^5 + 344*x^4 + 250*x^3 + 260*x^2 + 130*x + 162) * (x^23 + 143*x^22 + 286*x^21 + 275*x^20 + 24*x^19 + 365*x^18 + 135*x^17 + 114*x^16 + 415*x^15 + 39*x^14 + 41*x^13 + 64*x^12 + 392*x^11 + 340*x^10 + 64*x^9 + 341*x^8 + 151*x^7 + 74*x^6 + 418*x^5 + 86*x^4 + 283*x^3 + 190*x^2 + 126*x + 134)"
      ]
     },
     "execution_count": 75,
     "metadata": {
     },
     "output_type": "execute_result"
    }
   ],
   "source": [
    "p=29\n",
    "q=443\n",
    "f=fekete(p)\n",
    "factor = fekete_reduction(f,q)\n",
    "factor"
   ]
  },
  {
   "cell_type": "code",
   "execution_count": 76,
   "metadata": {
    "collapsed": false
   },
   "outputs": [
    {
     "data": {
      "text/plain": [
       "(x^2 + 128*x + 1) * (x^4 + 33*x^3 + 29*x^2 + 33*x + 1) * (x^11 + 109*x^10 + 38*x^9 + 84*x^8 + 100*x^7 + 54*x^6 + 35*x^5 + 21*x^4 + 28*x^3 + 26*x^2 + 18*x + 39) * (x^11 + 138*x^10 + 100*x^9 + 16*x^8 + 12*x^7 + 20*x^6 + 116*x^5 + 121*x^4 + 48*x^3 + 43*x^2 + 41*x + 107) * (x^21 + 44*x^20 + 89*x^19 + 29*x^18 + 70*x^17 + 35*x^16 + 9*x^15 + 83*x^14 + 71*x^13 + 24*x^12 + 56*x^11 + 107*x^10 + 141*x^9 + 17*x^8 + 69*x^7 + 47*x^6 + 95*x^5 + 33*x^4 + 25*x^3 + 129*x^2 + 80*x + 133) * (x^21 + 144*x^20 + 113*x^19 + 45*x^18 + 119*x^17 + 22*x^16 + 25*x^15 + 5*x^14 + 120*x^13 + 75*x^12 + 133*x^11 + 71*x^10 + 73*x^9 + 98*x^8 + 60*x^7 + 46*x^6 + 63*x^5 + 126*x^4 + 82*x^3 + 41*x^2 + 109*x + 121)"
      ]
     },
     "execution_count": 76,
     "metadata": {
     },
     "output_type": "execute_result"
    }
   ],
   "source": [
    "p=37\n",
    "q=149\n",
    "f=fekete(p)\n",
    "factor = fekete_reduction(f,q)\n",
    "factor"
   ]
  },
  {
   "cell_type": "code",
   "execution_count": 78,
   "metadata": {
    "collapsed": false
   },
   "outputs": [
    {
     "data": {
      "text/plain": [
       "(x + 31) * (x + 133) * (x^2 + 119*x + 1) * (x^4 + 138*x^3 + 131*x^2 + 138*x + 1) * (x^47 + 92*x^46 + 215*x^45 + 43*x^44 + 20*x^43 + 173*x^42 + 214*x^41 + 113*x^40 + 116*x^39 + 85*x^38 + 93*x^37 + 153*x^36 + 3*x^35 + 145*x^34 + 28*x^33 + 162*x^32 + 54*x^31 + 6*x^30 + 164*x^29 + 137*x^28 + 41*x^27 + 13*x^26 + 172*x^25 + 22*x^24 + 201*x^23 + 223*x^22 + 205*x^21 + 106*x^20 + 182*x^19 + 45*x^18 + 210*x^17 + 58*x^16 + 198*x^15 + 157*x^14 + 190*x^13 + 143*x^12 + 75*x^11 + 158*x^10 + 174*x^9 + 187*x^8 + 79*x^7 + 68*x^6 + 12*x^5 + 83*x^4 + 180*x^3 + 161*x^2 + 148*x + 193) * (x^47 + 174*x^46 + 180*x^45 + 224*x^44 + 144*x^43 + 76*x^42 + 49*x^41 + 195*x^40 + 192*x^39 + 186*x^38 + 161*x^37 + 17*x^36 + 66*x^35 + 211*x^34 + 2*x^33 + 109*x^32 + 62*x^31 + 185*x^30 + 56*x^29 + 84*x^28 + 137*x^27 + 77*x^26 + 191*x^25 + 128*x^24 + 63*x^23 + 97*x^22 + 6*x^21 + 107*x^20 + 28*x^19 + 199*x^18 + 38*x^17 + 113*x^16 + 110*x^15 + 101*x^14 + 155*x^13 + 19*x^12 + 53*x^11 + 131*x^10 + 4*x^9 + 124*x^8 + 105*x^7 + 134*x^6 + 27*x^5 + 203*x^4 + 196*x^3 + 64*x^2 + 201*x + 159)"
      ]
     },
     "execution_count": 78,
     "metadata": {
     },
     "output_type": "execute_result"
    }
   ],
   "source": [
    "p=53\n",
    "q=229\n",
    "f=fekete(p)\n",
    "factor = fekete_reduction(f,q)\n",
    "factor"
   ]
  },
  {
   "cell_type": "code",
   "execution_count": 79,
   "metadata": {
    "collapsed": false
   },
   "outputs": [
    {
     "data": {
      "text/plain": [
       "(x^2 + 34*x + 1) * (x^4 + 17*x^3 + 10*x^2 + 17*x + 1) * (x^23 + 17*x^22 + 8*x^21 + 21*x^20 + 18*x^19 + 24*x^18 + 25*x^16 + 26*x^15 + 17*x^14 + 17*x^12 + 7*x^11 + 5*x^10 + 10*x^9 + 20*x^8 + 5*x^7 + 19*x^6 + 29*x^5 + 35*x^4 + 23*x^3 + 12*x^2 + 35*x + 13) * (x^23 + 34*x^22 + 18*x^21 + 16*x^20 + 34*x^19 + 25*x^18 + 10*x^17 + 26*x^16 + 30*x^15 + 15*x^14 + 26*x^13 + 29*x^12 + 7*x^11 + 7*x^9 + 2*x^8 + 19*x^7 + 36*x^5 + 27*x^4 + 13*x^3 + 12*x^2 + 7*x + 20) * (x^33 + 11*x^32 + 28*x^31 + 23*x^30 + 13*x^29 + 6*x^28 + 23*x^27 + 33*x^26 + 21*x^25 + 36*x^24 + 19*x^23 + 13*x^22 + 13*x^21 + 33*x^20 + 5*x^19 + 35*x^18 + 2*x^17 + 24*x^16 + x^15 + 19*x^14 + 15*x^13 + 32*x^12 + 13*x^11 + 32*x^10 + 14*x^9 + 2*x^8 + 27*x^7 + x^6 + 33*x^5 + 3*x^4 + 22*x^3 + 29*x^2 + 14*x + 30) * (x^33 + 35*x^32 + 17*x^31 + 18*x^30 + 26*x^29 + 27*x^28 + 21*x^27 + 12*x^26 + 5*x^25 + 35*x^24 + 6*x^23 + 14*x^22 + 6*x^21 + 19*x^20 + 29*x^19 + 21*x^18 + 23*x^17 + 5*x^16 + 32*x^15 + 31*x^14 + 27*x^13 + 14*x^12 + 14*x^11 + 29*x^10 + 16*x^9 + 34*x^8 + 27*x^7 + 2*x^6 + 15*x^5 + 14*x^4 + 2*x^3 + 33*x^2 + 9*x + 21)"
      ]
     },
     "execution_count": 79,
     "metadata": {
     },
     "output_type": "execute_result"
    }
   ],
   "source": [
    "p=61\n",
    "q=37\n",
    "f=fekete(p)\n",
    "factor = fekete_reduction(f,q)\n",
    "factor"
   ]
  },
  {
   "cell_type": "markdown",
   "metadata": {
    "collapsed": false
   },
   "source": [
    "# (2)(4) cycle in the Galois group of $f_{\\Delta}$ "
   ]
  },
  {
   "cell_type": "code",
   "execution_count": 77,
   "metadata": {
    "collapsed": false
   },
   "outputs": [
    {
     "name": "stdout",
     "output_type": "stream",
     "text": [
      "5 5\n",
      "13 47\n",
      "29 443\n",
      "37 149\n"
     ]
    },
    {
     "name": "stdout",
     "output_type": "stream",
     "text": [
      "53 229\n",
      "61 37\n",
      "CPU times: user 412 ms, sys: 12.9 ms, total: 424 ms\n",
      "Wall time: 434 ms\n"
     ]
    }
   ],
   "source": [
    "%%time\n",
    "P=Primes()\n",
    "p = 5\n",
    "n = 10**5 \n",
    "while p < 100: \n",
    "    if p % 8 ==5:\n",
    "        f = fekete(p)\n",
    "        print(p, search_two_four_cycle(f,n))\n",
    "    p = P.next(p) "
   ]
  },
  {
   "cell_type": "code",
   "execution_count": 80,
   "metadata": {
    "collapsed": false
   },
   "outputs": [
    {
     "name": "stdout",
     "output_type": "stream",
     "text": [
      "101 1321\n"
     ]
    },
    {
     "name": "stdout",
     "output_type": "stream",
     "text": [
      "109 397\n"
     ]
    },
    {
     "name": "stdout",
     "output_type": "stream",
     "text": [
      "149 14887\n"
     ]
    },
    {
     "name": "stdout",
     "output_type": "stream",
     "text": [
      "157 617\n"
     ]
    },
    {
     "name": "stdout",
     "output_type": "stream",
     "text": [
      "173 47\n"
     ]
    },
    {
     "name": "stdout",
     "output_type": "stream",
     "text": [
      "181 9461\n"
     ]
    },
    {
     "name": "stdout",
     "output_type": "stream",
     "text": [
      "197 5479\n",
      "CPU times: user 4min 34s, sys: 329 ms, total: 4min 34s\n",
      "Wall time: 4min 41s\n"
     ]
    }
   ],
   "source": [
    "%%time\n",
    "P=Primes()\n",
    "p = 61\n",
    "n = 10**5 \n",
    "while p < 200: \n",
    "    p=P.next(p)\n",
    "    if p % 8 ==5:\n",
    "        f = fekete(p)\n",
    "        print(p, search_two_four_cycle(f,n))\n",
    " "
   ]
  },
  {
   "cell_type": "code",
   "execution_count": 81,
   "metadata": {
    "collapsed": false
   },
   "outputs": [
    {
     "name": "stdout",
     "output_type": "stream",
     "text": [
      "229 181\n"
     ]
    },
    {
     "name": "stdout",
     "output_type": "stream",
     "text": [
      "269 14843\n"
     ]
    },
    {
     "name": "stdout",
     "output_type": "stream",
     "text": [
      "277 4903\n"
     ]
    },
    {
     "name": "stdout",
     "output_type": "stream",
     "text": [
      "293 23327\n",
      "CPU times: user 21min 24s, sys: 1.65 s, total: 21min 25s\n",
      "Wall time: 22min 3s\n"
     ]
    }
   ],
   "source": [
    "%%time\n",
    "P=Primes()\n",
    "p = 200\n",
    "n = 10**5 \n",
    "while p < 300: \n",
    "    p=P.next(p)\n",
    "    if p % 8 ==5:\n",
    "        f = fekete(p)\n",
    "        print(p, search_two_four_cycle(f,n))\n",
    " "
   ]
  },
  {
   "cell_type": "code",
   "execution_count": 3,
   "metadata": {
    "collapsed": false
   },
   "outputs": [
    {
     "name": "stdout",
     "output_type": "stream",
     "text": [
      "317 9923\n"
     ]
    },
    {
     "name": "stdout",
     "output_type": "stream",
     "text": [
      "349 1361\n"
     ]
    },
    {
     "name": "stdout",
     "output_type": "stream",
     "text": [
      "373 6661\n"
     ]
    },
    {
     "name": "stdout",
     "output_type": "stream",
     "text": [
      "389 1153\n"
     ]
    },
    {
     "name": "stdout",
     "output_type": "stream",
     "text": [
      "397 4597\n",
      "CPU times: user 17min 49s, sys: 1.12 s, total: 17min 50s\n",
      "Wall time: 18min 24s\n"
     ]
    }
   ],
   "source": [
    "%%time\n",
    "P=Primes()\n",
    "p = 300\n",
    "n = 10**5 \n",
    "while p < 400: \n",
    "    p=P.next(p)\n",
    "    if p % 8 ==5:\n",
    "        f = fekete(p)\n",
    "        print(p, search_two_four_cycle(f,n))\n",
    " "
   ]
  },
  {
   "cell_type": "code",
   "execution_count": 4,
   "metadata": {
    "collapsed": false
   },
   "outputs": [
    {
     "name": "stdout",
     "output_type": "stream",
     "text": [
      "421 2617\n"
     ]
    },
    {
     "name": "stdout",
     "output_type": "stream",
     "text": [
      "461 12809\n",
      "CPU times: user 21min 38s, sys: 1.14 s, total: 21min 39s\n",
      "Wall time: 22min 25s\n"
     ]
    }
   ],
   "source": [
    "%%time\n",
    "P=Primes()\n",
    "p = 400\n",
    "n = 10**5 \n",
    "while p < 500: \n",
    "    p=P.next(p)\n",
    "    if p % 8 ==5:\n",
    "        f = fekete(p)\n",
    "        print(p, search_two_four_cycle(f,n))\n",
    " "
   ]
  },
  {
   "cell_type": "code",
   "execution_count": 5,
   "metadata": {
    "collapsed": false
   },
   "outputs": [
    {
     "name": "stdout",
     "output_type": "stream",
     "text": [
      "509 9277\n"
     ]
    },
    {
     "name": "stdout",
     "output_type": "stream",
     "text": [
      "541 10139\n"
     ]
    },
    {
     "name": "stdout",
     "output_type": "stream",
     "text": [
      "557 8537\n",
      "CPU times: user 57min 14s, sys: 2.81 s, total: 57min 17s\n",
      "Wall time: 58min 15s\n"
     ]
    }
   ],
   "source": [
    "%%time\n",
    "P=Primes()\n",
    "p = 500\n",
    "n = 10**5 \n",
    "while p < 600: \n",
    "    p=P.next(p)\n",
    "    if p % 8 ==5:\n",
    "        f = fekete(p)\n",
    "        print(p, search_two_four_cycle(f,n))\n",
    " "
   ]
  },
  {
   "cell_type": "code",
   "execution_count": 6,
   "metadata": {
    "collapsed": false
   },
   "outputs": [
    {
     "name": "stdout",
     "output_type": "stream",
     "text": [
      "613 26833\n"
     ]
    }
   ],
   "source": [
    "%%time\n",
    "P=Primes()\n",
    "p = 600\n",
    "n = 10**5 \n",
    "while p < 700: \n",
    "    p=P.next(p)\n",
    "    if p % 8 ==5:\n",
    "        f = fekete(p)\n",
    "        print(p, search_two_four_cycle(f,n))\n",
    " "
   ]
  },
  {
   "cell_type": "code",
   "execution_count": 5,
   "metadata": {
    "collapsed": false
   },
   "outputs": [
    {
     "name": "stdout",
     "output_type": "stream",
     "text": [
      "653 15271\n"
     ]
    }
   ],
   "source": [
    "%%time\n",
    "P=Primes()\n",
    "p = 613\n",
    "n = 10**5 \n",
    "while p < 660: \n",
    "    p=P.next(p)\n",
    "    if p % 8 ==5:\n",
    "        f = fekete(p)\n",
    "        print(p, search_two_four_cycle(f,n))"
   ]
  },
  {
   "cell_type": "code",
   "execution_count": 4,
   "metadata": {
    "collapsed": false
   },
   "outputs": [
    {
     "name": "stdout",
     "output_type": "stream",
     "text": [
      "661 10177\n"
     ]
    }
   ],
   "source": [
    "%%time\n",
    "P=Primes()\n",
    "p = 653\n",
    "n = 10**5 \n",
    "while p < 700: \n",
    "    p=P.next(p)\n",
    "    if p % 8 ==5:\n",
    "        f = fekete(p)\n",
    "        print(p, search_two_four_cycle(f,n))"
   ]
  },
  {
   "cell_type": "code",
   "execution_count": 5,
   "metadata": {
    "collapsed": false
   },
   "outputs": [
    {
     "name": "stdout",
     "output_type": "stream",
     "text": [
      "821\n",
      "829\n",
      "853\n",
      "877\n",
      "CPU times: user 1.9 ms, sys: 3.97 ms, total: 5.87 ms\n",
      "Wall time: 16.8 ms\n"
     ]
    }
   ],
   "source": [
    "%%time\n",
    "P=Primes()\n",
    "p = 797\n",
    "n = 10**5 \n",
    "while p < 900: \n",
    "    p=P.next(p)\n",
    "    if p % 8 ==5:\n",
    "        print(p)\n"
   ]
  },
  {
   "cell_type": "code",
   "execution_count": 4,
   "metadata": {
    "collapsed": false
   },
   "outputs": [
   ],
   "source": [
    "%%time\n",
    "p=677\n",
    "f=fekete(p)\n",
    "n=10**5\n",
    "print([p, search_two_four_cycle(f,n)])"
   ]
  },
  {
   "cell_type": "code",
   "execution_count": 3,
   "metadata": {
    "collapsed": false
   },
   "outputs": [
    {
     "name": "stdout",
     "output_type": "stream",
     "text": [
      "[701, 227]\n",
      "CPU times: user 33.9 s, sys: 61.5 ms, total: 34 s\n",
      "Wall time: 34.2 s\n"
     ]
    }
   ],
   "source": [
    "%%time\n",
    "p=701\n",
    "f=fekete(p)\n",
    "n=10**5\n",
    "print([p, search_two_four_cycle(f,n)])"
   ]
  },
  {
   "cell_type": "code",
   "execution_count": 4,
   "metadata": {
    "collapsed": false
   },
   "outputs": [
    {
     "name": "stdout",
     "output_type": "stream",
     "text": [
      "[709, 9203]\n",
      "CPU times: user 37min 8s, sys: 1.85 s, total: 37min 10s\n",
      "Wall time: 37min 33s\n"
     ]
    }
   ],
   "source": [
    "%%time\n",
    "p=709\n",
    "f=fekete(p)\n",
    "n=10**5\n",
    "print([p, search_two_four_cycle(f,n)])"
   ]
  },
  {
   "cell_type": "code",
   "execution_count": 5,
   "metadata": {
    "collapsed": false
   },
   "outputs": [
    {
     "name": "stdout",
     "output_type": "stream",
     "text": [
      "[733, 7639]\n",
      "CPU times: user 33min 3s, sys: 1.98 s, total: 33min 5s\n",
      "Wall time: 33min 29s\n"
     ]
    }
   ],
   "source": [
    "%%time\n",
    "p=733\n",
    "f=fekete(p)\n",
    "n=10**5\n",
    "print([p, search_two_four_cycle(f,n)])"
   ]
  },
  {
   "cell_type": "code",
   "execution_count": 4,
   "metadata": {
    "collapsed": false
   },
   "outputs": [
    {
     "name": "stdout",
     "output_type": "stream",
     "text": [
      "[757, 28753]\n",
      "CPU times: user 2h 34min 35s, sys: 9.69 s, total: 2h 34min 45s\n",
      "Wall time: 2h 37min 12s\n"
     ]
    }
   ],
   "source": [
    "%%time\n",
    "p=757\n",
    "f=fekete(p)\n",
    "n=10**5\n",
    "print([p, search_two_four_cycle(f,n)])"
   ]
  },
  {
   "cell_type": "code",
   "execution_count": 3,
   "metadata": {
    "collapsed": false
   },
   "outputs": [
    {
     "name": "stdout",
     "output_type": "stream",
     "text": [
      "[773, 17443]\n",
      "CPU times: user 1h 38min 45s, sys: 11.6 s, total: 1h 38min 57s\n",
      "Wall time: 1h 42min 2s\n"
     ]
    }
   ],
   "source": [
    "%%time\n",
    "p=773\n",
    "f=fekete(p)\n",
    "n=10**5\n",
    "print([p, search_two_four_cycle(f,n)])"
   ]
  },
  {
   "cell_type": "code",
   "execution_count": 4,
   "metadata": {
    "collapsed": false
   },
   "outputs": [
    {
     "name": "stdout",
     "output_type": "stream",
     "text": [
      "[797, 15671]\n",
      "CPU times: user 1h 34min 20s, sys: 10.1 s, total: 1h 34min 30s\n",
      "Wall time: 1h 36min 56s\n"
     ]
    }
   ],
   "source": [
    "%%time\n",
    "p=797\n",
    "f=fekete(p)\n",
    "n=10**5\n",
    "print([p, search_two_four_cycle(f,n)])"
   ]
  },
  {
   "cell_type": "code",
   "execution_count": 4,
   "metadata": {
    "collapsed": false
   },
   "outputs": [
    {
     "name": "stdout",
     "output_type": "stream",
     "text": [
      "[821, 7603]\n",
      "CPU times: user 43min 4s, sys: 2.47 s, total: 43min 7s\n",
      "Wall time: 43min 17s\n"
     ]
    }
   ],
   "source": [
    "%%time\n",
    "p=821\n",
    "f=fekete(p)\n",
    "n=10**5\n",
    "print([p, search_two_four_cycle(f,n)])"
   ]
  },
  {
   "cell_type": "code",
   "execution_count": 5,
   "metadata": {
    "collapsed": false
   },
   "outputs": [
    {
     "name": "stdout",
     "output_type": "stream",
     "text": [
      "[829, 7247]\n",
      "CPU times: user 43min 8s, sys: 3.06 s, total: 43min 11s\n",
      "Wall time: 44min 2s\n"
     ]
    }
   ],
   "source": [
    "%%time\n",
    "p=829\n",
    "f=fekete(p)\n",
    "n=10**5\n",
    "print([p, search_two_four_cycle(f,n)])"
   ]
  },
  {
   "cell_type": "code",
   "execution_count": 6,
   "metadata": {
    "collapsed": false
   },
   "outputs": [
    {
     "name": "stdout",
     "output_type": "stream",
     "text": [
      "[853, 3329]\n",
      "CPU times: user 19min 59s, sys: 1.31 s, total: 20min 1s\n",
      "Wall time: 20min 25s\n"
     ]
    }
   ],
   "source": [
    "%%time\n",
    "p=853\n",
    "f=fekete(p)\n",
    "n=10**5\n",
    "print([p, search_two_four_cycle(f,n)])"
   ]
  },
  {
   "cell_type": "code",
   "execution_count": 7,
   "metadata": {
    "collapsed": false
   },
   "outputs": [
    {
     "name": "stdout",
     "output_type": "stream",
     "text": [
      "[877, 1009]\n",
      "CPU times: user 7min 28s, sys: 516 ms, total: 7min 29s\n",
      "Wall time: 7min 38s\n"
     ]
    }
   ],
   "source": [
    "%%time\n",
    "p=877\n",
    "f=fekete(p)\n",
    "n=10**5\n",
    "print([p, search_two_four_cycle(f,n)])"
   ]
  },
  {
   "cell_type": "code",
   "execution_count": 9,
   "metadata": {
    "collapsed": false
   },
   "outputs": [
    {
     "name": "stdout",
     "output_type": "stream",
     "text": [
      "877\n",
      "941\n",
      "997\n",
      "CPU times: user 474 µs, sys: 0 ns, total: 474 µs\n",
      "Wall time: 386 µs\n"
     ]
    }
   ],
   "source": [
    "%%time\n",
    "P=Primes()\n",
    "p = 870\n",
    "n = 10**5 \n",
    "while p < 1000: \n",
    "    p=P.next(p)\n",
    "    if p % 8 ==5:\n",
    "        print(p)\n"
   ]
  },
  {
   "cell_type": "code",
   "execution_count": 10,
   "metadata": {
    "collapsed": false
   },
   "outputs": [
    {
     "name": "stdout",
     "output_type": "stream",
     "text": [
      "[941, 677]\n",
      "CPU times: user 4min 58s, sys: 440 ms, total: 4min 59s\n",
      "Wall time: 5min 5s\n"
     ]
    }
   ],
   "source": [
    "%%time\n",
    "p=941\n",
    "f=fekete(p)\n",
    "n=10**5\n",
    "print([p, search_two_four_cycle(f,n)])"
   ]
  },
  {
   "cell_type": "code",
   "execution_count": 11,
   "metadata": {
    "collapsed": false
   },
   "outputs": [
    {
     "name": "stdout",
     "output_type": "stream",
     "text": [
      "[997, 463]\n",
      "CPU times: user 3min 7s, sys: 218 ms, total: 3min 7s\n",
      "Wall time: 3min 12s\n"
     ]
    }
   ],
   "source": [
    "%%time\n",
    "p=997\n",
    "f=fekete(p)\n",
    "n=10**5\n",
    "print([p, search_two_four_cycle(f,n)])"
   ]
  },
  {
   "cell_type": "code",
   "execution_count": 4,
   "metadata": {
    "collapsed": false
   },
   "outputs": [
    {
     "name": "stdout",
     "output_type": "stream",
     "text": [
      "[677, 43781]\n",
      "CPU times: user 7min 14s, sys: 1.01 s, total: 7min 15s\n",
      "Wall time: 7min 17s\n"
     ]
    }
   ],
   "source": [
    "%%time\n",
    "p=677\n",
    "f=fekete(p)\n",
    "r=2000\n",
    "m=32*10**3+ 5*r\n",
    "n=m+r\n",
    "print([p, search_two_four_cycle_2(f,m,n)])"
   ]
  },
  {
   "cell_type": "code",
   "execution_count": 0,
   "metadata": {
    "collapsed": false
   },
   "outputs": [
   ],
   "source": [
   ]
  },
  {
   "cell_type": "code",
   "execution_count": 0,
   "metadata": {
    "collapsed": false
   },
   "outputs": [
   ],
   "source": [
   ]
  },
  {
   "cell_type": "code",
   "execution_count": 0,
   "metadata": {
    "collapsed": false
   },
   "outputs": [
   ],
   "source": [
   ]
  },
  {
   "cell_type": "code",
   "execution_count": 0,
   "metadata": {
    "collapsed": false
   },
   "outputs": [
   ],
   "source": [
   ]
  },
  {
   "cell_type": "code",
   "execution_count": 0,
   "metadata": {
    "collapsed": false
   },
   "outputs": [
   ],
   "source": [
   ]
  }
 ],
 "metadata": {
  "kernelspec": {
   "argv": [
    "sage-9.4",
    "--python",
    "-m",
    "sage.repl.ipython_kernel",
    "--matplotlib=inline",
    "-f",
    "{connection_file}"
   ],
   "display_name": "SageMath 9.4",
   "env": {
   },
   "language": "sagemath",
   "metadata": {
    "cocalc": {
     "description": "Open-source mathematical software system",
     "priority": 1,
     "url": "https://www.sagemath.org/"
    }
   },
   "name": "sage-9.4",
   "resource_dir": "/ext/jupyter/kernels/sage-9.4"
  },
  "language_info": {
   "codemirror_mode": {
    "name": "ipython",
    "version": 3
   },
   "file_extension": ".py",
   "mimetype": "text/x-python",
   "name": "python",
   "nbconvert_exporter": "python",
   "pygments_lexer": "ipython3",
   "version": "3.9.5"
  }
 },
 "nbformat": 4,
 "nbformat_minor": 4
}